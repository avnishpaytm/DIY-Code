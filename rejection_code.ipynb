{
 "cells": [
  {
   "cell_type": "code",
   "execution_count": 1,
   "metadata": {},
   "outputs": [],
   "source": [
    "import pandas as pd\n",
    "import numpy as np\n",
    "from datetime import datetime, timedelta\n",
    "from datetime import time\n",
    "\n",
    "import os\n"
   ]
  },
  {
   "cell_type": "code",
   "execution_count": 2,
   "metadata": {},
   "outputs": [],
   "source": [
    "input_file=\"diy_rejection_30-April'25.csv\"\n",
    "output_file=\"diy_mco_rejection_29th April'25.csv\""
   ]
  },
  {
   "cell_type": "code",
   "execution_count": 3,
   "metadata": {},
   "outputs": [],
   "source": [
    "#input_file=\"diy_all_rejection_01st April.csv\"\n",
    "#output_file=\"diy_mco_all_rejection_31st Mar'25.csv\""
   ]
  },
  {
   "cell_type": "code",
   "execution_count": 4,
   "metadata": {},
   "outputs": [
    {
     "data": {
      "text/plain": [
       "23562"
      ]
     },
     "execution_count": 4,
     "metadata": {},
     "output_type": "execute_result"
    }
   ],
   "source": [
    "rejection_data=pd.read_csv(input_file,low_memory=False,memory_map=True)\n",
    "len(rejection_data)"
   ]
  },
  {
   "cell_type": "code",
   "execution_count": 5,
   "metadata": {},
   "outputs": [
    {
     "data": {
      "text/html": [
       "<div>\n",
       "<style scoped>\n",
       "    .dataframe tbody tr th:only-of-type {\n",
       "        vertical-align: middle;\n",
       "    }\n",
       "\n",
       "    .dataframe tbody tr th {\n",
       "        vertical-align: top;\n",
       "    }\n",
       "\n",
       "    .dataframe thead th {\n",
       "        text-align: right;\n",
       "    }\n",
       "</style>\n",
       "<table border=\"1\" class=\"dataframe\">\n",
       "  <thead>\n",
       "    <tr style=\"text-align: right;\">\n",
       "      <th></th>\n",
       "      <th>cust_id</th>\n",
       "      <th>lead_id</th>\n",
       "      <th>entity_type</th>\n",
       "      <th>rejected_field_reason</th>\n",
       "      <th>rejected_field_name</th>\n",
       "      <th>updated_at</th>\n",
       "      <th>solution_type</th>\n",
       "      <th>solution_type_level_2</th>\n",
       "      <th>solution_type_level_3</th>\n",
       "    </tr>\n",
       "  </thead>\n",
       "  <tbody>\n",
       "    <tr>\n",
       "      <th>0</th>\n",
       "      <td>650876407</td>\n",
       "      <td>1233f752-86fc-4ae5-86d0-79edfddc0d38</td>\n",
       "      <td>INDIVIDUAL</td>\n",
       "      <td>Bank account holder mismatch with business/pro...</td>\n",
       "      <td>bankVerificationStatus</td>\n",
       "      <td>2025-04-02 10:12:15.000</td>\n",
       "      <td>diy_mco</td>\n",
       "      <td>NaN</td>\n",
       "      <td>NaN</td>\n",
       "    </tr>\n",
       "    <tr>\n",
       "      <th>1</th>\n",
       "      <td>650876407</td>\n",
       "      <td>1233f752-86fc-4ae5-86d0-79edfddc0d38</td>\n",
       "      <td>INDIVIDUAL</td>\n",
       "      <td>Random document uploaded</td>\n",
       "      <td>BankStatement</td>\n",
       "      <td>2025-04-02 10:12:15.000</td>\n",
       "      <td>diy_mco</td>\n",
       "      <td>NaN</td>\n",
       "      <td>NaN</td>\n",
       "    </tr>\n",
       "    <tr>\n",
       "      <th>2</th>\n",
       "      <td>1948180657</td>\n",
       "      <td>e184db8f-65ff-4938-aa5e-34d29b74898d</td>\n",
       "      <td>INDIVIDUAL</td>\n",
       "      <td>Savings account - Beneficiary name mismatch wi...</td>\n",
       "      <td>bankPassbook</td>\n",
       "      <td>2025-04-02 09:06:29.000</td>\n",
       "      <td>diy_mco</td>\n",
       "      <td>NaN</td>\n",
       "      <td>NaN</td>\n",
       "    </tr>\n",
       "    <tr>\n",
       "      <th>3</th>\n",
       "      <td>390772072</td>\n",
       "      <td>4d45edf7-b0d5-4055-a013-8c150a683235</td>\n",
       "      <td>PROPRIETORSHIP</td>\n",
       "      <td>Complete Shop photo not uploaded</td>\n",
       "      <td>shopFrontPhoto</td>\n",
       "      <td>2025-04-27 12:25:28.000</td>\n",
       "      <td>diy_mco</td>\n",
       "      <td>business_name_update</td>\n",
       "      <td>NaN</td>\n",
       "    </tr>\n",
       "    <tr>\n",
       "      <th>4</th>\n",
       "      <td>1018575036</td>\n",
       "      <td>93b2fad1-d2f5-47f0-aa17-11667dc83379</td>\n",
       "      <td>PROPRIETORSHIP</td>\n",
       "      <td>Random photo</td>\n",
       "      <td>udyam_udhyog_aadhaar</td>\n",
       "      <td>2025-04-25 11:33:29.000</td>\n",
       "      <td>diy_mco</td>\n",
       "      <td>display_name_update</td>\n",
       "      <td>NaN</td>\n",
       "    </tr>\n",
       "  </tbody>\n",
       "</table>\n",
       "</div>"
      ],
      "text/plain": [
       "      cust_id                               lead_id     entity_type  \\\n",
       "0   650876407  1233f752-86fc-4ae5-86d0-79edfddc0d38      INDIVIDUAL   \n",
       "1   650876407  1233f752-86fc-4ae5-86d0-79edfddc0d38      INDIVIDUAL   \n",
       "2  1948180657  e184db8f-65ff-4938-aa5e-34d29b74898d      INDIVIDUAL   \n",
       "3   390772072  4d45edf7-b0d5-4055-a013-8c150a683235  PROPRIETORSHIP   \n",
       "4  1018575036  93b2fad1-d2f5-47f0-aa17-11667dc83379  PROPRIETORSHIP   \n",
       "\n",
       "                               rejected_field_reason     rejected_field_name  \\\n",
       "0  Bank account holder mismatch with business/pro...  bankVerificationStatus   \n",
       "1                           Random document uploaded           BankStatement   \n",
       "2  Savings account - Beneficiary name mismatch wi...            bankPassbook   \n",
       "3                   Complete Shop photo not uploaded          shopFrontPhoto   \n",
       "4                                       Random photo    udyam_udhyog_aadhaar   \n",
       "\n",
       "                updated_at solution_type solution_type_level_2  \\\n",
       "0  2025-04-02 10:12:15.000       diy_mco                   NaN   \n",
       "1  2025-04-02 10:12:15.000       diy_mco                   NaN   \n",
       "2  2025-04-02 09:06:29.000       diy_mco                   NaN   \n",
       "3  2025-04-27 12:25:28.000       diy_mco  business_name_update   \n",
       "4  2025-04-25 11:33:29.000       diy_mco   display_name_update   \n",
       "\n",
       "  solution_type_level_3  \n",
       "0                   NaN  \n",
       "1                   NaN  \n",
       "2                   NaN  \n",
       "3                   NaN  \n",
       "4                   NaN  "
      ]
     },
     "execution_count": 5,
     "metadata": {},
     "output_type": "execute_result"
    }
   ],
   "source": [
    "rejection_data.head(5)"
   ]
  },
  {
   "cell_type": "code",
   "execution_count": 6,
   "metadata": {},
   "outputs": [
    {
     "data": {
      "text/html": [
       "<div>\n",
       "<style scoped>\n",
       "    .dataframe tbody tr th:only-of-type {\n",
       "        vertical-align: middle;\n",
       "    }\n",
       "\n",
       "    .dataframe tbody tr th {\n",
       "        vertical-align: top;\n",
       "    }\n",
       "\n",
       "    .dataframe thead th {\n",
       "        text-align: right;\n",
       "    }\n",
       "</style>\n",
       "<table border=\"1\" class=\"dataframe\">\n",
       "  <thead>\n",
       "    <tr style=\"text-align: right;\">\n",
       "      <th></th>\n",
       "      <th>cust_id</th>\n",
       "      <th>lead_id</th>\n",
       "      <th>entity_type</th>\n",
       "      <th>rejected_field_reason</th>\n",
       "      <th>rejected_field_name</th>\n",
       "      <th>updated_at</th>\n",
       "      <th>solution_type</th>\n",
       "      <th>solution_type_level_2</th>\n",
       "      <th>solution_type_level_3</th>\n",
       "    </tr>\n",
       "  </thead>\n",
       "  <tbody>\n",
       "    <tr>\n",
       "      <th>0</th>\n",
       "      <td>650876407</td>\n",
       "      <td>1233f752-86fc-4ae5-86d0-79edfddc0d38</td>\n",
       "      <td>INDIVIDUAL</td>\n",
       "      <td>Bank account holder mismatch with business/pro...</td>\n",
       "      <td>bankVerificationStatus</td>\n",
       "      <td>2025-04-02 10:12:15</td>\n",
       "      <td>diy_mco</td>\n",
       "      <td>NaN</td>\n",
       "      <td>NaN</td>\n",
       "    </tr>\n",
       "    <tr>\n",
       "      <th>1</th>\n",
       "      <td>650876407</td>\n",
       "      <td>1233f752-86fc-4ae5-86d0-79edfddc0d38</td>\n",
       "      <td>INDIVIDUAL</td>\n",
       "      <td>Random document uploaded</td>\n",
       "      <td>BankStatement</td>\n",
       "      <td>2025-04-02 10:12:15</td>\n",
       "      <td>diy_mco</td>\n",
       "      <td>NaN</td>\n",
       "      <td>NaN</td>\n",
       "    </tr>\n",
       "    <tr>\n",
       "      <th>2</th>\n",
       "      <td>1948180657</td>\n",
       "      <td>e184db8f-65ff-4938-aa5e-34d29b74898d</td>\n",
       "      <td>INDIVIDUAL</td>\n",
       "      <td>Savings account - Beneficiary name mismatch wi...</td>\n",
       "      <td>bankPassbook</td>\n",
       "      <td>2025-04-02 09:06:29</td>\n",
       "      <td>diy_mco</td>\n",
       "      <td>NaN</td>\n",
       "      <td>NaN</td>\n",
       "    </tr>\n",
       "    <tr>\n",
       "      <th>3</th>\n",
       "      <td>390772072</td>\n",
       "      <td>4d45edf7-b0d5-4055-a013-8c150a683235</td>\n",
       "      <td>PROPRIETORSHIP</td>\n",
       "      <td>Complete Shop photo not uploaded</td>\n",
       "      <td>shopFrontPhoto</td>\n",
       "      <td>2025-04-27 12:25:28</td>\n",
       "      <td>diy_mco</td>\n",
       "      <td>business_name_update</td>\n",
       "      <td>NaN</td>\n",
       "    </tr>\n",
       "    <tr>\n",
       "      <th>4</th>\n",
       "      <td>1018575036</td>\n",
       "      <td>93b2fad1-d2f5-47f0-aa17-11667dc83379</td>\n",
       "      <td>PROPRIETORSHIP</td>\n",
       "      <td>Random photo</td>\n",
       "      <td>udyam_udhyog_aadhaar</td>\n",
       "      <td>2025-04-25 11:33:29</td>\n",
       "      <td>diy_mco</td>\n",
       "      <td>display_name_update</td>\n",
       "      <td>NaN</td>\n",
       "    </tr>\n",
       "  </tbody>\n",
       "</table>\n",
       "</div>"
      ],
      "text/plain": [
       "      cust_id                               lead_id     entity_type  \\\n",
       "0   650876407  1233f752-86fc-4ae5-86d0-79edfddc0d38      INDIVIDUAL   \n",
       "1   650876407  1233f752-86fc-4ae5-86d0-79edfddc0d38      INDIVIDUAL   \n",
       "2  1948180657  e184db8f-65ff-4938-aa5e-34d29b74898d      INDIVIDUAL   \n",
       "3   390772072  4d45edf7-b0d5-4055-a013-8c150a683235  PROPRIETORSHIP   \n",
       "4  1018575036  93b2fad1-d2f5-47f0-aa17-11667dc83379  PROPRIETORSHIP   \n",
       "\n",
       "                               rejected_field_reason     rejected_field_name  \\\n",
       "0  Bank account holder mismatch with business/pro...  bankVerificationStatus   \n",
       "1                           Random document uploaded           BankStatement   \n",
       "2  Savings account - Beneficiary name mismatch wi...            bankPassbook   \n",
       "3                   Complete Shop photo not uploaded          shopFrontPhoto   \n",
       "4                                       Random photo    udyam_udhyog_aadhaar   \n",
       "\n",
       "           updated_at solution_type solution_type_level_2  \\\n",
       "0 2025-04-02 10:12:15       diy_mco                   NaN   \n",
       "1 2025-04-02 10:12:15       diy_mco                   NaN   \n",
       "2 2025-04-02 09:06:29       diy_mco                   NaN   \n",
       "3 2025-04-27 12:25:28       diy_mco  business_name_update   \n",
       "4 2025-04-25 11:33:29       diy_mco   display_name_update   \n",
       "\n",
       "  solution_type_level_3  \n",
       "0                   NaN  \n",
       "1                   NaN  \n",
       "2                   NaN  \n",
       "3                   NaN  \n",
       "4                   NaN  "
      ]
     },
     "execution_count": 6,
     "metadata": {},
     "output_type": "execute_result"
    }
   ],
   "source": [
    "rejection_data['updated_at']=pd.to_datetime(rejection_data['updated_at'],errors='coerce')\n",
    "rejection_data.head(5)"
   ]
  },
  {
   "cell_type": "code",
   "execution_count": 7,
   "metadata": {},
   "outputs": [
    {
     "data": {
      "text/plain": [
       "Timestamp('2025-04-30 00:00:00')"
      ]
     },
     "execution_count": 7,
     "metadata": {},
     "output_type": "execute_result"
    }
   ],
   "source": [
    "current_date = pd.Timestamp(datetime.now().date())\n",
    "current_date\n"
   ]
  },
  {
   "cell_type": "code",
   "execution_count": 8,
   "metadata": {},
   "outputs": [
    {
     "name": "stderr",
     "output_type": "stream",
     "text": [
      "c:\\ProgramData\\Anaconda3\\lib\\site-packages\\pandas\\core\\ops\\array_ops.py:73: FutureWarning: Comparison of Timestamp with datetime.date is deprecated in order to match the standard library behavior. In a future version these will be considered non-comparable. Use 'ts == pd.Timestamp(date)' or 'ts.date() == date' instead.\n",
      "  result = libops.scalar_compare(x.ravel(), y, op)\n"
     ]
    },
    {
     "data": {
      "text/plain": [
       "23032"
      ]
     },
     "execution_count": 8,
     "metadata": {},
     "output_type": "execute_result"
    }
   ],
   "source": [
    "rejection_data=rejection_data[rejection_data['updated_at'].dt.date != current_date]\n",
    "len(rejection_data)"
   ]
  },
  {
   "cell_type": "code",
   "execution_count": 9,
   "metadata": {},
   "outputs": [
    {
     "data": {
      "text/plain": [
       "12210"
      ]
     },
     "execution_count": 9,
     "metadata": {},
     "output_type": "execute_result"
    }
   ],
   "source": [
    "rejection_data=rejection_data[rejection_data['solution_type_level_2'].isin(['diy_upgrade','']) | rejection_data['solution_type_level_2'].isna()]\n",
    "len(rejection_data)"
   ]
  },
  {
   "cell_type": "code",
   "execution_count": 10,
   "metadata": {},
   "outputs": [
    {
     "data": {
      "text/plain": [
       "INDIVIDUAL            7220\n",
       "PROPRIETORSHIP        4951\n",
       "NON_PROPRIETORSHIP      39\n",
       "Name: entity_type, dtype: int64"
      ]
     },
     "execution_count": 10,
     "metadata": {},
     "output_type": "execute_result"
    }
   ],
   "source": [
    "rejection_data.loc[~rejection_data['entity_type'].isin(['INDIVIDUAL','PROPRIETORSHIP']),'entity_type']='NON_PROPRIETORSHIP'\n",
    "rejection_data['entity_type'].value_counts()"
   ]
  },
  {
   "cell_type": "code",
   "execution_count": 11,
   "metadata": {},
   "outputs": [
    {
     "data": {
      "text/plain": [
       "Index(['cust_id', 'lead_id', 'entity_type', 'entuty_type_1',\n",
       "       'rejected_field_reason', 'rejected_field_name', 'updated_at',\n",
       "       'solution_type', 'solution_type_level_2', 'solution_type_level_3'],\n",
       "      dtype='object')"
      ]
     },
     "execution_count": 11,
     "metadata": {},
     "output_type": "execute_result"
    }
   ],
   "source": [
    "rejection_data.insert(rejection_data.columns.get_loc('entity_type')+1,'entuty_type_1',np.nan)\n",
    "rejection_data.columns"
   ]
  },
  {
   "cell_type": "code",
   "execution_count": 12,
   "metadata": {},
   "outputs": [
    {
     "data": {
      "text/plain": [
       "INDIVIDUAL            7220\n",
       "PROPRIETORSHIP        4951\n",
       "NON_PROPRIETORSHIP      39\n",
       "Name: entuty_type_1, dtype: int64"
      ]
     },
     "execution_count": 12,
     "metadata": {},
     "output_type": "execute_result"
    }
   ],
   "source": [
    "rejection_data.loc[:, 'entuty_type_1'] = rejection_data['entity_type']\n",
    "rejection_data['entuty_type_1'].value_counts()"
   ]
  },
  {
   "cell_type": "code",
   "execution_count": 13,
   "metadata": {},
   "outputs": [
    {
     "data": {
      "text/plain": [
       "INDIVIDUAL    7220\n",
       "NON_EDC       4990\n",
       "Name: entuty_type_1, dtype: int64"
      ]
     },
     "execution_count": 13,
     "metadata": {},
     "output_type": "execute_result"
    }
   ],
   "source": [
    "rejection_data['entuty_type_1']=rejection_data['entuty_type_1'].replace(['PROPRIETORSHIP','NON_PROPRIETORSHIP'],'NON_EDC')\n",
    "rejection_data['entuty_type_1'].value_counts()"
   ]
  },
  {
   "cell_type": "code",
   "execution_count": 14,
   "metadata": {},
   "outputs": [
    {
     "data": {
      "text/plain": [
       "Index(['cust_id', 'lead_id', 'entity_type', 'entuty_type_1',\n",
       "       'rejected_field_reason', 'rejected_field_name', 'updated_at',\n",
       "       'solution_type', 'solution_type_level_2', 'solution_type_level_3'],\n",
       "      dtype='object')"
      ]
     },
     "execution_count": 14,
     "metadata": {},
     "output_type": "execute_result"
    }
   ],
   "source": [
    "rejection_data.columns"
   ]
  },
  {
   "cell_type": "code",
   "execution_count": 15,
   "metadata": {},
   "outputs": [],
   "source": [
    "rejection_data.loc[(rejection_data['entity_type']=='INDIVIDUAL') & (rejection_data['solution_type_level_2'].isna()),'solution_type']='DIY_MCO'\n",
    "rejection_data.loc[(rejection_data['entity_type']=='INDIVIDUAL') & (~rejection_data['solution_type_level_2'].isna()),'solution_type']='DIY_ReKYC'\n",
    "rejection_data.loc[~(rejection_data['entity_type']=='INDIVIDUAL'),'solution_type']='DIY_Upgrade'"
   ]
  },
  {
   "cell_type": "code",
   "execution_count": 16,
   "metadata": {},
   "outputs": [],
   "source": [
    "rejection_data.to_csv(output_file, index=False)"
   ]
  }
 ],
 "metadata": {
  "kernelspec": {
   "display_name": "base",
   "language": "python",
   "name": "python3"
  },
  "language_info": {
   "codemirror_mode": {
    "name": "ipython",
    "version": 3
   },
   "file_extension": ".py",
   "mimetype": "text/x-python",
   "name": "python",
   "nbconvert_exporter": "python",
   "pygments_lexer": "ipython3",
   "version": "3.9.12"
  }
 },
 "nbformat": 4,
 "nbformat_minor": 2
}
