{
 "cells": [
  {
   "cell_type": "code",
   "execution_count": 156,
   "metadata": {},
   "outputs": [],
   "source": [
    "import pandas as pd\n",
    "import numpy as np\n",
    "from datetime import datetime, timedelta\n",
    "from datetime import time\n",
    "\n",
    "import os"
   ]
  },
  {
   "cell_type": "code",
   "execution_count": 157,
   "metadata": {},
   "outputs": [],
   "source": [
    "pd.set_option('display.max_columns', None)\n",
    "pd.set_option('display.width', 0)"
   ]
  },
  {
   "cell_type": "code",
   "execution_count": 158,
   "metadata": {},
   "outputs": [],
   "source": [
    "file = \"diy_mco_14-May'25.csv\"\n",
    "raw_data=pd.read_csv(file,low_memory=False,memory_map=True)\n",
    "data=pd.read_csv(\"format.csv\",memory_map=True)\n",
    "table_data=pd.read_csv(\"table_data.csv\",memory_map=True)\n",
    "\n"
   ]
  },
  {
   "cell_type": "code",
   "execution_count": 159,
   "metadata": {},
   "outputs": [
    {
     "data": {
      "text/html": [
       "<div>\n",
       "<style scoped>\n",
       "    .dataframe tbody tr th:only-of-type {\n",
       "        vertical-align: middle;\n",
       "    }\n",
       "\n",
       "    .dataframe tbody tr th {\n",
       "        vertical-align: top;\n",
       "    }\n",
       "\n",
       "    .dataframe thead th {\n",
       "        text-align: right;\n",
       "    }\n",
       "</style>\n",
       "<table border=\"1\" class=\"dataframe\">\n",
       "  <thead>\n",
       "    <tr style=\"text-align: right;\">\n",
       "      <th></th>\n",
       "      <th>cust_id</th>\n",
       "      <th>lead_id</th>\n",
       "      <th>fse_cust_id</th>\n",
       "      <th>workflow_node_id</th>\n",
       "      <th>sub_stage</th>\n",
       "      <th>created_at</th>\n",
       "      <th>updated_at</th>\n",
       "      <th>solution_type_level_2</th>\n",
       "      <th>solution_type_level_3</th>\n",
       "      <th>entity_type</th>\n",
       "      <th>products_context</th>\n",
       "      <th>sbstage_count</th>\n",
       "      <th>name_match_status</th>\n",
       "      <th>mid</th>\n",
       "      <th>mid_creation_date</th>\n",
       "      <th>agent_team</th>\n",
       "      <th>qc_pending_max_created</th>\n",
       "      <th>panelqc_max_created</th>\n",
       "      <th>final_timestamp</th>\n",
       "      <th>first_qc_pending_min_created</th>\n",
       "      <th>sub_stage1</th>\n",
       "    </tr>\n",
       "  </thead>\n",
       "  <tbody>\n",
       "    <tr>\n",
       "      <th>0</th>\n",
       "      <td>666081567</td>\n",
       "      <td>9c5f55fe-24a4-4178-9394-e0794c009eaa</td>\n",
       "      <td>666081567</td>\n",
       "      <td>156</td>\n",
       "      <td>LEAD_SUCCESSFULLY_CLOSED</td>\n",
       "      <td>2025-05-14 00:21:40.000</td>\n",
       "      <td>2025-05-14 08:56:27.000</td>\n",
       "      <td>NaN</td>\n",
       "      <td>NaN</td>\n",
       "      <td>INDIVIDUAL</td>\n",
       "      <td>NaN</td>\n",
       "      <td>{\"PANEL_SUCCESS\":1}</td>\n",
       "      <td>True</td>\n",
       "      <td>jCTxSJ94279835497787</td>\n",
       "      <td>2025-05-14 08:51:03.000</td>\n",
       "      <td>NaN</td>\n",
       "      <td>2025-05-14 00:34:38.000</td>\n",
       "      <td>2025-05-14 08:50:56.000</td>\n",
       "      <td>2025-05-14 08:50:56.000</td>\n",
       "      <td>2025-05-14 00:34:38.000</td>\n",
       "      <td>NaN</td>\n",
       "    </tr>\n",
       "    <tr>\n",
       "      <th>1</th>\n",
       "      <td>1514813008</td>\n",
       "      <td>7e032624-629e-4cc0-8205-b89186fe4c00</td>\n",
       "      <td>1514813008</td>\n",
       "      <td>156</td>\n",
       "      <td>LEAD_SUCCESSFULLY_CLOSED</td>\n",
       "      <td>2025-05-13 17:45:32.000</td>\n",
       "      <td>2025-05-13 17:53:47.000</td>\n",
       "      <td>business_name_update</td>\n",
       "      <td>NaN</td>\n",
       "      <td>INDIVIDUAL</td>\n",
       "      <td>NaN</td>\n",
       "      <td>{\"PANEL_SUCCESS\":1}</td>\n",
       "      <td>True</td>\n",
       "      <td>WYaqhN31525914053720</td>\n",
       "      <td>2025-02-18 13:52:05.000</td>\n",
       "      <td>NaN</td>\n",
       "      <td>2025-05-13 17:48:45.000</td>\n",
       "      <td>2025-05-13 17:53:26.000</td>\n",
       "      <td>2025-05-13 17:53:26.000</td>\n",
       "      <td>2025-05-13 17:48:45.000</td>\n",
       "      <td>NaN</td>\n",
       "    </tr>\n",
       "    <tr>\n",
       "      <th>2</th>\n",
       "      <td>1271751704</td>\n",
       "      <td>119b4601-12f2-4e0c-86a6-a54eacc783b7</td>\n",
       "      <td>1271751704</td>\n",
       "      <td>156</td>\n",
       "      <td>LEAD_SUCCESSFULLY_CLOSED</td>\n",
       "      <td>2025-05-02 16:46:30.000</td>\n",
       "      <td>2025-05-02 17:11:21.000</td>\n",
       "      <td>NaN</td>\n",
       "      <td>NaN</td>\n",
       "      <td>INDIVIDUAL</td>\n",
       "      <td>NaN</td>\n",
       "      <td>{\"PANEL_SUCCESS\":1}</td>\n",
       "      <td>True</td>\n",
       "      <td>xHlWyj89555579387128</td>\n",
       "      <td>2025-05-02 16:56:41.000</td>\n",
       "      <td>NaN</td>\n",
       "      <td>2025-05-02 16:54:29.000</td>\n",
       "      <td>2025-05-02 16:56:29.000</td>\n",
       "      <td>2025-05-02 16:56:29.000</td>\n",
       "      <td>2025-05-02 16:54:29.000</td>\n",
       "      <td>NaN</td>\n",
       "    </tr>\n",
       "  </tbody>\n",
       "</table>\n",
       "</div>"
      ],
      "text/plain": [
       "      cust_id                               lead_id  fse_cust_id  \\\n",
       "0   666081567  9c5f55fe-24a4-4178-9394-e0794c009eaa    666081567   \n",
       "1  1514813008  7e032624-629e-4cc0-8205-b89186fe4c00   1514813008   \n",
       "2  1271751704  119b4601-12f2-4e0c-86a6-a54eacc783b7   1271751704   \n",
       "\n",
       "   workflow_node_id                 sub_stage               created_at  \\\n",
       "0               156  LEAD_SUCCESSFULLY_CLOSED  2025-05-14 00:21:40.000   \n",
       "1               156  LEAD_SUCCESSFULLY_CLOSED  2025-05-13 17:45:32.000   \n",
       "2               156  LEAD_SUCCESSFULLY_CLOSED  2025-05-02 16:46:30.000   \n",
       "\n",
       "                updated_at solution_type_level_2 solution_type_level_3  \\\n",
       "0  2025-05-14 08:56:27.000                   NaN                   NaN   \n",
       "1  2025-05-13 17:53:47.000  business_name_update                   NaN   \n",
       "2  2025-05-02 17:11:21.000                   NaN                   NaN   \n",
       "\n",
       "  entity_type  products_context        sbstage_count name_match_status  \\\n",
       "0  INDIVIDUAL               NaN  {\"PANEL_SUCCESS\":1}              True   \n",
       "1  INDIVIDUAL               NaN  {\"PANEL_SUCCESS\":1}              True   \n",
       "2  INDIVIDUAL               NaN  {\"PANEL_SUCCESS\":1}              True   \n",
       "\n",
       "                    mid        mid_creation_date agent_team  \\\n",
       "0  jCTxSJ94279835497787  2025-05-14 08:51:03.000        NaN   \n",
       "1  WYaqhN31525914053720  2025-02-18 13:52:05.000        NaN   \n",
       "2  xHlWyj89555579387128  2025-05-02 16:56:41.000        NaN   \n",
       "\n",
       "    qc_pending_max_created      panelqc_max_created          final_timestamp  \\\n",
       "0  2025-05-14 00:34:38.000  2025-05-14 08:50:56.000  2025-05-14 08:50:56.000   \n",
       "1  2025-05-13 17:48:45.000  2025-05-13 17:53:26.000  2025-05-13 17:53:26.000   \n",
       "2  2025-05-02 16:54:29.000  2025-05-02 16:56:29.000  2025-05-02 16:56:29.000   \n",
       "\n",
       "  first_qc_pending_min_created sub_stage1  \n",
       "0      2025-05-14 00:34:38.000        NaN  \n",
       "1      2025-05-13 17:48:45.000        NaN  \n",
       "2      2025-05-02 16:54:29.000        NaN  "
      ]
     },
     "execution_count": 159,
     "metadata": {},
     "output_type": "execute_result"
    }
   ],
   "source": [
    "raw_data.head(3)"
   ]
  },
  {
   "cell_type": "code",
   "execution_count": 160,
   "metadata": {},
   "outputs": [],
   "source": [
    "\n",
    "raw_data.insert(5,'q',0)"
   ]
  },
  {
   "cell_type": "code",
   "execution_count": 161,
   "metadata": {},
   "outputs": [
    {
     "data": {
      "text/plain": [
       "array(['Merchant Live', nan, 'Documents Rejected (Pending at Sales Team)',\n",
       "       'Lead stuck in Intermediate Stages (Dedupe/Risk/PG rejections) ',\n",
       "       'Lead Created/Posted (Pending at Sales team for  Document Upload)',\n",
       "       'Leads Rejected in Risk Review'], dtype=object)"
      ]
     },
     "execution_count": 161,
     "metadata": {},
     "output_type": "execute_result"
    }
   ],
   "source": [
    "table_map = table_data.set_index('NODE ID')['Lead Status'].to_dict()\n",
    "raw_data['q'] = raw_data['workflow_node_id'].map(table_map)\n",
    "\n",
    "raw_data['q'].unique()"
   ]
  },
  {
   "cell_type": "code",
   "execution_count": 162,
   "metadata": {},
   "outputs": [
    {
     "data": {
      "text/plain": [
       "array(['Merchant Live', nan, 'Documents Rejected (Pending at Sales Team)',\n",
       "       'Lead stuck in Intermediate Stages (Dedupe/Risk/PG rejections) ',\n",
       "       'Leads QC Auto Approved',\n",
       "       'Lead Created/Posted (Pending at Sales team for  Document Upload)',\n",
       "       'Leads Rejected in Risk Review'], dtype=object)"
      ]
     },
     "execution_count": 162,
     "metadata": {},
     "output_type": "execute_result"
    }
   ],
   "source": [
    "raw_data.loc[raw_data['sub_stage1']=='QC_AUTO_APPROVED','q']='Leads QC Auto Approved'\n",
    "\n",
    "raw_data['q'].unique()"
   ]
  },
  {
   "cell_type": "code",
   "execution_count": 163,
   "metadata": {},
   "outputs": [
    {
     "data": {
      "text/plain": [
       "sub_stage1\n",
       "QC_AUTO_APPROVED    178\n",
       "Name: count, dtype: int64"
      ]
     },
     "execution_count": 163,
     "metadata": {},
     "output_type": "execute_result"
    }
   ],
   "source": [
    "raw_data['sub_stage1'].value_counts()"
   ]
  },
  {
   "cell_type": "code",
   "execution_count": 164,
   "metadata": {},
   "outputs": [],
   "source": [
    "#raw_data.loc[raw_data['sub_stage1']=='QC_AUTO_APPROVED','q']='Leads QC Auto Approved'"
   ]
  },
  {
   "cell_type": "code",
   "execution_count": 165,
   "metadata": {},
   "outputs": [
    {
     "data": {
      "text/plain": [
       "q\n",
       "Merchant Live                                                       40635\n",
       "Documents Rejected (Pending at Sales Team)                           7546\n",
       "Lead stuck in Intermediate Stages (Dedupe/Risk/PG rejections)         212\n",
       "Leads QC Auto Approved                                                178\n",
       "Lead Created/Posted (Pending at Sales team for  Document Upload)       35\n",
       "Leads Rejected in Risk Review                                           1\n",
       "Name: count, dtype: int64"
      ]
     },
     "execution_count": 165,
     "metadata": {},
     "output_type": "execute_result"
    }
   ],
   "source": [
    "raw_data=raw_data.dropna(subset=['q'])\n",
    "\n",
    "raw_data['q'].value_counts()"
   ]
  },
  {
   "cell_type": "code",
   "execution_count": 166,
   "metadata": {},
   "outputs": [],
   "source": [
    "raw_data['remove_date']=raw_data['updated_at'].copy()\n",
    "\n",
    "raw_data['remove_date'] = pd.to_datetime(raw_data['remove_date'])\n",
    "\n",
    "raw_data['remove_date'] = raw_data['remove_date'].dt.strftime('%Y-%m-%d')\n",
    "\n",
    "raw_data['remove_date'] = pd.to_datetime(raw_data['remove_date'])\n"
   ]
  },
  {
   "cell_type": "code",
   "execution_count": 167,
   "metadata": {},
   "outputs": [],
   "source": [
    "\n",
    "current_timestamp = pd.Timestamp.now().normalize()\n",
    "\n",
    "raw_data=raw_data[raw_data['remove_date']!=current_timestamp]"
   ]
  },
  {
   "cell_type": "code",
   "execution_count": 168,
   "metadata": {},
   "outputs": [
    {
     "data": {
      "text/plain": [
       "47222"
      ]
     },
     "execution_count": 168,
     "metadata": {},
     "output_type": "execute_result"
    }
   ],
   "source": [
    "raw_data=raw_data.drop(columns=['remove_date'])\n",
    "len(raw_data)\n"
   ]
  },
  {
   "cell_type": "code",
   "execution_count": 169,
   "metadata": {},
   "outputs": [
    {
     "data": {
      "text/plain": [
       "array(['business_name_update', nan, 'pan_addition', 'display_name_update',\n",
       "       'diy_upgrade', 'ybl_rekyc_update', 'billing_address_update',\n",
       "       'auth_signatory_update', 'registered_address_update', 'gst_update',\n",
       "       'diy_edc'], dtype=object)"
      ]
     },
     "execution_count": 169,
     "metadata": {},
     "output_type": "execute_result"
    }
   ],
   "source": [
    "raw_data['solution_type_level_2'].unique()"
   ]
  },
  {
   "cell_type": "code",
   "execution_count": 170,
   "metadata": {},
   "outputs": [
    {
     "data": {
      "text/plain": [
       "21229"
      ]
     },
     "execution_count": 170,
     "metadata": {},
     "output_type": "execute_result"
    }
   ],
   "source": [
    "raw_data=raw_data[raw_data['solution_type_level_2'].isin(['diy_upgrade','']) | raw_data['solution_type_level_2'].isna()]\n",
    "len(raw_data)"
   ]
  },
  {
   "cell_type": "code",
   "execution_count": 171,
   "metadata": {},
   "outputs": [
    {
     "data": {
      "text/plain": [
       "array([nan, 'diy_upgrade'], dtype=object)"
      ]
     },
     "execution_count": 171,
     "metadata": {},
     "output_type": "execute_result"
    }
   ],
   "source": [
    "raw_data['solution_type_level_2'].unique()"
   ]
  },
  {
   "cell_type": "code",
   "execution_count": 172,
   "metadata": {},
   "outputs": [
    {
     "name": "stdout",
     "output_type": "stream",
     "text": [
      "21229\n"
     ]
    },
    {
     "data": {
      "text/html": [
       "<div>\n",
       "<style scoped>\n",
       "    .dataframe tbody tr th:only-of-type {\n",
       "        vertical-align: middle;\n",
       "    }\n",
       "\n",
       "    .dataframe tbody tr th {\n",
       "        vertical-align: top;\n",
       "    }\n",
       "\n",
       "    .dataframe thead th {\n",
       "        text-align: right;\n",
       "    }\n",
       "</style>\n",
       "<table border=\"1\" class=\"dataframe\">\n",
       "  <thead>\n",
       "    <tr style=\"text-align: right;\">\n",
       "      <th></th>\n",
       "      <th>cust_id</th>\n",
       "      <th>lead_id</th>\n",
       "      <th>fse_cust_id</th>\n",
       "      <th>workflow_node_id</th>\n",
       "      <th>sub_stage</th>\n",
       "      <th>q</th>\n",
       "      <th>created_at</th>\n",
       "      <th>updated_at</th>\n",
       "      <th>solution_type_level_2</th>\n",
       "      <th>solution_type_level_3</th>\n",
       "      <th>entity_type</th>\n",
       "      <th>products_context</th>\n",
       "      <th>sbstage_count</th>\n",
       "      <th>name_match_status</th>\n",
       "      <th>mid</th>\n",
       "      <th>mid_creation_date</th>\n",
       "      <th>agent_team</th>\n",
       "      <th>qc_pending_max_created</th>\n",
       "      <th>panelqc_max_created</th>\n",
       "      <th>final_timestamp</th>\n",
       "      <th>first_qc_pending_min_created</th>\n",
       "      <th>sub_stage1</th>\n",
       "    </tr>\n",
       "  </thead>\n",
       "  <tbody>\n",
       "    <tr>\n",
       "      <th>2</th>\n",
       "      <td>1271751704</td>\n",
       "      <td>119b4601-12f2-4e0c-86a6-a54eacc783b7</td>\n",
       "      <td>1271751704</td>\n",
       "      <td>156</td>\n",
       "      <td>LEAD_SUCCESSFULLY_CLOSED</td>\n",
       "      <td>Merchant Live</td>\n",
       "      <td>2025-05-02 16:46:30.000</td>\n",
       "      <td>2025-05-02 17:11:21.000</td>\n",
       "      <td>NaN</td>\n",
       "      <td>NaN</td>\n",
       "      <td>INDIVIDUAL</td>\n",
       "      <td>NaN</td>\n",
       "      <td>{\"PANEL_SUCCESS\":1}</td>\n",
       "      <td>True</td>\n",
       "      <td>xHlWyj89555579387128</td>\n",
       "      <td>2025-05-02 16:56:41.000</td>\n",
       "      <td>NaN</td>\n",
       "      <td>2025-05-02 16:54:29.000</td>\n",
       "      <td>2025-05-02 16:56:29.000</td>\n",
       "      <td>2025-05-02 16:56:29.000</td>\n",
       "      <td>2025-05-02 16:54:29.000</td>\n",
       "      <td>NaN</td>\n",
       "    </tr>\n",
       "    <tr>\n",
       "      <th>5</th>\n",
       "      <td>1470262724</td>\n",
       "      <td>bc20cc50-1e0d-4120-96ac-cfac7dc6f96e</td>\n",
       "      <td>1470262724</td>\n",
       "      <td>2099</td>\n",
       "      <td>PARTNER_PROFILE_CREATION_FAILURE</td>\n",
       "      <td>Merchant Live</td>\n",
       "      <td>2025-02-08 10:39:49.000</td>\n",
       "      <td>2025-05-09 09:22:42.000</td>\n",
       "      <td>NaN</td>\n",
       "      <td>NaN</td>\n",
       "      <td>INDIVIDUAL</td>\n",
       "      <td>NaN</td>\n",
       "      <td>{\"PANEL_SUCCESS\":1}</td>\n",
       "      <td>True</td>\n",
       "      <td>kJQCIh52247256207007</td>\n",
       "      <td>2025-05-09 09:22:17.000</td>\n",
       "      <td>NaN</td>\n",
       "      <td>2025-05-09 07:58:46.000</td>\n",
       "      <td>2025-05-09 09:22:11.000</td>\n",
       "      <td>2025-05-09 09:22:11.000</td>\n",
       "      <td>2025-05-09 07:58:46.000</td>\n",
       "      <td>NaN</td>\n",
       "    </tr>\n",
       "    <tr>\n",
       "      <th>9</th>\n",
       "      <td>1011269238</td>\n",
       "      <td>e06bd72c-1a41-4503-afc0-a74a348238c6</td>\n",
       "      <td>1011269238</td>\n",
       "      <td>156</td>\n",
       "      <td>LEAD_SUCCESSFULLY_CLOSED</td>\n",
       "      <td>Merchant Live</td>\n",
       "      <td>2025-05-04 17:02:19.000</td>\n",
       "      <td>2025-05-04 17:11:35.000</td>\n",
       "      <td>diy_upgrade</td>\n",
       "      <td>rekyc</td>\n",
       "      <td>INDIVIDUAL</td>\n",
       "      <td>NaN</td>\n",
       "      <td>{\"PANEL_SUCCESS\":1}</td>\n",
       "      <td>True</td>\n",
       "      <td>kAoRVp44007196228095</td>\n",
       "      <td>2022-09-06 13:23:47.000</td>\n",
       "      <td>NaN</td>\n",
       "      <td>2025-05-04 17:02:53.000</td>\n",
       "      <td>2025-05-04 17:11:20.000</td>\n",
       "      <td>2025-05-04 17:11:20.000</td>\n",
       "      <td>2025-05-04 17:02:53.000</td>\n",
       "      <td>NaN</td>\n",
       "    </tr>\n",
       "  </tbody>\n",
       "</table>\n",
       "</div>"
      ],
      "text/plain": [
       "      cust_id                               lead_id  fse_cust_id  \\\n",
       "2  1271751704  119b4601-12f2-4e0c-86a6-a54eacc783b7   1271751704   \n",
       "5  1470262724  bc20cc50-1e0d-4120-96ac-cfac7dc6f96e   1470262724   \n",
       "9  1011269238  e06bd72c-1a41-4503-afc0-a74a348238c6   1011269238   \n",
       "\n",
       "   workflow_node_id                         sub_stage              q  \\\n",
       "2               156          LEAD_SUCCESSFULLY_CLOSED  Merchant Live   \n",
       "5              2099  PARTNER_PROFILE_CREATION_FAILURE  Merchant Live   \n",
       "9               156          LEAD_SUCCESSFULLY_CLOSED  Merchant Live   \n",
       "\n",
       "                created_at               updated_at solution_type_level_2  \\\n",
       "2  2025-05-02 16:46:30.000  2025-05-02 17:11:21.000                   NaN   \n",
       "5  2025-02-08 10:39:49.000  2025-05-09 09:22:42.000                   NaN   \n",
       "9  2025-05-04 17:02:19.000  2025-05-04 17:11:35.000           diy_upgrade   \n",
       "\n",
       "  solution_type_level_3 entity_type  products_context        sbstage_count  \\\n",
       "2                   NaN  INDIVIDUAL               NaN  {\"PANEL_SUCCESS\":1}   \n",
       "5                   NaN  INDIVIDUAL               NaN  {\"PANEL_SUCCESS\":1}   \n",
       "9                 rekyc  INDIVIDUAL               NaN  {\"PANEL_SUCCESS\":1}   \n",
       "\n",
       "  name_match_status                   mid        mid_creation_date agent_team  \\\n",
       "2              True  xHlWyj89555579387128  2025-05-02 16:56:41.000        NaN   \n",
       "5              True  kJQCIh52247256207007  2025-05-09 09:22:17.000        NaN   \n",
       "9              True  kAoRVp44007196228095  2022-09-06 13:23:47.000        NaN   \n",
       "\n",
       "    qc_pending_max_created      panelqc_max_created          final_timestamp  \\\n",
       "2  2025-05-02 16:54:29.000  2025-05-02 16:56:29.000  2025-05-02 16:56:29.000   \n",
       "5  2025-05-09 07:58:46.000  2025-05-09 09:22:11.000  2025-05-09 09:22:11.000   \n",
       "9  2025-05-04 17:02:53.000  2025-05-04 17:11:20.000  2025-05-04 17:11:20.000   \n",
       "\n",
       "  first_qc_pending_min_created sub_stage1  \n",
       "2      2025-05-02 16:54:29.000        NaN  \n",
       "5      2025-05-09 07:58:46.000        NaN  \n",
       "9      2025-05-04 17:02:53.000        NaN  "
      ]
     },
     "execution_count": 172,
     "metadata": {},
     "output_type": "execute_result"
    }
   ],
   "source": [
    "print(len(raw_data))\n",
    "raw_data.head(3)"
   ]
  },
  {
   "cell_type": "code",
   "execution_count": 173,
   "metadata": {},
   "outputs": [
    {
     "data": {
      "text/plain": [
       "Index(['cust_id', 'lead_id', 'fse_cust_id', 'workflow_node_id', 'sub_stage',\n",
       "       'q', 'created_at', 'updated_at', 'solution_type_level_2',\n",
       "       'solution_type_level_3', 'entity_type', 'products_context',\n",
       "       'sbstage_count', 'name_match_status', 'mid', 'mid_creation_date',\n",
       "       'agent_team', 'qc_pending_max_created', 'panelqc_max_created',\n",
       "       'final_timestamp', 'first_qc_pending_min_created', 'sub_stage1'],\n",
       "      dtype='object')"
      ]
     },
     "execution_count": 173,
     "metadata": {},
     "output_type": "execute_result"
    }
   ],
   "source": [
    "raw_data.columns"
   ]
  },
  {
   "cell_type": "code",
   "execution_count": 174,
   "metadata": {},
   "outputs": [
    {
     "data": {
      "text/plain": [
       "Index(['Merchant Cust ID', 'Lead_ID', 'Entity_Type', 'Node_id', 'Lead_Stage',\n",
       "       'Lead Status', 'Created Timestamp', 'Updated Timestamp', 'Ageing',\n",
       "       'Product_Context', 'Name_Match_Status', '10K/1rs MID Status',\n",
       "       'Final TimeStamp', 'QC Panel Successful TimeStamp',\n",
       "       'Last QC Pending Timestamp', 'TAT', 'Merchant QC TAT slab',\n",
       "       'Working TimeSlab', 'New Off Time', 'New Last QC Pending Time',\n",
       "       'Stage movement count', 'Rejection Ageing', 'cust_id', 'agent_team',\n",
       "       'mid', 'mid_created_date', 'solution_type_level_3', 'solution_type'],\n",
       "      dtype='object')"
      ]
     },
     "execution_count": 174,
     "metadata": {},
     "output_type": "execute_result"
    }
   ],
   "source": [
    "data.columns"
   ]
  },
  {
   "cell_type": "code",
   "execution_count": 175,
   "metadata": {},
   "outputs": [
    {
     "data": {
      "text/plain": [
       "21229"
      ]
     },
     "execution_count": 175,
     "metadata": {},
     "output_type": "execute_result"
    }
   ],
   "source": [
    "data[['Merchant Cust ID', 'Lead_ID', 'Entity_Type', 'Node_id', 'Lead_Stage',\n",
    "       'Lead Status', 'Created Timestamp', 'Updated Timestamp',\n",
    "       'Product_Context', 'Name_Match_Status',\n",
    "       'Final TimeStamp', 'QC Panel Successful TimeStamp',\n",
    "       'Last QC Pending Timestamp',\n",
    "       'Stage movement count', 'cust_id', 'agent_team',\n",
    "       'mid', 'mid_created_date', 'solution_type_level_3','solution_type','first_qc_pending_min_created']]=raw_data[['cust_id', 'lead_id','entity_type','workflow_node_id', 'sub_stage',\n",
    "       'q', 'created_at', 'updated_at','products_context','name_match_status','final_timestamp','panelqc_max_created','qc_pending_max_created','sbstage_count','fse_cust_id','agent_team','mid','mid_creation_date','solution_type_level_2','solution_type_level_3','first_qc_pending_min_created']]\n",
    "       \n",
    "len(data)"
   ]
  },
  {
   "cell_type": "code",
   "execution_count": 176,
   "metadata": {},
   "outputs": [
    {
     "data": {
      "text/html": [
       "<div>\n",
       "<style scoped>\n",
       "    .dataframe tbody tr th:only-of-type {\n",
       "        vertical-align: middle;\n",
       "    }\n",
       "\n",
       "    .dataframe tbody tr th {\n",
       "        vertical-align: top;\n",
       "    }\n",
       "\n",
       "    .dataframe thead th {\n",
       "        text-align: right;\n",
       "    }\n",
       "</style>\n",
       "<table border=\"1\" class=\"dataframe\">\n",
       "  <thead>\n",
       "    <tr style=\"text-align: right;\">\n",
       "      <th></th>\n",
       "      <th>Merchant Cust ID</th>\n",
       "      <th>Lead_ID</th>\n",
       "      <th>Entity_Type</th>\n",
       "      <th>Node_id</th>\n",
       "      <th>Lead_Stage</th>\n",
       "      <th>Lead Status</th>\n",
       "      <th>Created Timestamp</th>\n",
       "      <th>Updated Timestamp</th>\n",
       "      <th>Ageing</th>\n",
       "      <th>Product_Context</th>\n",
       "      <th>Name_Match_Status</th>\n",
       "      <th>10K/1rs MID Status</th>\n",
       "      <th>Final TimeStamp</th>\n",
       "      <th>QC Panel Successful TimeStamp</th>\n",
       "      <th>Last QC Pending Timestamp</th>\n",
       "      <th>TAT</th>\n",
       "      <th>Merchant QC TAT slab</th>\n",
       "      <th>Working TimeSlab</th>\n",
       "      <th>New Off Time</th>\n",
       "      <th>New Last QC Pending Time</th>\n",
       "      <th>Stage movement count</th>\n",
       "      <th>Rejection Ageing</th>\n",
       "      <th>cust_id</th>\n",
       "      <th>agent_team</th>\n",
       "      <th>mid</th>\n",
       "      <th>mid_created_date</th>\n",
       "      <th>solution_type_level_3</th>\n",
       "      <th>solution_type</th>\n",
       "      <th>first_qc_pending_min_created</th>\n",
       "    </tr>\n",
       "  </thead>\n",
       "  <tbody>\n",
       "    <tr>\n",
       "      <th>2</th>\n",
       "      <td>1271751704</td>\n",
       "      <td>119b4601-12f2-4e0c-86a6-a54eacc783b7</td>\n",
       "      <td>INDIVIDUAL</td>\n",
       "      <td>156</td>\n",
       "      <td>LEAD_SUCCESSFULLY_CLOSED</td>\n",
       "      <td>Merchant Live</td>\n",
       "      <td>2025-05-02 16:46:30.000</td>\n",
       "      <td>2025-05-02 17:11:21.000</td>\n",
       "      <td>NaN</td>\n",
       "      <td>NaN</td>\n",
       "      <td>True</td>\n",
       "      <td>NaN</td>\n",
       "      <td>2025-05-02 16:56:29.000</td>\n",
       "      <td>2025-05-02 16:56:29.000</td>\n",
       "      <td>2025-05-02 16:54:29.000</td>\n",
       "      <td>NaN</td>\n",
       "      <td>NaN</td>\n",
       "      <td>NaN</td>\n",
       "      <td>NaN</td>\n",
       "      <td>NaN</td>\n",
       "      <td>{\"PANEL_SUCCESS\":1}</td>\n",
       "      <td>NaN</td>\n",
       "      <td>1271751704</td>\n",
       "      <td>NaN</td>\n",
       "      <td>xHlWyj89555579387128</td>\n",
       "      <td>2025-05-02 16:56:41.000</td>\n",
       "      <td>NaN</td>\n",
       "      <td>NaN</td>\n",
       "      <td>2025-05-02 16:54:29.000</td>\n",
       "    </tr>\n",
       "    <tr>\n",
       "      <th>5</th>\n",
       "      <td>1470262724</td>\n",
       "      <td>bc20cc50-1e0d-4120-96ac-cfac7dc6f96e</td>\n",
       "      <td>INDIVIDUAL</td>\n",
       "      <td>2099</td>\n",
       "      <td>PARTNER_PROFILE_CREATION_FAILURE</td>\n",
       "      <td>Merchant Live</td>\n",
       "      <td>2025-02-08 10:39:49.000</td>\n",
       "      <td>2025-05-09 09:22:42.000</td>\n",
       "      <td>NaN</td>\n",
       "      <td>NaN</td>\n",
       "      <td>True</td>\n",
       "      <td>NaN</td>\n",
       "      <td>2025-05-09 09:22:11.000</td>\n",
       "      <td>2025-05-09 09:22:11.000</td>\n",
       "      <td>2025-05-09 07:58:46.000</td>\n",
       "      <td>NaN</td>\n",
       "      <td>NaN</td>\n",
       "      <td>NaN</td>\n",
       "      <td>NaN</td>\n",
       "      <td>NaN</td>\n",
       "      <td>{\"PANEL_SUCCESS\":1}</td>\n",
       "      <td>NaN</td>\n",
       "      <td>1470262724</td>\n",
       "      <td>NaN</td>\n",
       "      <td>kJQCIh52247256207007</td>\n",
       "      <td>2025-05-09 09:22:17.000</td>\n",
       "      <td>NaN</td>\n",
       "      <td>NaN</td>\n",
       "      <td>2025-05-09 07:58:46.000</td>\n",
       "    </tr>\n",
       "    <tr>\n",
       "      <th>9</th>\n",
       "      <td>1011269238</td>\n",
       "      <td>e06bd72c-1a41-4503-afc0-a74a348238c6</td>\n",
       "      <td>INDIVIDUAL</td>\n",
       "      <td>156</td>\n",
       "      <td>LEAD_SUCCESSFULLY_CLOSED</td>\n",
       "      <td>Merchant Live</td>\n",
       "      <td>2025-05-04 17:02:19.000</td>\n",
       "      <td>2025-05-04 17:11:35.000</td>\n",
       "      <td>NaN</td>\n",
       "      <td>NaN</td>\n",
       "      <td>True</td>\n",
       "      <td>NaN</td>\n",
       "      <td>2025-05-04 17:11:20.000</td>\n",
       "      <td>2025-05-04 17:11:20.000</td>\n",
       "      <td>2025-05-04 17:02:53.000</td>\n",
       "      <td>NaN</td>\n",
       "      <td>NaN</td>\n",
       "      <td>NaN</td>\n",
       "      <td>NaN</td>\n",
       "      <td>NaN</td>\n",
       "      <td>{\"PANEL_SUCCESS\":1}</td>\n",
       "      <td>NaN</td>\n",
       "      <td>1011269238</td>\n",
       "      <td>NaN</td>\n",
       "      <td>kAoRVp44007196228095</td>\n",
       "      <td>2022-09-06 13:23:47.000</td>\n",
       "      <td>diy_upgrade</td>\n",
       "      <td>rekyc</td>\n",
       "      <td>2025-05-04 17:02:53.000</td>\n",
       "    </tr>\n",
       "  </tbody>\n",
       "</table>\n",
       "</div>"
      ],
      "text/plain": [
       "   Merchant Cust ID                               Lead_ID Entity_Type  \\\n",
       "2        1271751704  119b4601-12f2-4e0c-86a6-a54eacc783b7  INDIVIDUAL   \n",
       "5        1470262724  bc20cc50-1e0d-4120-96ac-cfac7dc6f96e  INDIVIDUAL   \n",
       "9        1011269238  e06bd72c-1a41-4503-afc0-a74a348238c6  INDIVIDUAL   \n",
       "\n",
       "   Node_id                        Lead_Stage    Lead Status  \\\n",
       "2      156          LEAD_SUCCESSFULLY_CLOSED  Merchant Live   \n",
       "5     2099  PARTNER_PROFILE_CREATION_FAILURE  Merchant Live   \n",
       "9      156          LEAD_SUCCESSFULLY_CLOSED  Merchant Live   \n",
       "\n",
       "         Created Timestamp        Updated Timestamp Ageing  Product_Context  \\\n",
       "2  2025-05-02 16:46:30.000  2025-05-02 17:11:21.000    NaN              NaN   \n",
       "5  2025-02-08 10:39:49.000  2025-05-09 09:22:42.000    NaN              NaN   \n",
       "9  2025-05-04 17:02:19.000  2025-05-04 17:11:35.000    NaN              NaN   \n",
       "\n",
       "  Name_Match_Status 10K/1rs MID Status          Final TimeStamp  \\\n",
       "2              True                NaN  2025-05-02 16:56:29.000   \n",
       "5              True                NaN  2025-05-09 09:22:11.000   \n",
       "9              True                NaN  2025-05-04 17:11:20.000   \n",
       "\n",
       "  QC Panel Successful TimeStamp Last QC Pending Timestamp  TAT  \\\n",
       "2       2025-05-02 16:56:29.000   2025-05-02 16:54:29.000  NaN   \n",
       "5       2025-05-09 09:22:11.000   2025-05-09 07:58:46.000  NaN   \n",
       "9       2025-05-04 17:11:20.000   2025-05-04 17:02:53.000  NaN   \n",
       "\n",
       "  Merchant QC TAT slab Working TimeSlab New Off Time New Last QC Pending Time  \\\n",
       "2                  NaN              NaN          NaN                      NaN   \n",
       "5                  NaN              NaN          NaN                      NaN   \n",
       "9                  NaN              NaN          NaN                      NaN   \n",
       "\n",
       "  Stage movement count Rejection Ageing     cust_id agent_team  \\\n",
       "2  {\"PANEL_SUCCESS\":1}              NaN  1271751704        NaN   \n",
       "5  {\"PANEL_SUCCESS\":1}              NaN  1470262724        NaN   \n",
       "9  {\"PANEL_SUCCESS\":1}              NaN  1011269238        NaN   \n",
       "\n",
       "                    mid         mid_created_date solution_type_level_3  \\\n",
       "2  xHlWyj89555579387128  2025-05-02 16:56:41.000                   NaN   \n",
       "5  kJQCIh52247256207007  2025-05-09 09:22:17.000                   NaN   \n",
       "9  kAoRVp44007196228095  2022-09-06 13:23:47.000           diy_upgrade   \n",
       "\n",
       "  solution_type first_qc_pending_min_created  \n",
       "2           NaN      2025-05-02 16:54:29.000  \n",
       "5           NaN      2025-05-09 07:58:46.000  \n",
       "9         rekyc      2025-05-04 17:02:53.000  "
      ]
     },
     "execution_count": 176,
     "metadata": {},
     "output_type": "execute_result"
    }
   ],
   "source": [
    "data.head(3)\n"
   ]
  },
  {
   "cell_type": "code",
   "execution_count": 177,
   "metadata": {},
   "outputs": [],
   "source": [
    "data['Updated Timestamp']=pd.to_datetime(data['Updated Timestamp'])\n",
    "data['Created Timestamp']=pd.to_datetime(data['Created Timestamp'])\n",
    "data['QC Panel Successful TimeStamp']=pd.to_datetime(data['QC Panel Successful TimeStamp'])\n"
   ]
  },
  {
   "cell_type": "code",
   "execution_count": 178,
   "metadata": {},
   "outputs": [
    {
     "name": "stdout",
     "output_type": "stream",
     "text": [
      "2024-10-15 00:00:00\n",
      "<class 'datetime.datetime'>\n",
      "15\n",
      "10\n",
      "2024\n"
     ]
    }
   ],
   "source": [
    "user_date = '2024-10-15'  # Example: YYYY-MM-DD format\n",
    "\n",
    "# Convert the combined string into a datetime object\n",
    "custom_timestamp = datetime.strptime(user_date, '%Y-%m-%d')\n",
    "\n",
    "print(custom_timestamp)\n",
    "print(type(custom_timestamp))\n",
    "\n",
    "current_day = custom_timestamp.day\n",
    "current_month = custom_timestamp.month\n",
    "current_year = custom_timestamp.year\n",
    "\n",
    "print(current_day)\n",
    "print(current_month)\n",
    "print(current_year)\n"
   ]
  },
  {
   "cell_type": "code",
   "execution_count": 179,
   "metadata": {},
   "outputs": [
    {
     "name": "stdout",
     "output_type": "stream",
     "text": [
      "2025-05-07 18:04:34.704814\n"
     ]
    }
   ],
   "source": [
    "current_date = datetime.now() - timedelta(days=7)\n",
    "current_day = current_date.day\n",
    "current_month = current_date.month\n",
    "current_year = current_date.year\n",
    "print(current_date)\n",
    "\n",
    "data.loc[(data['Updated Timestamp'].dt.day>=current_day) &\n",
    "         (data['Updated Timestamp'].dt.month==current_month) &\n",
    "         (data['Updated Timestamp'].dt.year==current_year), 'Ageing']='Last 7 days'"
   ]
  },
  {
   "cell_type": "code",
   "execution_count": 180,
   "metadata": {},
   "outputs": [],
   "source": [
    "current_date = datetime.now() - timedelta(days=1)\n",
    "current_day = current_date.day\n",
    "current_month = current_date.month\n",
    "current_year = current_date.year\n",
    "current_date\n",
    "\n",
    "data.loc[(data['Updated Timestamp'].dt.day==current_day) &\n",
    "         (data['Updated Timestamp'].dt.month==current_month) &\n",
    "         (data['Updated Timestamp'].dt.year==current_year), 'Ageing']='Yesterday'"
   ]
  },
  {
   "cell_type": "code",
   "execution_count": 181,
   "metadata": {},
   "outputs": [],
   "source": [
    "data['Ageing']=data['Ageing'].fillna('')"
   ]
  },
  {
   "cell_type": "code",
   "execution_count": 182,
   "metadata": {},
   "outputs": [
    {
     "data": {
      "text/plain": [
       "Ageing\n",
       "Last 7 days    9775\n",
       "               9549\n",
       "Yesterday      1905\n",
       "Name: count, dtype: int64"
      ]
     },
     "execution_count": 182,
     "metadata": {},
     "output_type": "execute_result"
    }
   ],
   "source": [
    "data['Ageing'].value_counts()"
   ]
  },
  {
   "cell_type": "code",
   "execution_count": 183,
   "metadata": {},
   "outputs": [],
   "source": [
    "\n",
    "\n",
    "data.loc[data['Name_Match_Status']==True, ['Name_Match_Status', '10K/1rs MID Status']]=['Name Matched','10k MID created']\n",
    "\n",
    "data.loc[data['Name_Match_Status']==False, ['Name_Match_Status', '10K/1rs MID Status']]=['Name Not Matched','1Rs MID created']"
   ]
  },
  {
   "cell_type": "code",
   "execution_count": 184,
   "metadata": {},
   "outputs": [],
   "source": [
    "data['Name_Match_Status']=data['Name_Match_Status'].fillna('')"
   ]
  },
  {
   "cell_type": "code",
   "execution_count": 185,
   "metadata": {},
   "outputs": [
    {
     "data": {
      "text/plain": [
       "Name_Match_Status\n",
       "Name Matched        18288\n",
       "Name Not Matched     2941\n",
       "Name: count, dtype: int64"
      ]
     },
     "execution_count": 185,
     "metadata": {},
     "output_type": "execute_result"
    }
   ],
   "source": [
    "data['Name_Match_Status'].value_counts()"
   ]
  },
  {
   "cell_type": "code",
   "execution_count": 186,
   "metadata": {},
   "outputs": [
    {
     "data": {
      "text/plain": [
       "Series([], Name: count, dtype: int64)"
      ]
     },
     "execution_count": 186,
     "metadata": {},
     "output_type": "execute_result"
    }
   ],
   "source": [
    "data['Product_Context'].value_counts()"
   ]
  },
  {
   "cell_type": "code",
   "execution_count": 187,
   "metadata": {},
   "outputs": [],
   "source": [
    "data['mid_created_date']=pd.to_datetime(data['mid_created_date'],errors='coerce')"
   ]
  },
  {
   "cell_type": "code",
   "execution_count": 188,
   "metadata": {},
   "outputs": [
    {
     "data": {
      "text/plain": [
       "2    2025-05-02 16:56:41\n",
       "5    2025-05-09 09:22:17\n",
       "9    2022-09-06 13:23:47\n",
       "16   2025-05-10 14:02:42\n",
       "17   2025-05-08 10:11:11\n",
       "19   2025-05-12 08:29:58\n",
       "24   2025-05-01 11:53:25\n",
       "26   2022-01-24 14:04:48\n",
       "27   2025-05-01 08:11:25\n",
       "30   2025-05-08 11:21:02\n",
       "Name: mid_created_date, dtype: datetime64[ns]"
      ]
     },
     "execution_count": 188,
     "metadata": {},
     "output_type": "execute_result"
    }
   ],
   "source": [
    "data['mid_created_date'].head(10)"
   ]
  },
  {
   "cell_type": "code",
   "execution_count": 189,
   "metadata": {},
   "outputs": [
    {
     "data": {
      "text/plain": [
       "Index(['Merchant Cust ID', 'Lead_ID', 'Entity_Type', 'Node_id', 'Lead_Stage',\n",
       "       'Lead Status', 'Created Timestamp', 'Updated Timestamp', 'Ageing',\n",
       "       'Product_Context', 'Name_Match_Status', '10K/1rs MID Status',\n",
       "       'Final TimeStamp', 'QC Panel Successful TimeStamp',\n",
       "       'Last QC Pending Timestamp', 'TAT', 'Merchant QC TAT slab',\n",
       "       'Working TimeSlab', 'New Off Time', 'New Last QC Pending Time',\n",
       "       'Stage movement count', 'Rejection Ageing', 'cust_id', 'agent_team',\n",
       "       'mid', 'mid_created_date', 'solution_type_level_3', 'solution_type',\n",
       "       'first_qc_pending_min_created'],\n",
       "      dtype='object')"
      ]
     },
     "execution_count": 189,
     "metadata": {},
     "output_type": "execute_result"
    }
   ],
   "source": [
    "data.columns"
   ]
  },
  {
   "cell_type": "code",
   "execution_count": 190,
   "metadata": {},
   "outputs": [
    {
     "name": "stdout",
     "output_type": "stream",
     "text": [
      "2025-05-07 18:04:34.888916\n"
     ]
    }
   ],
   "source": [
    "current_date = datetime.now() - timedelta(days=7)\n",
    "current_day = current_date.day\n",
    "current_month = current_date.month\n",
    "current_year = current_date.year\n",
    "print(current_date)\n",
    "\n",
    "data.loc[ (data['Lead Status']== 'Documents Rejected (Pending at Sales Team)') & ((data['Updated Timestamp'].dt.day<current_day) &\n",
    "         (data['Updated Timestamp'].dt.month==current_month) &\n",
    "         (data['Updated Timestamp'].dt.year==current_year)), 'Rejection Ageing']='More Than 7 Days'"
   ]
  },
  {
   "cell_type": "code",
   "execution_count": 191,
   "metadata": {},
   "outputs": [],
   "source": [
    "current_date = datetime.now() - timedelta(days=7)\n",
    "current_day = current_date.day\n",
    "current_month = current_date.month\n",
    "current_year = current_date.year\n",
    "current_date\n",
    "\n",
    "data.loc[ (data['Lead Status']== 'Documents Rejected (Pending at Sales Team)') & ((data['Updated Timestamp'].dt.day>=current_day) &\n",
    "         (data['Updated Timestamp'].dt.month==current_month) &\n",
    "         (data['Updated Timestamp'].dt.year==current_year)), 'Rejection Ageing']='6-7 Days'"
   ]
  },
  {
   "cell_type": "code",
   "execution_count": 192,
   "metadata": {},
   "outputs": [],
   "source": [
    "current_date = datetime.now() - timedelta(days=5)\n",
    "current_day = current_date.day\n",
    "current_month = current_date.month\n",
    "current_year = current_date.year\n",
    "current_date\n",
    "\n",
    "data.loc[ (data['Lead Status']== 'Documents Rejected (Pending at Sales Team)') & ((data['Updated Timestamp'].dt.day>=current_day) &\n",
    "         (data['Updated Timestamp'].dt.month==current_month) &\n",
    "         (data['Updated Timestamp'].dt.year==current_year)), 'Rejection Ageing']='4-5 Days'"
   ]
  },
  {
   "cell_type": "code",
   "execution_count": 193,
   "metadata": {},
   "outputs": [],
   "source": [
    "current_date = datetime.now() - timedelta(days=3)\n",
    "current_day = current_date.day\n",
    "current_month = current_date.month\n",
    "current_year = current_date.year\n",
    "current_date\n",
    "\n",
    "data.loc[ (data['Lead Status']== 'Documents Rejected (Pending at Sales Team)') & ((data['Updated Timestamp'].dt.day>=current_day) &\n",
    "         (data['Updated Timestamp'].dt.month==current_month) &\n",
    "         (data['Updated Timestamp'].dt.year==current_year)), 'Rejection Ageing']='2-3 Days'"
   ]
  },
  {
   "cell_type": "code",
   "execution_count": 194,
   "metadata": {},
   "outputs": [],
   "source": [
    "current_date = datetime.now() - timedelta(days=1)\n",
    "current_day = current_date.day\n",
    "current_month = current_date.month\n",
    "current_year = current_date.year\n",
    "current_date\n",
    "\n",
    "data.loc[ (data['Lead Status']== 'Documents Rejected (Pending at Sales Team)') & ((data['Updated Timestamp'].dt.day==current_day) &\n",
    "         (data['Updated Timestamp'].dt.month==current_month) &\n",
    "         (data['Updated Timestamp'].dt.year==current_year)), 'Rejection Ageing']='Less Than 1 Day'"
   ]
  },
  {
   "cell_type": "code",
   "execution_count": 195,
   "metadata": {},
   "outputs": [
    {
     "data": {
      "text/plain": [
       "Rejection Ageing\n",
       "More Than 7 Days    1684\n",
       "2-3 Days             715\n",
       "4-5 Days             597\n",
       "6-7 Days             568\n",
       "Less Than 1 Day      471\n",
       "Name: count, dtype: int64"
      ]
     },
     "execution_count": 195,
     "metadata": {},
     "output_type": "execute_result"
    }
   ],
   "source": [
    "data['Rejection Ageing'].value_counts()"
   ]
  },
  {
   "cell_type": "code",
   "execution_count": 196,
   "metadata": {},
   "outputs": [
    {
     "data": {
      "text/plain": [
       "Rejection Ageing\n",
       "More Than 7 Days    1684\n",
       "2-3 Days             715\n",
       "4-5 Days             597\n",
       "6-7 Days             568\n",
       "Less Than 1 Day      471\n",
       "Name: count, dtype: int64"
      ]
     },
     "execution_count": 196,
     "metadata": {},
     "output_type": "execute_result"
    }
   ],
   "source": [
    "data['Rejection Ageing'].value_counts()"
   ]
  },
  {
   "cell_type": "code",
   "execution_count": 197,
   "metadata": {},
   "outputs": [],
   "source": [
    "data.loc[~data['Entity_Type'].isin(['INDIVIDUAL','PROPRIETORSHIP']),'Entity_Type']='NON_PROPRIETORSHIP'"
   ]
  },
  {
   "cell_type": "code",
   "execution_count": 198,
   "metadata": {},
   "outputs": [
    {
     "data": {
      "text/plain": [
       "Entity_Type\n",
       "INDIVIDUAL            19382\n",
       "PROPRIETORSHIP         1840\n",
       "NON_PROPRIETORSHIP        7\n",
       "Name: count, dtype: int64"
      ]
     },
     "execution_count": 198,
     "metadata": {},
     "output_type": "execute_result"
    }
   ],
   "source": [
    "data['Entity_Type'].value_counts()"
   ]
  },
  {
   "cell_type": "code",
   "execution_count": 199,
   "metadata": {},
   "outputs": [
    {
     "data": {
      "text/plain": [
       "Index(['Merchant Cust ID', 'Lead_ID', 'Entity_Type', 'Node_id', 'Lead_Stage',\n",
       "       'Lead Status', 'Created Timestamp', 'Updated Timestamp', 'Ageing',\n",
       "       'Product_Context', 'Name_Match_Status', '10K/1rs MID Status',\n",
       "       'Final TimeStamp', 'QC Panel Successful TimeStamp',\n",
       "       'Last QC Pending Timestamp', 'TAT', 'Merchant QC TAT slab',\n",
       "       'Working TimeSlab', 'New Off Time', 'New Last QC Pending Time',\n",
       "       'Stage movement count', 'Rejection Ageing', 'cust_id', 'agent_team',\n",
       "       'mid', 'mid_created_date', 'solution_type_level_3', 'solution_type',\n",
       "       'first_qc_pending_min_created'],\n",
       "      dtype='object')"
      ]
     },
     "execution_count": 199,
     "metadata": {},
     "output_type": "execute_result"
    }
   ],
   "source": [
    "data.columns"
   ]
  },
  {
   "cell_type": "code",
   "execution_count": 200,
   "metadata": {},
   "outputs": [
    {
     "data": {
      "text/plain": [
       "Lead Status\n",
       "Merchant Live                                                     16963\n",
       "Documents Rejected (Pending at Sales Team)                         4035\n",
       "Leads QC Auto Approved                                              166\n",
       "Lead stuck in Intermediate Stages (Dedupe/Risk/PG rejections)        65\n",
       "Name: count, dtype: int64"
      ]
     },
     "execution_count": 200,
     "metadata": {},
     "output_type": "execute_result"
    }
   ],
   "source": [
    "data['Lead Status'].value_counts()"
   ]
  },
  {
   "cell_type": "code",
   "execution_count": 201,
   "metadata": {},
   "outputs": [
    {
     "name": "stdout",
     "output_type": "stream",
     "text": [
      "0\n"
     ]
    },
    {
     "data": {
      "text/html": [
       "<div>\n",
       "<style scoped>\n",
       "    .dataframe tbody tr th:only-of-type {\n",
       "        vertical-align: middle;\n",
       "    }\n",
       "\n",
       "    .dataframe tbody tr th {\n",
       "        vertical-align: top;\n",
       "    }\n",
       "\n",
       "    .dataframe thead th {\n",
       "        text-align: right;\n",
       "    }\n",
       "</style>\n",
       "<table border=\"1\" class=\"dataframe\">\n",
       "  <thead>\n",
       "    <tr style=\"text-align: right;\">\n",
       "      <th></th>\n",
       "      <th>Lead_ID</th>\n",
       "      <th>id</th>\n",
       "    </tr>\n",
       "  </thead>\n",
       "  <tbody>\n",
       "  </tbody>\n",
       "</table>\n",
       "</div>"
      ],
      "text/plain": [
       "Empty DataFrame\n",
       "Columns: [Lead_ID, id]\n",
       "Index: []"
      ]
     },
     "execution_count": 201,
     "metadata": {},
     "output_type": "execute_result"
    }
   ],
   "source": [
    "null_rejected_timeStamp=data[(data['Lead Status']=='Documents Rejected (Pending at Sales Team)')&(data['Last QC Pending Timestamp'].isnull())]\n",
    "\n",
    "\n",
    "null_rejected_timeStamp=null_rejected_timeStamp[['Lead_ID']]\n",
    "\n",
    "print(len(null_rejected_timeStamp))\n",
    "\n",
    "null_rejected_timeStamp['id']=\"'\" + null_rejected_timeStamp['Lead_ID'] + \"'\" + \",\"\n",
    "\n",
    "null_rejected_timeStamp.head(3)\n",
    "\n",
    "#null_rejected_timeStamp.to_csv(\"rejected_null.csv\", index=False)\n"
   ]
  },
  {
   "cell_type": "code",
   "execution_count": 202,
   "metadata": {},
   "outputs": [
    {
     "name": "stdout",
     "output_type": "stream",
     "text": [
      "21229\n"
     ]
    }
   ],
   "source": [
    "# raise Exception(\"Stop execution here\")\n",
    "\n",
    "print(len(data))"
   ]
  },
  {
   "cell_type": "code",
   "execution_count": 203,
   "metadata": {},
   "outputs": [],
   "source": [
    "#rejected_null_value=pd.read_csv('rejected_null_value.csv')\n",
    "\n",
    "#rejected_null_value['q']=pd.to_datetime(rejected_null_value['q'],format='%d-%m-%Y %H:%M:%S')\n",
    "\n",
    "#print(rejected_null_value.columns)"
   ]
  },
  {
   "cell_type": "code",
   "execution_count": 204,
   "metadata": {},
   "outputs": [
    {
     "name": "stdout",
     "output_type": "stream",
     "text": [
      "21229\n"
     ]
    }
   ],
   "source": [
    "#print(rejected_null_value.head(3))\n",
    "print(len(data))"
   ]
  },
  {
   "cell_type": "code",
   "execution_count": 205,
   "metadata": {},
   "outputs": [],
   "source": [
    "\n",
    "# Aggregate the right DataFrame by taking the first occurrence per lead_id\n",
    "#rejected_agg = rejected_null_value.groupby('lead_id').first().reset_index()\n",
    "\n",
    "# Merge the DataFrames on the single column\n",
    "#data = data.merge(rejected_agg[['lead_id', 'Status']], left_on='Lead_ID', right_on='lead_id', how='left')\n",
    "\n",
    "# Fill in values based on conditions\n",
    "#data.loc[(data['Lead Status'] == 'Documents Rejected (Pending at Sales Team)') & (data['Last QC Pending Timestamp'].isnull()), 'Last QC Pending Timestamp'] = data['q']\n"
   ]
  },
  {
   "cell_type": "code",
   "execution_count": 206,
   "metadata": {},
   "outputs": [
    {
     "name": "stdout",
     "output_type": "stream",
     "text": [
      "Index(['Merchant Cust ID', 'Lead_ID', 'Entity_Type', 'Node_id', 'Lead_Stage',\n",
      "       'Lead Status', 'Created Timestamp', 'Updated Timestamp', 'Ageing',\n",
      "       'Product_Context', 'Name_Match_Status', '10K/1rs MID Status',\n",
      "       'Final TimeStamp', 'QC Panel Successful TimeStamp',\n",
      "       'Last QC Pending Timestamp', 'TAT', 'Merchant QC TAT slab',\n",
      "       'Working TimeSlab', 'New Off Time', 'New Last QC Pending Time',\n",
      "       'Stage movement count', 'Rejection Ageing', 'cust_id', 'agent_team',\n",
      "       'mid', 'mid_created_date', 'solution_type_level_3', 'solution_type',\n",
      "       'first_qc_pending_min_created'],\n",
      "      dtype='object')\n",
      "0\n",
      "21229\n"
     ]
    }
   ],
   "source": [
    "#data=data.merge(rejected_null_value,left_on='Lead_ID',right_on='lead_id',how='left')\n",
    "\n",
    "#data.loc[(data['Lead Status']=='Documents Rejected (Pending at Sales Team)') & (data['Last QC Pending Timestamp'].isnull()) ,'Last QC Pending Timestamp']=data['q']\n",
    "\n",
    "#data=data.drop(columns=['lead_id','q'])\n",
    "\n",
    "print(data.columns)\n",
    "print(len(data[(data['Lead Status']=='Documents Rejected (Pending at Sales Team)')&(data['Last QC Pending Timestamp'].isnull())]))\n",
    "print(len(data))"
   ]
  },
  {
   "cell_type": "code",
   "execution_count": 207,
   "metadata": {},
   "outputs": [],
   "source": [
    "data['Final TimeStamp']=pd.to_datetime(data['Final TimeStamp'])\n",
    "data['Last QC Pending Timestamp']=pd.to_datetime(data['Last QC Pending Timestamp'])"
   ]
  },
  {
   "cell_type": "code",
   "execution_count": 208,
   "metadata": {},
   "outputs": [
    {
     "name": "stdout",
     "output_type": "stream",
     "text": [
      "21229\n"
     ]
    }
   ],
   "source": [
    "# type(data['Final TimeStamp'][0])\n",
    "#print(type(data['Last QC Pending Timestamp'][0]))\n",
    "print(len(data))"
   ]
  },
  {
   "cell_type": "code",
   "execution_count": 209,
   "metadata": {},
   "outputs": [
    {
     "data": {
      "text/plain": [
       "Index(['Merchant Cust ID', 'Lead_ID', 'Entity_Type', 'Node_id', 'Lead_Stage',\n",
       "       'Lead Status', 'Created Timestamp', 'Updated Timestamp', 'Ageing',\n",
       "       'Product_Context', 'Name_Match_Status', '10K/1rs MID Status',\n",
       "       'Final TimeStamp', 'QC Panel Successful TimeStamp',\n",
       "       'Last QC Pending Timestamp', 'TAT', 'Merchant QC TAT slab',\n",
       "       'Working TimeSlab', 'New Off Time', 'New Last QC Pending Time',\n",
       "       'Stage movement count', 'Rejection Ageing', 'cust_id', 'agent_team',\n",
       "       'mid', 'mid_created_date', 'solution_type_level_3', 'solution_type',\n",
       "       'first_qc_pending_min_created'],\n",
       "      dtype='object')"
      ]
     },
     "execution_count": 209,
     "metadata": {},
     "output_type": "execute_result"
    }
   ],
   "source": [
    "data.columns"
   ]
  },
  {
   "cell_type": "code",
   "execution_count": 210,
   "metadata": {},
   "outputs": [
    {
     "data": {
      "text/plain": [
       "2    2025-05-02 16:54:29\n",
       "5    2025-05-09 07:58:46\n",
       "9    2025-05-04 17:02:53\n",
       "16   2025-05-10 13:59:02\n",
       "17   2025-05-08 09:55:14\n",
       "19   2025-05-11 20:17:02\n",
       "24   2025-05-01 11:52:20\n",
       "26   2025-05-06 19:50:05\n",
       "27   2025-04-30 19:09:56\n",
       "30   2025-05-08 11:20:24\n",
       "Name: Last QC Pending Timestamp, dtype: datetime64[ns]"
      ]
     },
     "execution_count": 210,
     "metadata": {},
     "output_type": "execute_result"
    }
   ],
   "source": [
    "data['Last QC Pending Timestamp'].head(10)"
   ]
  },
  {
   "cell_type": "code",
   "execution_count": 211,
   "metadata": {},
   "outputs": [
    {
     "data": {
      "text/plain": [
       "2      Intime\n",
       "5     Offtime\n",
       "9      Intime\n",
       "16     Intime\n",
       "17     Intime\n",
       "19     Intime\n",
       "24     Intime\n",
       "26     Intime\n",
       "27     Intime\n",
       "30     Intime\n",
       "Name: Working TimeSlab, dtype: object"
      ]
     },
     "execution_count": 211,
     "metadata": {},
     "output_type": "execute_result"
    }
   ],
   "source": [
    "\n",
    "\n",
    "data['Last QC Pending Timestamp']=pd.to_datetime(data['Last QC Pending Timestamp'], errors='coerce')\n",
    "\n",
    "# Define the start and end times\n",
    "#start_time = time(8, 30, 0)\n",
    "#end_time = time(21, 30, 0)\n",
    "\n",
    "start_time = time(8, 00, 0)\n",
    "end_time = time(22, 00, 0)\n",
    "\n",
    "\n",
    "\n",
    "# Apply the condition to classify as 'Intime' or 'Offtime' based on the time component of 'N'\n",
    "data['Working TimeSlab'] = data['Last QC Pending Timestamp'].apply(lambda x: 'Offtime' if pd.isna(x) else ('Intime' if start_time <= x.time() <= end_time else 'Offtime'))\n",
    "\n",
    "\n",
    "data['Working TimeSlab'].head(10)"
   ]
  },
  {
   "cell_type": "code",
   "execution_count": 212,
   "metadata": {},
   "outputs": [
    {
     "data": {
      "text/plain": [
       "Working TimeSlab\n",
       "Intime     18020\n",
       "Offtime     3209\n",
       "Name: count, dtype: int64"
      ]
     },
     "execution_count": 212,
     "metadata": {},
     "output_type": "execute_result"
    }
   ],
   "source": [
    "data['Working TimeSlab'].value_counts()"
   ]
  },
  {
   "cell_type": "code",
   "execution_count": 213,
   "metadata": {},
   "outputs": [
    {
     "data": {
      "text/plain": [
       "Index(['Merchant Cust ID', 'Lead_ID', 'Entity_Type', 'Node_id', 'Lead_Stage',\n",
       "       'Lead Status', 'Created Timestamp', 'Updated Timestamp', 'Ageing',\n",
       "       'Product_Context', 'Name_Match_Status', '10K/1rs MID Status',\n",
       "       'Final TimeStamp', 'QC Panel Successful TimeStamp',\n",
       "       'Last QC Pending Timestamp', 'TAT', 'Merchant QC TAT slab',\n",
       "       'Working TimeSlab', 'New Off Time', 'New Last QC Pending Time',\n",
       "       'Stage movement count', 'Rejection Ageing', 'cust_id', 'agent_team',\n",
       "       'mid', 'mid_created_date', 'solution_type_level_3', 'solution_type',\n",
       "       'first_qc_pending_min_created'],\n",
       "      dtype='object')"
      ]
     },
     "execution_count": 213,
     "metadata": {},
     "output_type": "execute_result"
    }
   ],
   "source": [
    "data.columns"
   ]
  },
  {
   "cell_type": "code",
   "execution_count": 214,
   "metadata": {},
   "outputs": [],
   "source": [
    "#out_time_start = pd.to_datetime(\"21:30\").time()\n",
    "#out_time_end = pd.to_datetime(\"23:59:59\").time()\n",
    "#morning_time_end = pd.to_datetime(\"08:30\").time()\n",
    "\n",
    "out_time_start = pd.to_datetime(\"22:00\").time()\n",
    "out_time_end = pd.to_datetime(\"23:59:59\").time()\n",
    "morning_time_end = pd.to_datetime(\"08:00\").time()\n",
    "\n",
    "data['Last QC Pending Timestamp'] = pd.to_datetime(data['Last QC Pending Timestamp'], errors='coerce')\n",
    "\n",
    "\n",
    "# Apply conditions to create column R\n",
    "def process_timestamp(row):\n",
    "    timestamp = row['Last QC Pending Timestamp']\n",
    "    \n",
    "    # Check if timestamp is NaT\n",
    "    if pd.isna(timestamp):\n",
    "        return np.nan\n",
    "    \n",
    "    time = timestamp.time()\n",
    "    \n",
    "    if row['Working TimeSlab'] == 'Offtime':\n",
    "        if out_time_start <= time <= out_time_end:\n",
    "            # Condition 1: Increment date by 1\n",
    "            return timestamp + pd.DateOffset(days=1)\n",
    "        elif time < morning_time_end:\n",
    "            # Condition 2: Return the same timestamp\n",
    "            return timestamp\n",
    "    # Condition 3: Return blank for 'intime'\n",
    "    return np.nan\n",
    "\n",
    "\n",
    "data['New Off Time'] = data.apply(process_timestamp, axis=1)"
   ]
  },
  {
   "cell_type": "code",
   "execution_count": 215,
   "metadata": {},
   "outputs": [],
   "source": [
    "# Function to create S column based on R\n",
    "def generate_s(row):\n",
    "    if pd.notna(row['New Off Time']):  # If R is not NaT or blank\n",
    "        # Set time to 08:30 on the same date as R\n",
    "        return row['New Off Time'].replace(hour=8, minute=00, second=0)\n",
    "    else:\n",
    "        # If R is NaT or blank, copy the value from Q\n",
    "        return row['Last QC Pending Timestamp']\n",
    "    \n",
    "\n",
    "data['New Last QC Pending Time'] = data.apply(generate_s, axis=1)"
   ]
  },
  {
   "cell_type": "code",
   "execution_count": 216,
   "metadata": {},
   "outputs": [
    {
     "data": {
      "text/plain": [
       "Index(['Merchant Cust ID', 'Lead_ID', 'Entity_Type', 'Node_id', 'Lead_Stage',\n",
       "       'Lead Status', 'Created Timestamp', 'Updated Timestamp', 'Ageing',\n",
       "       'Product_Context', 'Name_Match_Status', '10K/1rs MID Status',\n",
       "       'Final TimeStamp', 'QC Panel Successful TimeStamp',\n",
       "       'Last QC Pending Timestamp', 'TAT', 'Merchant QC TAT slab',\n",
       "       'Working TimeSlab', 'New Off Time', 'New Last QC Pending Time',\n",
       "       'Stage movement count', 'Rejection Ageing', 'cust_id', 'agent_team',\n",
       "       'mid', 'mid_created_date', 'solution_type_level_3', 'solution_type',\n",
       "       'first_qc_pending_min_created'],\n",
       "      dtype='object')"
      ]
     },
     "execution_count": 216,
     "metadata": {},
     "output_type": "execute_result"
    }
   ],
   "source": [
    "data.columns"
   ]
  },
  {
   "cell_type": "code",
   "execution_count": 217,
   "metadata": {},
   "outputs": [],
   "source": [
    "# Calculate the difference between L and S and format it as HH:mm:ss\n",
    "def calculate_difference(row):\n",
    "    if isinstance(row['New Last QC Pending Time'], pd.Timestamp) and isinstance(row['Final TimeStamp'], pd.Timestamp):\n",
    "        diff = row['Final TimeStamp'] - row['New Last QC Pending Time']\n",
    "        return diff  # Extract HH:mm:ss from Timedelta\n",
    "    return np.nan  # Return NaN if either L or S is not a timestamp\n",
    "\n",
    "# Apply function to create Difference column\n",
    "data['TAT'] = data.apply(calculate_difference, axis=1)"
   ]
  },
  {
   "cell_type": "code",
   "execution_count": 218,
   "metadata": {},
   "outputs": [
    {
     "data": {
      "text/plain": [
       "2    0 days 00:02:00\n",
       "5    0 days 01:22:11\n",
       "9    0 days 00:08:27\n",
       "16   0 days 00:03:25\n",
       "17   0 days 00:15:50\n",
       "19   0 days 12:12:53\n",
       "24   0 days 00:00:59\n",
       "26   0 days 00:30:05\n",
       "27   0 days 13:01:25\n",
       "30   0 days 00:00:29\n",
       "Name: TAT, dtype: timedelta64[ns]"
      ]
     },
     "execution_count": 218,
     "metadata": {},
     "output_type": "execute_result"
    }
   ],
   "source": [
    "data['TAT'].head(10)"
   ]
  },
  {
   "cell_type": "code",
   "execution_count": 219,
   "metadata": {},
   "outputs": [],
   "source": [
    "# Update TAT where it is negative to be the difference between L and N\n",
    "def adjust_negative_tat(row):\n",
    "    if pd.notna(row['TAT']) and row['TAT'] < pd.Timedelta(0):  # Check if TAT is negative\n",
    "        if isinstance(row['Final TimeStamp'], pd.Timestamp) and isinstance(row['Last QC Pending Timestamp'], pd.Timestamp):\n",
    "            return row['Final TimeStamp'] - row['Last QC Pending Timestamp']  # Calculate L - N if TAT is negative\n",
    "    return row['TAT']  # Keep original TAT if not negative\n",
    "\n",
    "# Apply function to adjust negative TAT values\n",
    "data['TAT'] = data.apply(adjust_negative_tat, axis=1)"
   ]
  },
  {
   "cell_type": "code",
   "execution_count": 220,
   "metadata": {},
   "outputs": [
    {
     "name": "stdout",
     "output_type": "stream",
     "text": [
      "       Final TimeStamp Last QC Pending Timestamp             TAT\n",
      "2  2025-05-02 16:56:29       2025-05-02 16:54:29 0 days 00:02:00\n",
      "5  2025-05-09 09:22:11       2025-05-09 07:58:46 0 days 01:22:11\n",
      "9  2025-05-04 17:11:20       2025-05-04 17:02:53 0 days 00:08:27\n",
      "16 2025-05-10 14:02:27       2025-05-10 13:59:02 0 days 00:03:25\n",
      "17 2025-05-08 10:11:04       2025-05-08 09:55:14 0 days 00:15:50\n",
      "19 2025-05-12 08:29:55       2025-05-11 20:17:02 0 days 12:12:53\n",
      "24 2025-05-01 11:53:19       2025-05-01 11:52:20 0 days 00:00:59\n",
      "26 2025-05-06 20:20:10       2025-05-06 19:50:05 0 days 00:30:05\n",
      "27 2025-05-01 08:11:21       2025-04-30 19:09:56 0 days 13:01:25\n",
      "30 2025-05-08 11:20:53       2025-05-08 11:20:24 0 days 00:00:29\n",
      "21229\n"
     ]
    }
   ],
   "source": [
    "print(data[['Final TimeStamp','Last QC Pending Timestamp','TAT']].head(10))\n",
    "print(len(data))"
   ]
  },
  {
   "cell_type": "code",
   "execution_count": 221,
   "metadata": {},
   "outputs": [
    {
     "data": {
      "text/html": [
       "<div>\n",
       "<style scoped>\n",
       "    .dataframe tbody tr th:only-of-type {\n",
       "        vertical-align: middle;\n",
       "    }\n",
       "\n",
       "    .dataframe tbody tr th {\n",
       "        vertical-align: top;\n",
       "    }\n",
       "\n",
       "    .dataframe thead th {\n",
       "        text-align: right;\n",
       "    }\n",
       "</style>\n",
       "<table border=\"1\" class=\"dataframe\">\n",
       "  <thead>\n",
       "    <tr style=\"text-align: right;\">\n",
       "      <th></th>\n",
       "      <th>Merchant Cust ID</th>\n",
       "      <th>Lead_ID</th>\n",
       "      <th>Entity_Type</th>\n",
       "      <th>Node_id</th>\n",
       "      <th>Lead_Stage</th>\n",
       "      <th>Lead Status</th>\n",
       "      <th>Created Timestamp</th>\n",
       "      <th>Updated Timestamp</th>\n",
       "      <th>Ageing</th>\n",
       "      <th>Product_Context</th>\n",
       "      <th>Name_Match_Status</th>\n",
       "      <th>10K/1rs MID Status</th>\n",
       "      <th>Final TimeStamp</th>\n",
       "      <th>QC Panel Successful TimeStamp</th>\n",
       "      <th>Last QC Pending Timestamp</th>\n",
       "      <th>TAT</th>\n",
       "      <th>Merchant QC TAT slab</th>\n",
       "      <th>Working TimeSlab</th>\n",
       "      <th>New Off Time</th>\n",
       "      <th>New Last QC Pending Time</th>\n",
       "      <th>Stage movement count</th>\n",
       "      <th>Rejection Ageing</th>\n",
       "      <th>cust_id</th>\n",
       "      <th>agent_team</th>\n",
       "      <th>mid</th>\n",
       "      <th>mid_created_date</th>\n",
       "      <th>solution_type_level_3</th>\n",
       "      <th>solution_type</th>\n",
       "      <th>first_qc_pending_min_created</th>\n",
       "    </tr>\n",
       "  </thead>\n",
       "  <tbody>\n",
       "  </tbody>\n",
       "</table>\n",
       "</div>"
      ],
      "text/plain": [
       "Empty DataFrame\n",
       "Columns: [Merchant Cust ID, Lead_ID, Entity_Type, Node_id, Lead_Stage, Lead Status, Created Timestamp, Updated Timestamp, Ageing, Product_Context, Name_Match_Status, 10K/1rs MID Status, Final TimeStamp, QC Panel Successful TimeStamp, Last QC Pending Timestamp, TAT, Merchant QC TAT slab, Working TimeSlab, New Off Time, New Last QC Pending Time, Stage movement count, Rejection Ageing, cust_id, agent_team, mid, mid_created_date, solution_type_level_3, solution_type, first_qc_pending_min_created]\n",
       "Index: []"
      ]
     },
     "execution_count": 221,
     "metadata": {},
     "output_type": "execute_result"
    }
   ],
   "source": [
    "#len(data[((data['Lead Status']=='Merchant Live') | (data['Lead Status']=='Documents Rejected (Pending at Sales Team)'))&(data['TAT'].isnull())])\n",
    "\n",
    "data[((data['Lead Status']=='Merchant Live') | (data['Lead Status']=='Documents Rejected (Pending at Sales Team)'))&(data['TAT'].isnull())]"
   ]
  },
  {
   "cell_type": "code",
   "execution_count": 222,
   "metadata": {},
   "outputs": [
    {
     "data": {
      "text/plain": [
       "21229"
      ]
     },
     "execution_count": 222,
     "metadata": {},
     "output_type": "execute_result"
    }
   ],
   "source": [
    "len(data[~(((data['Lead Status'] == 'Merchant Live') | (data['Lead Status'] == 'Documents Rejected (Pending at Sales Team)')) & (data['TAT'].isnull()))])"
   ]
  },
  {
   "cell_type": "code",
   "execution_count": 223,
   "metadata": {},
   "outputs": [
    {
     "data": {
      "text/plain": [
       "0"
      ]
     },
     "execution_count": 223,
     "metadata": {},
     "output_type": "execute_result"
    }
   ],
   "source": [
    "data = data[~(((data['Lead Status'] == 'Merchant Live') | (data['Lead Status'] == 'Documents Rejected (Pending at Sales Team)')) & (data['TAT'].isnull()))]\n",
    "\n",
    "\n",
    "len(data[((data['Lead Status']=='Merchant Live') | (data['Lead Status']=='Documents Rejected (Pending at Sales Team)'))&(data['TAT'].isnull())])"
   ]
  },
  {
   "cell_type": "code",
   "execution_count": 224,
   "metadata": {},
   "outputs": [],
   "source": [
    "def categorize_time(td):\n",
    "    total_minutes = td.total_seconds() / 60  # Convert timedelta to total minutes\n",
    "    if total_minutes < 2:\n",
    "        return 'Leads QCed in less than 02 min'\n",
    "    elif 2 <= total_minutes < 5:\n",
    "        return 'Leads QCed in between 02 - 05 min'\n",
    "    elif 5 <= total_minutes < 10:\n",
    "        return 'Leads QCed in between 05 - 10 min'\n",
    "    elif 10 <= total_minutes < 15:\n",
    "        return 'Leads QCed in between 10 - 15 min'\n",
    "    elif 15 <= total_minutes < 30:\n",
    "        return 'Leads QCed in between 15 - 30 min'\n",
    "    elif 30 <= total_minutes < 60:\n",
    "        return 'Leads QCed in between 30 min - 01 hr'\n",
    "    else:\n",
    "        return 'leads QCed in more than 01 hr'\n",
    "\n",
    "\n",
    "\n",
    "data.loc[(data['Lead Status']=='Merchant Live') | (data['Lead Status']=='Documents Rejected (Pending at Sales Team)'),'Merchant QC TAT slab']=data['TAT'].apply(categorize_time)\n",
    "\n"
   ]
  },
  {
   "cell_type": "code",
   "execution_count": 225,
   "metadata": {},
   "outputs": [
    {
     "data": {
      "text/plain": [
       "Merchant QC TAT slab\n",
       "Leads QCed in less than 02 min          6777\n",
       "leads QCed in more than 01 hr           5054\n",
       "Leads QCed in between 02 - 05 min       4126\n",
       "Leads QCed in between 05 - 10 min       1900\n",
       "Leads QCed in between 30 min - 01 hr    1422\n",
       "Leads QCed in between 15 - 30 min       1064\n",
       "Leads QCed in between 10 - 15 min        655\n",
       "Name: count, dtype: int64"
      ]
     },
     "execution_count": 225,
     "metadata": {},
     "output_type": "execute_result"
    }
   ],
   "source": [
    "data['Merchant QC TAT slab'].value_counts()"
   ]
  },
  {
   "cell_type": "code",
   "execution_count": 226,
   "metadata": {},
   "outputs": [
    {
     "data": {
      "text/plain": [
       "Index(['Merchant Cust ID', 'Lead_ID', 'Entity_Type', 'Node_id', 'Lead_Stage',\n",
       "       'Lead Status', 'Created Timestamp', 'Updated Timestamp', 'Ageing',\n",
       "       'Product_Context', 'Name_Match_Status', '10K/1rs MID Status',\n",
       "       'Final TimeStamp', 'QC Panel Successful TimeStamp',\n",
       "       'Last QC Pending Timestamp', 'TAT', 'Merchant QC TAT slab',\n",
       "       'Working TimeSlab', 'New Off Time', 'New Last QC Pending Time',\n",
       "       'Stage movement count', 'Rejection Ageing', 'cust_id', 'agent_team',\n",
       "       'mid', 'mid_created_date', 'solution_type_level_3', 'solution_type',\n",
       "       'first_qc_pending_min_created'],\n",
       "      dtype='object')"
      ]
     },
     "execution_count": 226,
     "metadata": {},
     "output_type": "execute_result"
    }
   ],
   "source": [
    "data.columns"
   ]
  },
  {
   "cell_type": "code",
   "execution_count": 227,
   "metadata": {},
   "outputs": [
    {
     "data": {
      "text/plain": [
       "array([nan, 'diy_upgrade'], dtype=object)"
      ]
     },
     "execution_count": 227,
     "metadata": {},
     "output_type": "execute_result"
    }
   ],
   "source": [
    "data['solution_type_level_3'].unique()"
   ]
  },
  {
   "cell_type": "code",
   "execution_count": 228,
   "metadata": {},
   "outputs": [],
   "source": [
    "data.loc[(data['Entity_Type']=='INDIVIDUAL') & (data['solution_type_level_3'].isna()),'solution_type']='DIY_MCO'\n",
    "data.loc[(data['Entity_Type']=='INDIVIDUAL') & (~data['solution_type_level_3'].isna()),'solution_type']='DIY_ReKYC'\n",
    "data.loc[~(data['Entity_Type']=='INDIVIDUAL'),'solution_type']='DIY_Upgrade'"
   ]
  },
  {
   "cell_type": "code",
   "execution_count": 229,
   "metadata": {},
   "outputs": [
    {
     "data": {
      "text/plain": [
       "array(['DIY_MCO', 'DIY_ReKYC', 'DIY_Upgrade'], dtype=object)"
      ]
     },
     "execution_count": 229,
     "metadata": {},
     "output_type": "execute_result"
    }
   ],
   "source": [
    "data['solution_type'].unique()"
   ]
  },
  {
   "cell_type": "code",
   "execution_count": 230,
   "metadata": {},
   "outputs": [],
   "source": [
    "# Convert date columns to datetime\n",
    "data['first_qc_pending_min_created'] = pd.to_datetime(data['first_qc_pending_min_created'], errors='coerce')\n"
   ]
  },
  {
   "cell_type": "code",
   "execution_count": 231,
   "metadata": {},
   "outputs": [],
   "source": [
    "# Calculate the time difference (TAT) and handle NaT cases\n",
    "data['end_to_end_tat'] = data['Final TimeStamp'] - data['first_qc_pending_min_created']\n",
    "data['end_to_end_tat'] = data['TAT'].apply(lambda x: '' if pd.isna(x) else str(x))"
   ]
  },
  {
   "cell_type": "code",
   "execution_count": 234,
   "metadata": {},
   "outputs": [],
   "source": [
    "\n",
    "# Categorize the time difference\n",
    "def categorize_time(tat):\n",
    "    if tat == '':\n",
    "        return ''  # Return blank for missing TAT\n",
    "    # Convert string timedelta back to timedelta object\n",
    "    td = pd.to_timedelta(tat)\n",
    "    total_minutes = td.total_seconds() / 60  # Convert timedelta to minutes\n",
    "    if total_minutes < 2:\n",
    "        return 'Leads QCed in less than 02 min'\n",
    "    elif 2 <= total_minutes < 5:\n",
    "        return 'Leads QCed in between 02 - 05 min'\n",
    "    elif 5 <= total_minutes < 10:\n",
    "        return 'Leads QCed in between 05 - 10 min'\n",
    "    elif 10 <= total_minutes < 15:\n",
    "        return 'Leads QCed in between 10 - 15 min'\n",
    "    elif 15 <= total_minutes < 30:\n",
    "        return 'Leads QCed in between 15 - 30 min'\n",
    "    elif 30 <= total_minutes < 60:\n",
    "        return 'Leads QCed in between 30 min - 01 hr'\n",
    "    else:\n",
    "        return 'Leads QCed in more than 01 hr'\n",
    "\n",
    "# Apply the function to the DataFrame based on the conditions\n",
    "conditions = data['Lead Status'].isin(['Merchant Live', 'Documents Rejected (Pending at Sales Team)'])\n",
    "data.loc[conditions, 'End to End TAT slab'] = data.loc[conditions, 'end_to_end_tat'].apply(categorize_time)"
   ]
  },
  {
   "cell_type": "code",
   "execution_count": 235,
   "metadata": {},
   "outputs": [
    {
     "data": {
      "text/html": [
       "<div>\n",
       "<style scoped>\n",
       "    .dataframe tbody tr th:only-of-type {\n",
       "        vertical-align: middle;\n",
       "    }\n",
       "\n",
       "    .dataframe tbody tr th {\n",
       "        vertical-align: top;\n",
       "    }\n",
       "\n",
       "    .dataframe thead th {\n",
       "        text-align: right;\n",
       "    }\n",
       "</style>\n",
       "<table border=\"1\" class=\"dataframe\">\n",
       "  <thead>\n",
       "    <tr style=\"text-align: right;\">\n",
       "      <th></th>\n",
       "      <th>Merchant Cust ID</th>\n",
       "      <th>Lead_ID</th>\n",
       "      <th>Entity_Type</th>\n",
       "      <th>Node_id</th>\n",
       "      <th>Lead_Stage</th>\n",
       "      <th>Lead Status</th>\n",
       "      <th>Created Timestamp</th>\n",
       "      <th>Updated Timestamp</th>\n",
       "      <th>Ageing</th>\n",
       "      <th>Product_Context</th>\n",
       "      <th>Name_Match_Status</th>\n",
       "      <th>10K/1rs MID Status</th>\n",
       "      <th>Final TimeStamp</th>\n",
       "      <th>QC Panel Successful TimeStamp</th>\n",
       "      <th>Last QC Pending Timestamp</th>\n",
       "      <th>TAT</th>\n",
       "      <th>Merchant QC TAT slab</th>\n",
       "      <th>Working TimeSlab</th>\n",
       "      <th>New Off Time</th>\n",
       "      <th>New Last QC Pending Time</th>\n",
       "      <th>Stage movement count</th>\n",
       "      <th>Rejection Ageing</th>\n",
       "      <th>cust_id</th>\n",
       "      <th>agent_team</th>\n",
       "      <th>mid</th>\n",
       "      <th>mid_created_date</th>\n",
       "      <th>solution_type_level_3</th>\n",
       "      <th>solution_type</th>\n",
       "      <th>first_qc_pending_min_created</th>\n",
       "      <th>end_to_end_tat</th>\n",
       "      <th>End to End TAT slab</th>\n",
       "    </tr>\n",
       "  </thead>\n",
       "  <tbody>\n",
       "    <tr>\n",
       "      <th>2</th>\n",
       "      <td>1271751704</td>\n",
       "      <td>119b4601-12f2-4e0c-86a6-a54eacc783b7</td>\n",
       "      <td>INDIVIDUAL</td>\n",
       "      <td>156</td>\n",
       "      <td>LEAD_SUCCESSFULLY_CLOSED</td>\n",
       "      <td>Merchant Live</td>\n",
       "      <td>2025-05-02 16:46:30</td>\n",
       "      <td>2025-05-02 17:11:21</td>\n",
       "      <td></td>\n",
       "      <td>NaN</td>\n",
       "      <td>Name Matched</td>\n",
       "      <td>10k MID created</td>\n",
       "      <td>2025-05-02 16:56:29</td>\n",
       "      <td>2025-05-02 16:56:29</td>\n",
       "      <td>2025-05-02 16:54:29</td>\n",
       "      <td>0 days 00:02:00</td>\n",
       "      <td>Leads QCed in between 02 - 05 min</td>\n",
       "      <td>Intime</td>\n",
       "      <td>NaT</td>\n",
       "      <td>2025-05-02 16:54:29</td>\n",
       "      <td>{\"PANEL_SUCCESS\":1}</td>\n",
       "      <td>NaN</td>\n",
       "      <td>1271751704</td>\n",
       "      <td>NaN</td>\n",
       "      <td>xHlWyj89555579387128</td>\n",
       "      <td>2025-05-02 16:56:41</td>\n",
       "      <td>NaN</td>\n",
       "      <td>DIY_MCO</td>\n",
       "      <td>2025-05-02 16:54:29</td>\n",
       "      <td>0 days 00:02:00</td>\n",
       "      <td>Leads QCed in between 02 - 05 min</td>\n",
       "    </tr>\n",
       "    <tr>\n",
       "      <th>5</th>\n",
       "      <td>1470262724</td>\n",
       "      <td>bc20cc50-1e0d-4120-96ac-cfac7dc6f96e</td>\n",
       "      <td>INDIVIDUAL</td>\n",
       "      <td>2099</td>\n",
       "      <td>PARTNER_PROFILE_CREATION_FAILURE</td>\n",
       "      <td>Merchant Live</td>\n",
       "      <td>2025-02-08 10:39:49</td>\n",
       "      <td>2025-05-09 09:22:42</td>\n",
       "      <td>Last 7 days</td>\n",
       "      <td>NaN</td>\n",
       "      <td>Name Matched</td>\n",
       "      <td>10k MID created</td>\n",
       "      <td>2025-05-09 09:22:11</td>\n",
       "      <td>2025-05-09 09:22:11</td>\n",
       "      <td>2025-05-09 07:58:46</td>\n",
       "      <td>0 days 01:22:11</td>\n",
       "      <td>leads QCed in more than 01 hr</td>\n",
       "      <td>Offtime</td>\n",
       "      <td>2025-05-09 07:58:46</td>\n",
       "      <td>2025-05-09 08:00:00</td>\n",
       "      <td>{\"PANEL_SUCCESS\":1}</td>\n",
       "      <td>NaN</td>\n",
       "      <td>1470262724</td>\n",
       "      <td>NaN</td>\n",
       "      <td>kJQCIh52247256207007</td>\n",
       "      <td>2025-05-09 09:22:17</td>\n",
       "      <td>NaN</td>\n",
       "      <td>DIY_MCO</td>\n",
       "      <td>2025-05-09 07:58:46</td>\n",
       "      <td>0 days 01:22:11</td>\n",
       "      <td>Leads QCed in more than 01 hr</td>\n",
       "    </tr>\n",
       "  </tbody>\n",
       "</table>\n",
       "</div>"
      ],
      "text/plain": [
       "   Merchant Cust ID                               Lead_ID Entity_Type  \\\n",
       "2        1271751704  119b4601-12f2-4e0c-86a6-a54eacc783b7  INDIVIDUAL   \n",
       "5        1470262724  bc20cc50-1e0d-4120-96ac-cfac7dc6f96e  INDIVIDUAL   \n",
       "\n",
       "   Node_id                        Lead_Stage    Lead Status  \\\n",
       "2      156          LEAD_SUCCESSFULLY_CLOSED  Merchant Live   \n",
       "5     2099  PARTNER_PROFILE_CREATION_FAILURE  Merchant Live   \n",
       "\n",
       "    Created Timestamp   Updated Timestamp       Ageing  Product_Context  \\\n",
       "2 2025-05-02 16:46:30 2025-05-02 17:11:21                           NaN   \n",
       "5 2025-02-08 10:39:49 2025-05-09 09:22:42  Last 7 days              NaN   \n",
       "\n",
       "  Name_Match_Status 10K/1rs MID Status     Final TimeStamp  \\\n",
       "2      Name Matched    10k MID created 2025-05-02 16:56:29   \n",
       "5      Name Matched    10k MID created 2025-05-09 09:22:11   \n",
       "\n",
       "  QC Panel Successful TimeStamp Last QC Pending Timestamp             TAT  \\\n",
       "2           2025-05-02 16:56:29       2025-05-02 16:54:29 0 days 00:02:00   \n",
       "5           2025-05-09 09:22:11       2025-05-09 07:58:46 0 days 01:22:11   \n",
       "\n",
       "                Merchant QC TAT slab Working TimeSlab        New Off Time  \\\n",
       "2  Leads QCed in between 02 - 05 min           Intime                 NaT   \n",
       "5      leads QCed in more than 01 hr          Offtime 2025-05-09 07:58:46   \n",
       "\n",
       "  New Last QC Pending Time Stage movement count Rejection Ageing     cust_id  \\\n",
       "2      2025-05-02 16:54:29  {\"PANEL_SUCCESS\":1}              NaN  1271751704   \n",
       "5      2025-05-09 08:00:00  {\"PANEL_SUCCESS\":1}              NaN  1470262724   \n",
       "\n",
       "  agent_team                   mid    mid_created_date solution_type_level_3  \\\n",
       "2        NaN  xHlWyj89555579387128 2025-05-02 16:56:41                   NaN   \n",
       "5        NaN  kJQCIh52247256207007 2025-05-09 09:22:17                   NaN   \n",
       "\n",
       "  solution_type first_qc_pending_min_created   end_to_end_tat  \\\n",
       "2       DIY_MCO          2025-05-02 16:54:29  0 days 00:02:00   \n",
       "5       DIY_MCO          2025-05-09 07:58:46  0 days 01:22:11   \n",
       "\n",
       "                 End to End TAT slab  \n",
       "2  Leads QCed in between 02 - 05 min  \n",
       "5      Leads QCed in more than 01 hr  "
      ]
     },
     "execution_count": 235,
     "metadata": {},
     "output_type": "execute_result"
    }
   ],
   "source": [
    "data.head(2)"
   ]
  },
  {
   "cell_type": "code",
   "execution_count": null,
   "metadata": {},
   "outputs": [],
   "source": [
    "data.to_csv(\"diy_mco_data_13th May'25.csv\", index=False)"
   ]
  },
  {
   "cell_type": "code",
   "execution_count": null,
   "metadata": {},
   "outputs": [],
   "source": []
  },
  {
   "cell_type": "code",
   "execution_count": null,
   "metadata": {},
   "outputs": [],
   "source": []
  },
  {
   "cell_type": "code",
   "execution_count": null,
   "metadata": {},
   "outputs": [
    {
     "ename": "NameError",
     "evalue": "name 'hzdjz' is not defined",
     "output_type": "error",
     "traceback": [
      "\u001b[1;31m---------------------------------------------------------------------------\u001b[0m",
      "\u001b[1;31mNameError\u001b[0m                                 Traceback (most recent call last)",
      "Cell \u001b[1;32mIn[75], line 1\u001b[0m\n\u001b[1;32m----> 1\u001b[0m hzdjz\n",
      "\u001b[1;31mNameError\u001b[0m: name 'hzdjz' is not defined"
     ]
    }
   ],
   "source": [
    "hzdjz"
   ]
  },
  {
   "cell_type": "code",
   "execution_count": null,
   "metadata": {},
   "outputs": [],
   "source": [
    "#data.to_csv(\"all_flow_data_28th Oct'24.csv\", index=False)"
   ]
  },
  {
   "cell_type": "code",
   "execution_count": null,
   "metadata": {},
   "outputs": [],
   "source": []
  },
  {
   "cell_type": "code",
   "execution_count": null,
   "metadata": {},
   "outputs": [],
   "source": []
  },
  {
   "cell_type": "code",
   "execution_count": null,
   "metadata": {},
   "outputs": [],
   "source": []
  },
  {
   "cell_type": "code",
   "execution_count": null,
   "metadata": {},
   "outputs": [],
   "source": []
  },
  {
   "cell_type": "code",
   "execution_count": null,
   "metadata": {},
   "outputs": [],
   "source": [
    "sas"
   ]
  },
  {
   "cell_type": "code",
   "execution_count": null,
   "metadata": {},
   "outputs": [],
   "source": [
    "\n",
    "\n",
    "# Convert to datetime\n",
    "data['Last QC Pending Timestamp'] = pd.to_datetime(data['Last QC Pending Timestamp'])\n",
    "data['Final TimeStamp'] = pd.to_datetime(data['Final TimeStamp'])\n",
    "\n",
    "# Define active hours (08:30 AM - 09:30 PM)\n",
    "active_start_time = pd.to_timedelta('08:30:00')\n",
    "active_end_time = pd.to_timedelta('21:30:00')\n",
    "\n",
    "# Function to calculate active duration for each row\n",
    "def calculate_active_duration(row):\n",
    "    start = row['Last QC Pending Timestamp']\n",
    "    end = row['Final TimeStamp']\n",
    "    \n",
    "    # Check if either start or end is NaT\n",
    "    if pd.isna(start) or pd.isna(end):\n",
    "        return \"00:00:00\"  # Return 0 hours if either is NaT\n",
    "    \n",
    "    # Initialize total active duration\n",
    "    total_active_duration = pd.Timedelta(0)\n",
    "    \n",
    "    # Iterate over each date from start to end\n",
    "    for single_date in pd.date_range(start=start.date(), end=end.date()):\n",
    "        active_start = pd.Timestamp(single_date) + active_start_time\n",
    "        active_end = pd.Timestamp(single_date) + active_end_time\n",
    "        \n",
    "        # Determine the effective active period for this day\n",
    "        effective_start = max(start, active_start)\n",
    "        effective_end = min(end, active_end)\n",
    "\n",
    "        # If there's a valid active period, add its duration\n",
    "        if effective_start < effective_end:\n",
    "            total_active_duration += effective_end - effective_start\n",
    "\n",
    "    # Convert total active duration to hours\n",
    "    total_hours = total_active_duration.total_seconds() / 3600\n",
    "    \n",
    "    # Format the hours to HH:MM:SS\n",
    "    hours = int(total_hours)\n",
    "    minutes = int((total_hours - hours) * 60)\n",
    "    seconds = int(((total_hours - hours) * 60 - minutes) * 60)\n",
    "    \n",
    "    return f\"{hours:02}:{minutes:02}:{seconds:02}\"\n",
    "\n",
    "# Apply the function to each row\n",
    "data['TAT'] = data.apply(calculate_active_duration, axis=1)\n",
    "\n",
    "# Display the result\n",
    "print(data[['Last QC Pending Timestamp', 'Final TimeStamp', 'TAT']])\n",
    "print(len(data))\n"
   ]
  },
  {
   "cell_type": "code",
   "execution_count": null,
   "metadata": {},
   "outputs": [],
   "source": [
    "# data['TAT']=data['Final TimeStamp']-data['Last QC Pending Timestamp']\n",
    "# data['TAT']=data['TAT'].apply(lambda x: str(x).split()[-1] if pd.notna(x) else 'NaT')\n",
    "print(data.columns)\n",
    "print(len(data))"
   ]
  },
  {
   "cell_type": "code",
   "execution_count": null,
   "metadata": {},
   "outputs": [],
   "source": [
    "print(data[['Final TimeStamp','Last QC Pending Timestamp','TAT']].head(10))\n",
    "print(len(data))"
   ]
  },
  {
   "cell_type": "code",
   "execution_count": null,
   "metadata": {},
   "outputs": [],
   "source": [
    "len(data[((data['Lead Status']=='Merchant Live') | (data['Lead Status']=='Documents Rejected (Pending at Sales Team)'))&(data['TAT'].isnull())])"
   ]
  },
  {
   "cell_type": "code",
   "execution_count": null,
   "metadata": {},
   "outputs": [],
   "source": [
    "data[\"TAT\"]=pd.to_timedelta(data['TAT'])\n",
    "\n",
    "\n",
    "\n",
    "print(data[['Final TimeStamp','Last QC Pending Timestamp','TAT']].head(10))"
   ]
  },
  {
   "cell_type": "code",
   "execution_count": null,
   "metadata": {},
   "outputs": [],
   "source": [
    "type(data['TAT'][0])"
   ]
  },
  {
   "cell_type": "code",
   "execution_count": null,
   "metadata": {},
   "outputs": [],
   "source": [
    "def categorize_time(td):\n",
    "    total_minutes = td.total_seconds() / 60  # Convert timedelta to total minutes\n",
    "    if total_minutes < 16:\n",
    "        return 'Leads QCed in less than 15 min'\n",
    "    elif 16 <= total_minutes < 36:\n",
    "        return 'Leads QCed in between 15-30 min'\n",
    "    elif 36 <= total_minutes < 66:\n",
    "        return 'Leads QCed in between 30 min -1 hr'\n",
    "    elif 66 <= total_minutes < 126:\n",
    "        return 'Leads QCed in between 1 - 2 hr'\n",
    "    elif 126 <= total_minutes < 186:\n",
    "        return 'Leads QCed in between 2-3 hr'\n",
    "    elif 186 <= total_minutes < 246:\n",
    "        return 'Leads QCed in between 3-4 hr'\n",
    "    else:\n",
    "        return 'leads QCed in more than 4 hrs'\n",
    "\n",
    "\n",
    "\n",
    "data.loc[(data['Lead Status']=='Merchant Live') | (data['Lead Status']=='Documents Rejected (Pending at Sales Team)'),'Merchant QC TAT slab']=data['TAT'].apply(categorize_time)\n",
    "\n",
    "\n",
    "    \n",
    "\n"
   ]
  },
  {
   "cell_type": "code",
   "execution_count": null,
   "metadata": {},
   "outputs": [],
   "source": [
    "print(data['Merchant QC TAT slab'].value_counts())\n",
    "print(len(data))"
   ]
  },
  {
   "cell_type": "code",
   "execution_count": null,
   "metadata": {},
   "outputs": [],
   "source": [
    "data['TAT'].head(10)"
   ]
  },
  {
   "cell_type": "code",
   "execution_count": null,
   "metadata": {},
   "outputs": [],
   "source": [
    "\n",
    "# Function to convert timedelta to HH:MM:SS format with cumulative hours\n",
    "def format_timedelta(td):\n",
    "    total_seconds = int(td.total_seconds())\n",
    "    hours, remainder = divmod(total_seconds, 3600)  # Convert total seconds to hours\n",
    "    minutes, seconds = divmod(remainder, 60)\n",
    "    return f'{hours:02}:{minutes:02}:{seconds:02}'  # Format as HH:MM:SS\n",
    "\n",
    "# Apply the function to convert timedelta to HH:MM:SS\n",
    "data['TAT'] = data['TAT'].apply(format_timedelta)"
   ]
  },
  {
   "cell_type": "code",
   "execution_count": null,
   "metadata": {},
   "outputs": [],
   "source": [
    "data.loc[(data['Lead Status']!='Merchant Live') & (data['Lead Status']!='Documents Rejected (Pending at Sales Team)'),'TAT']=''\n",
    "\n",
    "data['TAT'].head(10)"
   ]
  },
  {
   "cell_type": "code",
   "execution_count": null,
   "metadata": {},
   "outputs": [],
   "source": [
    "data.columns"
   ]
  },
  {
   "cell_type": "code",
   "execution_count": null,
   "metadata": {},
   "outputs": [],
   "source": [
    "data=data.drop(columns=['Working TimeSlab','New Off Time','New Last QC Pending Time','Node id'])\n",
    "data.columns"
   ]
  },
  {
   "cell_type": "code",
   "execution_count": null,
   "metadata": {},
   "outputs": [],
   "source": [
    "col=data.pop('TAT')\n",
    "\n",
    "t=data.columns.get_loc('Merchant QC TAT slab')\n",
    "\n",
    "data.insert(t+1,'TAT',col)\n",
    "\n",
    "data.columns"
   ]
  },
  {
   "cell_type": "code",
   "execution_count": null,
   "metadata": {},
   "outputs": [],
   "source": [
    "data['solution_type_level_3'].unique()\n",
    "len(data)"
   ]
  },
  {
   "cell_type": "code",
   "execution_count": null,
   "metadata": {},
   "outputs": [],
   "source": [
    "data_acup_kyc=data[data['solution_type_level_3'].isin(['ACCOUNT_UPGRADE', 'KYC_UPDATE'])]\n",
    "data_mco=data[~data['solution_type_level_3'].isin(['ACCOUNT_UPGRADE', 'KYC_UPDATE'])]"
   ]
  },
  {
   "cell_type": "code",
   "execution_count": null,
   "metadata": {},
   "outputs": [],
   "source": [
    "#raise Exception(\"Stop execution here\")"
   ]
  },
  {
   "cell_type": "code",
   "execution_count": null,
   "metadata": {},
   "outputs": [],
   "source": [
    "with pd.ExcelWriter(\"all_flow_data_21st Oct'24.xlsx\") as writer:\n",
    "    # Write the original dataframe to the first sheet\n",
    "    data.to_excel(writer, sheet_name='All Data', index=False)\n",
    "    \n",
    "    # Write data filtered by Category 'A' and 'C' to the second sheet\n",
    "    data_acup_kyc.to_excel(writer, sheet_name=' KYC & ACC UPGD', index=False)\n",
    "    \n",
    "    # Write data filtered by Category 'B' and 'D' to the third sheet\n",
    "    data_mco.to_excel(writer, sheet_name='MCO', index=False)"
   ]
  },
  {
   "cell_type": "code",
   "execution_count": null,
   "metadata": {},
   "outputs": [],
   "source": [
    "data.to_csv(\"all_flow_data_19th Oct'24.csv\", index=False)\n"
   ]
  }
 ],
 "metadata": {
  "kernelspec": {
   "display_name": "base",
   "language": "python",
   "name": "python3"
  },
  "language_info": {
   "codemirror_mode": {
    "name": "ipython",
    "version": 3
   },
   "file_extension": ".py",
   "mimetype": "text/x-python",
   "name": "python",
   "nbconvert_exporter": "python",
   "pygments_lexer": "ipython3",
   "version": "3.12.7"
  }
 },
 "nbformat": 4,
 "nbformat_minor": 2
}
