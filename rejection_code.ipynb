{
 "cells": [
  {
   "cell_type": "code",
   "execution_count": 1,
   "metadata": {},
   "outputs": [],
   "source": [
    "import pandas as pd\n",
    "import numpy as np\n",
    "from datetime import datetime, timedelta\n",
    "from datetime import time\n",
    "\n",
    "import os\n"
   ]
  },
  {
   "cell_type": "code",
   "execution_count": 2,
   "metadata": {},
   "outputs": [],
   "source": [
    "input_file=\"diy_rejection_28-April'25.csv\"\n",
    "output_file=\"diy_mco_rejection_27th April'25.csv\""
   ]
  },
  {
   "cell_type": "code",
   "execution_count": 3,
   "metadata": {},
   "outputs": [],
   "source": [
    "#input_file=\"diy_all_rejection_01st April.csv\"\n",
    "#output_file=\"diy_mco_all_rejection_31st Mar'25.csv\""
   ]
  },
  {
   "cell_type": "code",
   "execution_count": 4,
   "metadata": {},
   "outputs": [
    {
     "data": {
      "text/plain": [
       "22132"
      ]
     },
     "execution_count": 4,
     "metadata": {},
     "output_type": "execute_result"
    }
   ],
   "source": [
    "rejection_data=pd.read_csv(input_file,low_memory=False,memory_map=True)\n",
    "len(rejection_data)"
   ]
  },
  {
   "cell_type": "code",
   "execution_count": 5,
   "metadata": {},
   "outputs": [
    {
     "data": {
      "text/html": [
       "<div>\n",
       "<style scoped>\n",
       "    .dataframe tbody tr th:only-of-type {\n",
       "        vertical-align: middle;\n",
       "    }\n",
       "\n",
       "    .dataframe tbody tr th {\n",
       "        vertical-align: top;\n",
       "    }\n",
       "\n",
       "    .dataframe thead th {\n",
       "        text-align: right;\n",
       "    }\n",
       "</style>\n",
       "<table border=\"1\" class=\"dataframe\">\n",
       "  <thead>\n",
       "    <tr style=\"text-align: right;\">\n",
       "      <th></th>\n",
       "      <th>cust_id</th>\n",
       "      <th>lead_id</th>\n",
       "      <th>entity_type</th>\n",
       "      <th>rejected_field_reason</th>\n",
       "      <th>rejected_field_name</th>\n",
       "      <th>updated_at</th>\n",
       "      <th>solution_type</th>\n",
       "      <th>solution_type_level_2</th>\n",
       "      <th>solution_type_level_3</th>\n",
       "    </tr>\n",
       "  </thead>\n",
       "  <tbody>\n",
       "    <tr>\n",
       "      <th>0</th>\n",
       "      <td>1298300733</td>\n",
       "      <td>a1810b44-5e37-475c-9036-0b6951093a2c</td>\n",
       "      <td>PROPRIETORSHIP</td>\n",
       "      <td>Random document uploaded</td>\n",
       "      <td>BankStatement</td>\n",
       "      <td>2025-04-14 14:10:25.000</td>\n",
       "      <td>diy_mco</td>\n",
       "      <td>pan_addition</td>\n",
       "      <td>NaN</td>\n",
       "    </tr>\n",
       "    <tr>\n",
       "      <th>1</th>\n",
       "      <td>1467894069</td>\n",
       "      <td>b3aed953-c047-4d0d-a2ee-f541a872e40e</td>\n",
       "      <td>INDIVIDUAL</td>\n",
       "      <td>Savings account - Beneficiary name mismatch wi...</td>\n",
       "      <td>bankPassbook</td>\n",
       "      <td>2025-04-14 19:59:26.000</td>\n",
       "      <td>diy_mco</td>\n",
       "      <td>pan_addition</td>\n",
       "      <td>NaN</td>\n",
       "    </tr>\n",
       "    <tr>\n",
       "      <th>2</th>\n",
       "      <td>1944070983</td>\n",
       "      <td>41ab21e1-04a8-4e3d-9340-ad74f0f64968</td>\n",
       "      <td>INDIVIDUAL</td>\n",
       "      <td>Savings account - Beneficiary name mismatch wi...</td>\n",
       "      <td>BankStatement</td>\n",
       "      <td>2025-04-09 08:39:36.000</td>\n",
       "      <td>diy_mco</td>\n",
       "      <td>NaN</td>\n",
       "      <td>NaN</td>\n",
       "    </tr>\n",
       "    <tr>\n",
       "      <th>3</th>\n",
       "      <td>1944070983</td>\n",
       "      <td>41ab21e1-04a8-4e3d-9340-ad74f0f64968</td>\n",
       "      <td>INDIVIDUAL</td>\n",
       "      <td>Savings account  - PD name does not match with...</td>\n",
       "      <td>bankVerificationStatus</td>\n",
       "      <td>2025-04-09 08:39:36.000</td>\n",
       "      <td>diy_mco</td>\n",
       "      <td>NaN</td>\n",
       "      <td>NaN</td>\n",
       "    </tr>\n",
       "    <tr>\n",
       "      <th>4</th>\n",
       "      <td>1837603175</td>\n",
       "      <td>d769ca28-0d63-409e-b77b-fed88f5e9a78</td>\n",
       "      <td>INDIVIDUAL</td>\n",
       "      <td>Name on cheque/bank statement mismatch with ba...</td>\n",
       "      <td>BankStatement</td>\n",
       "      <td>2025-04-08 10:15:03.000</td>\n",
       "      <td>diy_mco</td>\n",
       "      <td>NaN</td>\n",
       "      <td>NaN</td>\n",
       "    </tr>\n",
       "  </tbody>\n",
       "</table>\n",
       "</div>"
      ],
      "text/plain": [
       "      cust_id                               lead_id     entity_type  \\\n",
       "0  1298300733  a1810b44-5e37-475c-9036-0b6951093a2c  PROPRIETORSHIP   \n",
       "1  1467894069  b3aed953-c047-4d0d-a2ee-f541a872e40e      INDIVIDUAL   \n",
       "2  1944070983  41ab21e1-04a8-4e3d-9340-ad74f0f64968      INDIVIDUAL   \n",
       "3  1944070983  41ab21e1-04a8-4e3d-9340-ad74f0f64968      INDIVIDUAL   \n",
       "4  1837603175  d769ca28-0d63-409e-b77b-fed88f5e9a78      INDIVIDUAL   \n",
       "\n",
       "                               rejected_field_reason     rejected_field_name  \\\n",
       "0                           Random document uploaded           BankStatement   \n",
       "1  Savings account - Beneficiary name mismatch wi...            bankPassbook   \n",
       "2  Savings account - Beneficiary name mismatch wi...           BankStatement   \n",
       "3  Savings account  - PD name does not match with...  bankVerificationStatus   \n",
       "4  Name on cheque/bank statement mismatch with ba...           BankStatement   \n",
       "\n",
       "                updated_at solution_type solution_type_level_2  \\\n",
       "0  2025-04-14 14:10:25.000       diy_mco          pan_addition   \n",
       "1  2025-04-14 19:59:26.000       diy_mco          pan_addition   \n",
       "2  2025-04-09 08:39:36.000       diy_mco                   NaN   \n",
       "3  2025-04-09 08:39:36.000       diy_mco                   NaN   \n",
       "4  2025-04-08 10:15:03.000       diy_mco                   NaN   \n",
       "\n",
       "  solution_type_level_3  \n",
       "0                   NaN  \n",
       "1                   NaN  \n",
       "2                   NaN  \n",
       "3                   NaN  \n",
       "4                   NaN  "
      ]
     },
     "execution_count": 5,
     "metadata": {},
     "output_type": "execute_result"
    }
   ],
   "source": [
    "rejection_data.head(5)"
   ]
  },
  {
   "cell_type": "code",
   "execution_count": 6,
   "metadata": {},
   "outputs": [
    {
     "data": {
      "text/html": [
       "<div>\n",
       "<style scoped>\n",
       "    .dataframe tbody tr th:only-of-type {\n",
       "        vertical-align: middle;\n",
       "    }\n",
       "\n",
       "    .dataframe tbody tr th {\n",
       "        vertical-align: top;\n",
       "    }\n",
       "\n",
       "    .dataframe thead th {\n",
       "        text-align: right;\n",
       "    }\n",
       "</style>\n",
       "<table border=\"1\" class=\"dataframe\">\n",
       "  <thead>\n",
       "    <tr style=\"text-align: right;\">\n",
       "      <th></th>\n",
       "      <th>cust_id</th>\n",
       "      <th>lead_id</th>\n",
       "      <th>entity_type</th>\n",
       "      <th>rejected_field_reason</th>\n",
       "      <th>rejected_field_name</th>\n",
       "      <th>updated_at</th>\n",
       "      <th>solution_type</th>\n",
       "      <th>solution_type_level_2</th>\n",
       "      <th>solution_type_level_3</th>\n",
       "    </tr>\n",
       "  </thead>\n",
       "  <tbody>\n",
       "    <tr>\n",
       "      <th>0</th>\n",
       "      <td>1298300733</td>\n",
       "      <td>a1810b44-5e37-475c-9036-0b6951093a2c</td>\n",
       "      <td>PROPRIETORSHIP</td>\n",
       "      <td>Random document uploaded</td>\n",
       "      <td>BankStatement</td>\n",
       "      <td>2025-04-14 14:10:25</td>\n",
       "      <td>diy_mco</td>\n",
       "      <td>pan_addition</td>\n",
       "      <td>NaN</td>\n",
       "    </tr>\n",
       "    <tr>\n",
       "      <th>1</th>\n",
       "      <td>1467894069</td>\n",
       "      <td>b3aed953-c047-4d0d-a2ee-f541a872e40e</td>\n",
       "      <td>INDIVIDUAL</td>\n",
       "      <td>Savings account - Beneficiary name mismatch wi...</td>\n",
       "      <td>bankPassbook</td>\n",
       "      <td>2025-04-14 19:59:26</td>\n",
       "      <td>diy_mco</td>\n",
       "      <td>pan_addition</td>\n",
       "      <td>NaN</td>\n",
       "    </tr>\n",
       "    <tr>\n",
       "      <th>2</th>\n",
       "      <td>1944070983</td>\n",
       "      <td>41ab21e1-04a8-4e3d-9340-ad74f0f64968</td>\n",
       "      <td>INDIVIDUAL</td>\n",
       "      <td>Savings account - Beneficiary name mismatch wi...</td>\n",
       "      <td>BankStatement</td>\n",
       "      <td>2025-04-09 08:39:36</td>\n",
       "      <td>diy_mco</td>\n",
       "      <td>NaN</td>\n",
       "      <td>NaN</td>\n",
       "    </tr>\n",
       "    <tr>\n",
       "      <th>3</th>\n",
       "      <td>1944070983</td>\n",
       "      <td>41ab21e1-04a8-4e3d-9340-ad74f0f64968</td>\n",
       "      <td>INDIVIDUAL</td>\n",
       "      <td>Savings account  - PD name does not match with...</td>\n",
       "      <td>bankVerificationStatus</td>\n",
       "      <td>2025-04-09 08:39:36</td>\n",
       "      <td>diy_mco</td>\n",
       "      <td>NaN</td>\n",
       "      <td>NaN</td>\n",
       "    </tr>\n",
       "    <tr>\n",
       "      <th>4</th>\n",
       "      <td>1837603175</td>\n",
       "      <td>d769ca28-0d63-409e-b77b-fed88f5e9a78</td>\n",
       "      <td>INDIVIDUAL</td>\n",
       "      <td>Name on cheque/bank statement mismatch with ba...</td>\n",
       "      <td>BankStatement</td>\n",
       "      <td>2025-04-08 10:15:03</td>\n",
       "      <td>diy_mco</td>\n",
       "      <td>NaN</td>\n",
       "      <td>NaN</td>\n",
       "    </tr>\n",
       "  </tbody>\n",
       "</table>\n",
       "</div>"
      ],
      "text/plain": [
       "      cust_id                               lead_id     entity_type  \\\n",
       "0  1298300733  a1810b44-5e37-475c-9036-0b6951093a2c  PROPRIETORSHIP   \n",
       "1  1467894069  b3aed953-c047-4d0d-a2ee-f541a872e40e      INDIVIDUAL   \n",
       "2  1944070983  41ab21e1-04a8-4e3d-9340-ad74f0f64968      INDIVIDUAL   \n",
       "3  1944070983  41ab21e1-04a8-4e3d-9340-ad74f0f64968      INDIVIDUAL   \n",
       "4  1837603175  d769ca28-0d63-409e-b77b-fed88f5e9a78      INDIVIDUAL   \n",
       "\n",
       "                               rejected_field_reason     rejected_field_name  \\\n",
       "0                           Random document uploaded           BankStatement   \n",
       "1  Savings account - Beneficiary name mismatch wi...            bankPassbook   \n",
       "2  Savings account - Beneficiary name mismatch wi...           BankStatement   \n",
       "3  Savings account  - PD name does not match with...  bankVerificationStatus   \n",
       "4  Name on cheque/bank statement mismatch with ba...           BankStatement   \n",
       "\n",
       "           updated_at solution_type solution_type_level_2  \\\n",
       "0 2025-04-14 14:10:25       diy_mco          pan_addition   \n",
       "1 2025-04-14 19:59:26       diy_mco          pan_addition   \n",
       "2 2025-04-09 08:39:36       diy_mco                   NaN   \n",
       "3 2025-04-09 08:39:36       diy_mco                   NaN   \n",
       "4 2025-04-08 10:15:03       diy_mco                   NaN   \n",
       "\n",
       "  solution_type_level_3  \n",
       "0                   NaN  \n",
       "1                   NaN  \n",
       "2                   NaN  \n",
       "3                   NaN  \n",
       "4                   NaN  "
      ]
     },
     "execution_count": 6,
     "metadata": {},
     "output_type": "execute_result"
    }
   ],
   "source": [
    "rejection_data['updated_at']=pd.to_datetime(rejection_data['updated_at'],errors='coerce')\n",
    "rejection_data.head(5)"
   ]
  },
  {
   "cell_type": "code",
   "execution_count": 7,
   "metadata": {},
   "outputs": [
    {
     "data": {
      "text/plain": [
       "Timestamp('2025-04-28 00:00:00')"
      ]
     },
     "execution_count": 7,
     "metadata": {},
     "output_type": "execute_result"
    }
   ],
   "source": [
    "current_date = pd.Timestamp(datetime.now().date())\n",
    "current_date\n"
   ]
  },
  {
   "cell_type": "code",
   "execution_count": 8,
   "metadata": {},
   "outputs": [
    {
     "name": "stderr",
     "output_type": "stream",
     "text": [
      "c:\\ProgramData\\Anaconda3\\lib\\site-packages\\pandas\\core\\ops\\array_ops.py:73: FutureWarning: Comparison of Timestamp with datetime.date is deprecated in order to match the standard library behavior. In a future version these will be considered non-comparable. Use 'ts == pd.Timestamp(date)' or 'ts.date() == date' instead.\n",
      "  result = libops.scalar_compare(x.ravel(), y, op)\n"
     ]
    },
    {
     "data": {
      "text/plain": [
       "21673"
      ]
     },
     "execution_count": 8,
     "metadata": {},
     "output_type": "execute_result"
    }
   ],
   "source": [
    "rejection_data=rejection_data[rejection_data['updated_at'].dt.date != current_date]\n",
    "len(rejection_data)"
   ]
  },
  {
   "cell_type": "code",
   "execution_count": 9,
   "metadata": {},
   "outputs": [
    {
     "data": {
      "text/plain": [
       "11453"
      ]
     },
     "execution_count": 9,
     "metadata": {},
     "output_type": "execute_result"
    }
   ],
   "source": [
    "rejection_data=rejection_data[rejection_data['solution_type_level_2'].isin(['diy_upgrade','']) | rejection_data['solution_type_level_2'].isna()]\n",
    "len(rejection_data)"
   ]
  },
  {
   "cell_type": "code",
   "execution_count": 10,
   "metadata": {},
   "outputs": [
    {
     "data": {
      "text/plain": [
       "INDIVIDUAL            6824\n",
       "PROPRIETORSHIP        4595\n",
       "NON_PROPRIETORSHIP      34\n",
       "Name: entity_type, dtype: int64"
      ]
     },
     "execution_count": 10,
     "metadata": {},
     "output_type": "execute_result"
    }
   ],
   "source": [
    "rejection_data.loc[~rejection_data['entity_type'].isin(['INDIVIDUAL','PROPRIETORSHIP']),'entity_type']='NON_PROPRIETORSHIP'\n",
    "rejection_data['entity_type'].value_counts()"
   ]
  },
  {
   "cell_type": "code",
   "execution_count": 11,
   "metadata": {},
   "outputs": [
    {
     "data": {
      "text/plain": [
       "Index(['cust_id', 'lead_id', 'entity_type', 'entuty_type_1',\n",
       "       'rejected_field_reason', 'rejected_field_name', 'updated_at',\n",
       "       'solution_type', 'solution_type_level_2', 'solution_type_level_3'],\n",
       "      dtype='object')"
      ]
     },
     "execution_count": 11,
     "metadata": {},
     "output_type": "execute_result"
    }
   ],
   "source": [
    "rejection_data.insert(rejection_data.columns.get_loc('entity_type')+1,'entuty_type_1',np.nan)\n",
    "rejection_data.columns"
   ]
  },
  {
   "cell_type": "code",
   "execution_count": 12,
   "metadata": {},
   "outputs": [
    {
     "data": {
      "text/plain": [
       "INDIVIDUAL            6824\n",
       "PROPRIETORSHIP        4595\n",
       "NON_PROPRIETORSHIP      34\n",
       "Name: entuty_type_1, dtype: int64"
      ]
     },
     "execution_count": 12,
     "metadata": {},
     "output_type": "execute_result"
    }
   ],
   "source": [
    "rejection_data.loc[:, 'entuty_type_1'] = rejection_data['entity_type']\n",
    "rejection_data['entuty_type_1'].value_counts()"
   ]
  },
  {
   "cell_type": "code",
   "execution_count": 13,
   "metadata": {},
   "outputs": [
    {
     "data": {
      "text/plain": [
       "INDIVIDUAL    6824\n",
       "NON_EDC       4629\n",
       "Name: entuty_type_1, dtype: int64"
      ]
     },
     "execution_count": 13,
     "metadata": {},
     "output_type": "execute_result"
    }
   ],
   "source": [
    "rejection_data['entuty_type_1']=rejection_data['entuty_type_1'].replace(['PROPRIETORSHIP','NON_PROPRIETORSHIP'],'NON_EDC')\n",
    "rejection_data['entuty_type_1'].value_counts()"
   ]
  },
  {
   "cell_type": "code",
   "execution_count": 14,
   "metadata": {},
   "outputs": [
    {
     "data": {
      "text/plain": [
       "Index(['cust_id', 'lead_id', 'entity_type', 'entuty_type_1',\n",
       "       'rejected_field_reason', 'rejected_field_name', 'updated_at',\n",
       "       'solution_type', 'solution_type_level_2', 'solution_type_level_3'],\n",
       "      dtype='object')"
      ]
     },
     "execution_count": 14,
     "metadata": {},
     "output_type": "execute_result"
    }
   ],
   "source": [
    "rejection_data.columns"
   ]
  },
  {
   "cell_type": "code",
   "execution_count": 15,
   "metadata": {},
   "outputs": [],
   "source": [
    "rejection_data.loc[(rejection_data['entity_type']=='INDIVIDUAL') & (rejection_data['solution_type_level_2'].isna()),'solution_type']='DIY_MCO'\n",
    "rejection_data.loc[(rejection_data['entity_type']=='INDIVIDUAL') & (~rejection_data['solution_type_level_2'].isna()),'solution_type']='DIY_ReKYC'\n",
    "rejection_data.loc[~(rejection_data['entity_type']=='INDIVIDUAL'),'solution_type']='DIY_Upgrade'"
   ]
  },
  {
   "cell_type": "code",
   "execution_count": 16,
   "metadata": {},
   "outputs": [],
   "source": [
    "rejection_data.to_csv(output_file, index=False)"
   ]
  }
 ],
 "metadata": {
  "kernelspec": {
   "display_name": "base",
   "language": "python",
   "name": "python3"
  },
  "language_info": {
   "codemirror_mode": {
    "name": "ipython",
    "version": 3
   },
   "file_extension": ".py",
   "mimetype": "text/x-python",
   "name": "python",
   "nbconvert_exporter": "python",
   "pygments_lexer": "ipython3",
   "version": "3.9.12"
  }
 },
 "nbformat": 4,
 "nbformat_minor": 2
}
