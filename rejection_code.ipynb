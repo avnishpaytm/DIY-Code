{
 "cells": [
  {
   "cell_type": "code",
   "execution_count": 1,
   "metadata": {},
   "outputs": [],
   "source": [
    "import pandas as pd\n",
    "import numpy as np\n",
    "from datetime import datetime, timedelta\n",
    "from datetime import time\n",
    "\n",
    "import os\n"
   ]
  },
  {
   "cell_type": "code",
   "execution_count": 2,
   "metadata": {},
   "outputs": [],
   "source": [
    "input_file=\"diy_rejection_13-May'25.csv\"\n",
    "output_file=\"diy_mco_rejection_12th May'25.csv\""
   ]
  },
  {
   "cell_type": "code",
   "execution_count": 3,
   "metadata": {},
   "outputs": [],
   "source": [
    "#input_file=\"diy_all_rejection_01st April.csv\"\n",
    "#output_file=\"diy_mco_all_rejection_31st Mar'25.csv\""
   ]
  },
  {
   "cell_type": "code",
   "execution_count": 4,
   "metadata": {},
   "outputs": [
    {
     "data": {
      "text/plain": [
       "9781"
      ]
     },
     "execution_count": 4,
     "metadata": {},
     "output_type": "execute_result"
    }
   ],
   "source": [
    "rejection_data=pd.read_csv(input_file,low_memory=False,memory_map=True)\n",
    "len(rejection_data)"
   ]
  },
  {
   "cell_type": "code",
   "execution_count": 5,
   "metadata": {},
   "outputs": [
    {
     "data": {
      "text/html": [
       "<div>\n",
       "<style scoped>\n",
       "    .dataframe tbody tr th:only-of-type {\n",
       "        vertical-align: middle;\n",
       "    }\n",
       "\n",
       "    .dataframe tbody tr th {\n",
       "        vertical-align: top;\n",
       "    }\n",
       "\n",
       "    .dataframe thead th {\n",
       "        text-align: right;\n",
       "    }\n",
       "</style>\n",
       "<table border=\"1\" class=\"dataframe\">\n",
       "  <thead>\n",
       "    <tr style=\"text-align: right;\">\n",
       "      <th></th>\n",
       "      <th>cust_id</th>\n",
       "      <th>lead_id</th>\n",
       "      <th>entity_type</th>\n",
       "      <th>rejected_field_reason</th>\n",
       "      <th>rejected_field_name</th>\n",
       "      <th>updated_at</th>\n",
       "      <th>solution_type</th>\n",
       "      <th>solution_type_level_2</th>\n",
       "      <th>solution_type_level_3</th>\n",
       "    </tr>\n",
       "  </thead>\n",
       "  <tbody>\n",
       "    <tr>\n",
       "      <th>0</th>\n",
       "      <td>1382706884</td>\n",
       "      <td>cefe73c9-091c-4430-9b0b-b60f9637afd1</td>\n",
       "      <td>INDIVIDUAL</td>\n",
       "      <td>IFSC in bank proof mismatch with IFSC in Penny...</td>\n",
       "      <td>bankPassbook</td>\n",
       "      <td>2025-05-05 18:40:04.000</td>\n",
       "      <td>diy_mco</td>\n",
       "      <td>display_name_update</td>\n",
       "      <td>NaN</td>\n",
       "    </tr>\n",
       "    <tr>\n",
       "      <th>1</th>\n",
       "      <td>1373821483</td>\n",
       "      <td>fd162dcb-2235-42c8-833a-984cca760067</td>\n",
       "      <td>PROPRIETORSHIP</td>\n",
       "      <td>Display name has no connection with name in bu...</td>\n",
       "      <td>shopFrontPhoto</td>\n",
       "      <td>2025-05-13 10:22:03.000</td>\n",
       "      <td>diy_mco</td>\n",
       "      <td>gst_update</td>\n",
       "      <td>NaN</td>\n",
       "    </tr>\n",
       "    <tr>\n",
       "      <th>2</th>\n",
       "      <td>1949133612</td>\n",
       "      <td>0763f366-751b-417f-9f0b-316e57bcc7d4</td>\n",
       "      <td>PROPRIETORSHIP</td>\n",
       "      <td>Display name has no connection with name in bu...</td>\n",
       "      <td>shopFrontPhoto</td>\n",
       "      <td>2025-05-12 10:54:26.000</td>\n",
       "      <td>diy_mco</td>\n",
       "      <td>diy_upgrade</td>\n",
       "      <td>NaN</td>\n",
       "    </tr>\n",
       "    <tr>\n",
       "      <th>3</th>\n",
       "      <td>1182202113</td>\n",
       "      <td>99a2c7a0-66d0-4ba6-87e4-c1ef14cf0494</td>\n",
       "      <td>INDIVIDUAL</td>\n",
       "      <td>Current Account not allowed for Individual mer...</td>\n",
       "      <td>BankStatement</td>\n",
       "      <td>2025-05-12 16:30:06.000</td>\n",
       "      <td>diy_mco</td>\n",
       "      <td>NaN</td>\n",
       "      <td>NaN</td>\n",
       "    </tr>\n",
       "    <tr>\n",
       "      <th>4</th>\n",
       "      <td>1272902429</td>\n",
       "      <td>1ae0eaa9-bc47-430a-a0dc-b415f5079c10</td>\n",
       "      <td>INDIVIDUAL</td>\n",
       "      <td>Savings account - Beneficiary name mismatch wi...</td>\n",
       "      <td>BankStatement</td>\n",
       "      <td>2025-05-12 11:46:18.000</td>\n",
       "      <td>diy_mco</td>\n",
       "      <td>NaN</td>\n",
       "      <td>NaN</td>\n",
       "    </tr>\n",
       "  </tbody>\n",
       "</table>\n",
       "</div>"
      ],
      "text/plain": [
       "      cust_id                               lead_id     entity_type  \\\n",
       "0  1382706884  cefe73c9-091c-4430-9b0b-b60f9637afd1      INDIVIDUAL   \n",
       "1  1373821483  fd162dcb-2235-42c8-833a-984cca760067  PROPRIETORSHIP   \n",
       "2  1949133612  0763f366-751b-417f-9f0b-316e57bcc7d4  PROPRIETORSHIP   \n",
       "3  1182202113  99a2c7a0-66d0-4ba6-87e4-c1ef14cf0494      INDIVIDUAL   \n",
       "4  1272902429  1ae0eaa9-bc47-430a-a0dc-b415f5079c10      INDIVIDUAL   \n",
       "\n",
       "                               rejected_field_reason rejected_field_name  \\\n",
       "0  IFSC in bank proof mismatch with IFSC in Penny...        bankPassbook   \n",
       "1  Display name has no connection with name in bu...      shopFrontPhoto   \n",
       "2  Display name has no connection with name in bu...      shopFrontPhoto   \n",
       "3  Current Account not allowed for Individual mer...       BankStatement   \n",
       "4  Savings account - Beneficiary name mismatch wi...       BankStatement   \n",
       "\n",
       "                updated_at solution_type solution_type_level_2  \\\n",
       "0  2025-05-05 18:40:04.000       diy_mco   display_name_update   \n",
       "1  2025-05-13 10:22:03.000       diy_mco            gst_update   \n",
       "2  2025-05-12 10:54:26.000       diy_mco           diy_upgrade   \n",
       "3  2025-05-12 16:30:06.000       diy_mco                   NaN   \n",
       "4  2025-05-12 11:46:18.000       diy_mco                   NaN   \n",
       "\n",
       "  solution_type_level_3  \n",
       "0                   NaN  \n",
       "1                   NaN  \n",
       "2                   NaN  \n",
       "3                   NaN  \n",
       "4                   NaN  "
      ]
     },
     "execution_count": 5,
     "metadata": {},
     "output_type": "execute_result"
    }
   ],
   "source": [
    "rejection_data.head(5)"
   ]
  },
  {
   "cell_type": "code",
   "execution_count": 6,
   "metadata": {},
   "outputs": [
    {
     "data": {
      "text/html": [
       "<div>\n",
       "<style scoped>\n",
       "    .dataframe tbody tr th:only-of-type {\n",
       "        vertical-align: middle;\n",
       "    }\n",
       "\n",
       "    .dataframe tbody tr th {\n",
       "        vertical-align: top;\n",
       "    }\n",
       "\n",
       "    .dataframe thead th {\n",
       "        text-align: right;\n",
       "    }\n",
       "</style>\n",
       "<table border=\"1\" class=\"dataframe\">\n",
       "  <thead>\n",
       "    <tr style=\"text-align: right;\">\n",
       "      <th></th>\n",
       "      <th>cust_id</th>\n",
       "      <th>lead_id</th>\n",
       "      <th>entity_type</th>\n",
       "      <th>rejected_field_reason</th>\n",
       "      <th>rejected_field_name</th>\n",
       "      <th>updated_at</th>\n",
       "      <th>solution_type</th>\n",
       "      <th>solution_type_level_2</th>\n",
       "      <th>solution_type_level_3</th>\n",
       "    </tr>\n",
       "  </thead>\n",
       "  <tbody>\n",
       "    <tr>\n",
       "      <th>0</th>\n",
       "      <td>1382706884</td>\n",
       "      <td>cefe73c9-091c-4430-9b0b-b60f9637afd1</td>\n",
       "      <td>INDIVIDUAL</td>\n",
       "      <td>IFSC in bank proof mismatch with IFSC in Penny...</td>\n",
       "      <td>bankPassbook</td>\n",
       "      <td>2025-05-05 18:40:04</td>\n",
       "      <td>diy_mco</td>\n",
       "      <td>display_name_update</td>\n",
       "      <td>NaN</td>\n",
       "    </tr>\n",
       "    <tr>\n",
       "      <th>1</th>\n",
       "      <td>1373821483</td>\n",
       "      <td>fd162dcb-2235-42c8-833a-984cca760067</td>\n",
       "      <td>PROPRIETORSHIP</td>\n",
       "      <td>Display name has no connection with name in bu...</td>\n",
       "      <td>shopFrontPhoto</td>\n",
       "      <td>2025-05-13 10:22:03</td>\n",
       "      <td>diy_mco</td>\n",
       "      <td>gst_update</td>\n",
       "      <td>NaN</td>\n",
       "    </tr>\n",
       "    <tr>\n",
       "      <th>2</th>\n",
       "      <td>1949133612</td>\n",
       "      <td>0763f366-751b-417f-9f0b-316e57bcc7d4</td>\n",
       "      <td>PROPRIETORSHIP</td>\n",
       "      <td>Display name has no connection with name in bu...</td>\n",
       "      <td>shopFrontPhoto</td>\n",
       "      <td>2025-05-12 10:54:26</td>\n",
       "      <td>diy_mco</td>\n",
       "      <td>diy_upgrade</td>\n",
       "      <td>NaN</td>\n",
       "    </tr>\n",
       "    <tr>\n",
       "      <th>3</th>\n",
       "      <td>1182202113</td>\n",
       "      <td>99a2c7a0-66d0-4ba6-87e4-c1ef14cf0494</td>\n",
       "      <td>INDIVIDUAL</td>\n",
       "      <td>Current Account not allowed for Individual mer...</td>\n",
       "      <td>BankStatement</td>\n",
       "      <td>2025-05-12 16:30:06</td>\n",
       "      <td>diy_mco</td>\n",
       "      <td>NaN</td>\n",
       "      <td>NaN</td>\n",
       "    </tr>\n",
       "    <tr>\n",
       "      <th>4</th>\n",
       "      <td>1272902429</td>\n",
       "      <td>1ae0eaa9-bc47-430a-a0dc-b415f5079c10</td>\n",
       "      <td>INDIVIDUAL</td>\n",
       "      <td>Savings account - Beneficiary name mismatch wi...</td>\n",
       "      <td>BankStatement</td>\n",
       "      <td>2025-05-12 11:46:18</td>\n",
       "      <td>diy_mco</td>\n",
       "      <td>NaN</td>\n",
       "      <td>NaN</td>\n",
       "    </tr>\n",
       "  </tbody>\n",
       "</table>\n",
       "</div>"
      ],
      "text/plain": [
       "      cust_id                               lead_id     entity_type  \\\n",
       "0  1382706884  cefe73c9-091c-4430-9b0b-b60f9637afd1      INDIVIDUAL   \n",
       "1  1373821483  fd162dcb-2235-42c8-833a-984cca760067  PROPRIETORSHIP   \n",
       "2  1949133612  0763f366-751b-417f-9f0b-316e57bcc7d4  PROPRIETORSHIP   \n",
       "3  1182202113  99a2c7a0-66d0-4ba6-87e4-c1ef14cf0494      INDIVIDUAL   \n",
       "4  1272902429  1ae0eaa9-bc47-430a-a0dc-b415f5079c10      INDIVIDUAL   \n",
       "\n",
       "                               rejected_field_reason rejected_field_name  \\\n",
       "0  IFSC in bank proof mismatch with IFSC in Penny...        bankPassbook   \n",
       "1  Display name has no connection with name in bu...      shopFrontPhoto   \n",
       "2  Display name has no connection with name in bu...      shopFrontPhoto   \n",
       "3  Current Account not allowed for Individual mer...       BankStatement   \n",
       "4  Savings account - Beneficiary name mismatch wi...       BankStatement   \n",
       "\n",
       "           updated_at solution_type solution_type_level_2  \\\n",
       "0 2025-05-05 18:40:04       diy_mco   display_name_update   \n",
       "1 2025-05-13 10:22:03       diy_mco            gst_update   \n",
       "2 2025-05-12 10:54:26       diy_mco           diy_upgrade   \n",
       "3 2025-05-12 16:30:06       diy_mco                   NaN   \n",
       "4 2025-05-12 11:46:18       diy_mco                   NaN   \n",
       "\n",
       "  solution_type_level_3  \n",
       "0                   NaN  \n",
       "1                   NaN  \n",
       "2                   NaN  \n",
       "3                   NaN  \n",
       "4                   NaN  "
      ]
     },
     "execution_count": 6,
     "metadata": {},
     "output_type": "execute_result"
    }
   ],
   "source": [
    "rejection_data['updated_at']=pd.to_datetime(rejection_data['updated_at'],errors='coerce')\n",
    "rejection_data.head(5)"
   ]
  },
  {
   "cell_type": "code",
   "execution_count": 7,
   "metadata": {},
   "outputs": [
    {
     "data": {
      "text/plain": [
       "Timestamp('2025-05-13 00:00:00')"
      ]
     },
     "execution_count": 7,
     "metadata": {},
     "output_type": "execute_result"
    }
   ],
   "source": [
    "current_date = pd.Timestamp(datetime.now().date())\n",
    "current_date\n"
   ]
  },
  {
   "cell_type": "code",
   "execution_count": 8,
   "metadata": {},
   "outputs": [
    {
     "data": {
      "text/plain": [
       "9781"
      ]
     },
     "execution_count": 8,
     "metadata": {},
     "output_type": "execute_result"
    }
   ],
   "source": [
    "rejection_data=rejection_data[rejection_data['updated_at'].dt.date != current_date]\n",
    "len(rejection_data)"
   ]
  },
  {
   "cell_type": "code",
   "execution_count": 9,
   "metadata": {},
   "outputs": [
    {
     "data": {
      "text/plain": [
       "5374"
      ]
     },
     "execution_count": 9,
     "metadata": {},
     "output_type": "execute_result"
    }
   ],
   "source": [
    "rejection_data=rejection_data[rejection_data['solution_type_level_2'].isin(['diy_upgrade','']) | rejection_data['solution_type_level_2'].isna()]\n",
    "len(rejection_data)"
   ]
  },
  {
   "cell_type": "code",
   "execution_count": 10,
   "metadata": {},
   "outputs": [
    {
     "data": {
      "text/plain": [
       "entity_type\n",
       "INDIVIDUAL            3540\n",
       "PROPRIETORSHIP        1826\n",
       "NON_PROPRIETORSHIP       8\n",
       "Name: count, dtype: int64"
      ]
     },
     "execution_count": 10,
     "metadata": {},
     "output_type": "execute_result"
    }
   ],
   "source": [
    "rejection_data.loc[~rejection_data['entity_type'].isin(['INDIVIDUAL','PROPRIETORSHIP']),'entity_type']='NON_PROPRIETORSHIP'\n",
    "rejection_data['entity_type'].value_counts()"
   ]
  },
  {
   "cell_type": "code",
   "execution_count": 11,
   "metadata": {},
   "outputs": [
    {
     "data": {
      "text/plain": [
       "Index(['cust_id', 'lead_id', 'entity_type', 'entuty_type_1',\n",
       "       'rejected_field_reason', 'rejected_field_name', 'updated_at',\n",
       "       'solution_type', 'solution_type_level_2', 'solution_type_level_3'],\n",
       "      dtype='object')"
      ]
     },
     "execution_count": 11,
     "metadata": {},
     "output_type": "execute_result"
    }
   ],
   "source": [
    "rejection_data.insert(rejection_data.columns.get_loc('entity_type')+1,'entuty_type_1',np.nan)\n",
    "rejection_data.columns"
   ]
  },
  {
   "cell_type": "code",
   "execution_count": 12,
   "metadata": {},
   "outputs": [
    {
     "name": "stderr",
     "output_type": "stream",
     "text": [
      "C:\\Users\\avnish1.yadav\\AppData\\Local\\Temp\\ipykernel_30008\\2853859728.py:1: FutureWarning: Setting an item of incompatible dtype is deprecated and will raise in a future error of pandas. Value '['PROPRIETORSHIP' 'INDIVIDUAL' 'INDIVIDUAL' ... 'PROPRIETORSHIP'\n",
      " 'INDIVIDUAL' 'INDIVIDUAL']' has dtype incompatible with float64, please explicitly cast to a compatible dtype first.\n",
      "  rejection_data.loc[:, 'entuty_type_1'] = rejection_data['entity_type']\n"
     ]
    },
    {
     "data": {
      "text/plain": [
       "entuty_type_1\n",
       "INDIVIDUAL            3540\n",
       "PROPRIETORSHIP        1826\n",
       "NON_PROPRIETORSHIP       8\n",
       "Name: count, dtype: int64"
      ]
     },
     "execution_count": 12,
     "metadata": {},
     "output_type": "execute_result"
    }
   ],
   "source": [
    "rejection_data.loc[:, 'entuty_type_1'] = rejection_data['entity_type']\n",
    "rejection_data['entuty_type_1'].value_counts()"
   ]
  },
  {
   "cell_type": "code",
   "execution_count": 13,
   "metadata": {},
   "outputs": [
    {
     "data": {
      "text/plain": [
       "entuty_type_1\n",
       "INDIVIDUAL    3540\n",
       "NON_EDC       1834\n",
       "Name: count, dtype: int64"
      ]
     },
     "execution_count": 13,
     "metadata": {},
     "output_type": "execute_result"
    }
   ],
   "source": [
    "rejection_data['entuty_type_1']=rejection_data['entuty_type_1'].replace(['PROPRIETORSHIP','NON_PROPRIETORSHIP'],'NON_EDC')\n",
    "rejection_data['entuty_type_1'].value_counts()"
   ]
  },
  {
   "cell_type": "code",
   "execution_count": 14,
   "metadata": {},
   "outputs": [
    {
     "data": {
      "text/plain": [
       "Index(['cust_id', 'lead_id', 'entity_type', 'entuty_type_1',\n",
       "       'rejected_field_reason', 'rejected_field_name', 'updated_at',\n",
       "       'solution_type', 'solution_type_level_2', 'solution_type_level_3'],\n",
       "      dtype='object')"
      ]
     },
     "execution_count": 14,
     "metadata": {},
     "output_type": "execute_result"
    }
   ],
   "source": [
    "rejection_data.columns"
   ]
  },
  {
   "cell_type": "code",
   "execution_count": 15,
   "metadata": {},
   "outputs": [],
   "source": [
    "rejection_data.loc[(rejection_data['entity_type']=='INDIVIDUAL') & (rejection_data['solution_type_level_2'].isna()),'solution_type']='DIY_MCO'\n",
    "rejection_data.loc[(rejection_data['entity_type']=='INDIVIDUAL') & (~rejection_data['solution_type_level_2'].isna()),'solution_type']='DIY_ReKYC'\n",
    "rejection_data.loc[~(rejection_data['entity_type']=='INDIVIDUAL'),'solution_type']='DIY_Upgrade'"
   ]
  },
  {
   "cell_type": "code",
   "execution_count": 16,
   "metadata": {},
   "outputs": [],
   "source": [
    "rejection_data.to_csv(output_file, index=False)"
   ]
  }
 ],
 "metadata": {
  "kernelspec": {
   "display_name": "base",
   "language": "python",
   "name": "python3"
  },
  "language_info": {
   "codemirror_mode": {
    "name": "ipython",
    "version": 3
   },
   "file_extension": ".py",
   "mimetype": "text/x-python",
   "name": "python",
   "nbconvert_exporter": "python",
   "pygments_lexer": "ipython3",
   "version": "3.12.7"
  }
 },
 "nbformat": 4,
 "nbformat_minor": 2
}
