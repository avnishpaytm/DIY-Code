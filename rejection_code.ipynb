{
 "cells": [
  {
   "cell_type": "code",
   "execution_count": 1,
   "metadata": {},
   "outputs": [],
   "source": [
    "import pandas as pd\n",
    "import numpy as np\n",
    "from datetime import datetime, timedelta\n",
    "from datetime import time\n",
    "\n",
    "import os\n"
   ]
  },
  {
   "cell_type": "code",
   "execution_count": 2,
   "metadata": {},
   "outputs": [],
   "source": [
    "input_file=\"diy_rejection_21-May'25.csv\"\n",
    "output_file=\"diy_mco_rejection_20th May'25.csv\""
   ]
  },
  {
   "cell_type": "code",
   "execution_count": 3,
   "metadata": {},
   "outputs": [],
   "source": [
    "#input_file=\"diy_all_rejection_01st April.csv\"\n",
    "#output_file=\"diy_mco_all_rejection_31st Mar'25.csv\""
   ]
  },
  {
   "cell_type": "code",
   "execution_count": 4,
   "metadata": {},
   "outputs": [
    {
     "data": {
      "text/plain": [
       "16434"
      ]
     },
     "execution_count": 4,
     "metadata": {},
     "output_type": "execute_result"
    }
   ],
   "source": [
    "rejection_data=pd.read_csv(input_file,low_memory=False,memory_map=True)\n",
    "len(rejection_data)"
   ]
  },
  {
   "cell_type": "code",
   "execution_count": 5,
   "metadata": {},
   "outputs": [
    {
     "data": {
      "text/html": [
       "<div>\n",
       "<style scoped>\n",
       "    .dataframe tbody tr th:only-of-type {\n",
       "        vertical-align: middle;\n",
       "    }\n",
       "\n",
       "    .dataframe tbody tr th {\n",
       "        vertical-align: top;\n",
       "    }\n",
       "\n",
       "    .dataframe thead th {\n",
       "        text-align: right;\n",
       "    }\n",
       "</style>\n",
       "<table border=\"1\" class=\"dataframe\">\n",
       "  <thead>\n",
       "    <tr style=\"text-align: right;\">\n",
       "      <th></th>\n",
       "      <th>cust_id</th>\n",
       "      <th>lead_id</th>\n",
       "      <th>entity_type</th>\n",
       "      <th>rejected_field_reason</th>\n",
       "      <th>rejected_field_name</th>\n",
       "      <th>updated_at</th>\n",
       "      <th>solution_type</th>\n",
       "      <th>solution_type_level_2</th>\n",
       "      <th>solution_type_level_3</th>\n",
       "    </tr>\n",
       "  </thead>\n",
       "  <tbody>\n",
       "    <tr>\n",
       "      <th>0</th>\n",
       "      <td>1007868460</td>\n",
       "      <td>e96c188d-5627-4b86-a664-0a85605af84e</td>\n",
       "      <td>INDIVIDUAL</td>\n",
       "      <td>Current Account not allowed for Individual mer...</td>\n",
       "      <td>BankStatement</td>\n",
       "      <td>2025-05-11 11:46:35.000</td>\n",
       "      <td>diy_mco</td>\n",
       "      <td>NaN</td>\n",
       "      <td>NaN</td>\n",
       "    </tr>\n",
       "    <tr>\n",
       "      <th>1</th>\n",
       "      <td>1355304800</td>\n",
       "      <td>b5422a9d-4d9d-4fac-b57d-58b331a7658f</td>\n",
       "      <td>PROPRIETORSHIP</td>\n",
       "      <td>Complete Shop photo not uploaded</td>\n",
       "      <td>shopFrontPhoto</td>\n",
       "      <td>2025-05-02 11:01:50.000</td>\n",
       "      <td>diy_mco</td>\n",
       "      <td>business_name_update</td>\n",
       "      <td>NaN</td>\n",
       "    </tr>\n",
       "    <tr>\n",
       "      <th>2</th>\n",
       "      <td>1866902951</td>\n",
       "      <td>ca723c0e-6b5a-4261-a613-fe5b6c6e9b69</td>\n",
       "      <td>PROPRIETORSHIP</td>\n",
       "      <td>Random/wrong photo</td>\n",
       "      <td>shopFrontPhoto</td>\n",
       "      <td>2025-05-15 21:21:33.000</td>\n",
       "      <td>diy_mco</td>\n",
       "      <td>diy_upgrade</td>\n",
       "      <td>NaN</td>\n",
       "    </tr>\n",
       "    <tr>\n",
       "      <th>3</th>\n",
       "      <td>1097297829</td>\n",
       "      <td>a2545e5b-77b4-421f-8e67-9ef64afa0f61</td>\n",
       "      <td>INDIVIDUAL</td>\n",
       "      <td>Beneficiary name/Account number/IFSC missing</td>\n",
       "      <td>BankStatement</td>\n",
       "      <td>2025-05-03 08:16:53.000</td>\n",
       "      <td>diy_mco</td>\n",
       "      <td>diy_upgrade</td>\n",
       "      <td>rekyc</td>\n",
       "    </tr>\n",
       "    <tr>\n",
       "      <th>4</th>\n",
       "      <td>500991630</td>\n",
       "      <td>a08aa18b-8536-4b5a-bb70-fd4ca611d1ac</td>\n",
       "      <td>PROPRIETORSHIP</td>\n",
       "      <td>Proprietor name is missing</td>\n",
       "      <td>udyam_udhyog_aadhaar</td>\n",
       "      <td>2025-05-13 12:47:02.000</td>\n",
       "      <td>diy_mco</td>\n",
       "      <td>diy_upgrade</td>\n",
       "      <td>NaN</td>\n",
       "    </tr>\n",
       "  </tbody>\n",
       "</table>\n",
       "</div>"
      ],
      "text/plain": [
       "      cust_id                               lead_id     entity_type  \\\n",
       "0  1007868460  e96c188d-5627-4b86-a664-0a85605af84e      INDIVIDUAL   \n",
       "1  1355304800  b5422a9d-4d9d-4fac-b57d-58b331a7658f  PROPRIETORSHIP   \n",
       "2  1866902951  ca723c0e-6b5a-4261-a613-fe5b6c6e9b69  PROPRIETORSHIP   \n",
       "3  1097297829  a2545e5b-77b4-421f-8e67-9ef64afa0f61      INDIVIDUAL   \n",
       "4   500991630  a08aa18b-8536-4b5a-bb70-fd4ca611d1ac  PROPRIETORSHIP   \n",
       "\n",
       "                               rejected_field_reason   rejected_field_name  \\\n",
       "0  Current Account not allowed for Individual mer...         BankStatement   \n",
       "1                   Complete Shop photo not uploaded        shopFrontPhoto   \n",
       "2                                 Random/wrong photo        shopFrontPhoto   \n",
       "3       Beneficiary name/Account number/IFSC missing         BankStatement   \n",
       "4                         Proprietor name is missing  udyam_udhyog_aadhaar   \n",
       "\n",
       "                updated_at solution_type solution_type_level_2  \\\n",
       "0  2025-05-11 11:46:35.000       diy_mco                   NaN   \n",
       "1  2025-05-02 11:01:50.000       diy_mco  business_name_update   \n",
       "2  2025-05-15 21:21:33.000       diy_mco           diy_upgrade   \n",
       "3  2025-05-03 08:16:53.000       diy_mco           diy_upgrade   \n",
       "4  2025-05-13 12:47:02.000       diy_mco           diy_upgrade   \n",
       "\n",
       "  solution_type_level_3  \n",
       "0                   NaN  \n",
       "1                   NaN  \n",
       "2                   NaN  \n",
       "3                 rekyc  \n",
       "4                   NaN  "
      ]
     },
     "execution_count": 5,
     "metadata": {},
     "output_type": "execute_result"
    }
   ],
   "source": [
    "rejection_data.head(5)"
   ]
  },
  {
   "cell_type": "code",
   "execution_count": 6,
   "metadata": {},
   "outputs": [
    {
     "data": {
      "text/html": [
       "<div>\n",
       "<style scoped>\n",
       "    .dataframe tbody tr th:only-of-type {\n",
       "        vertical-align: middle;\n",
       "    }\n",
       "\n",
       "    .dataframe tbody tr th {\n",
       "        vertical-align: top;\n",
       "    }\n",
       "\n",
       "    .dataframe thead th {\n",
       "        text-align: right;\n",
       "    }\n",
       "</style>\n",
       "<table border=\"1\" class=\"dataframe\">\n",
       "  <thead>\n",
       "    <tr style=\"text-align: right;\">\n",
       "      <th></th>\n",
       "      <th>cust_id</th>\n",
       "      <th>lead_id</th>\n",
       "      <th>entity_type</th>\n",
       "      <th>rejected_field_reason</th>\n",
       "      <th>rejected_field_name</th>\n",
       "      <th>updated_at</th>\n",
       "      <th>solution_type</th>\n",
       "      <th>solution_type_level_2</th>\n",
       "      <th>solution_type_level_3</th>\n",
       "    </tr>\n",
       "  </thead>\n",
       "  <tbody>\n",
       "    <tr>\n",
       "      <th>0</th>\n",
       "      <td>1007868460</td>\n",
       "      <td>e96c188d-5627-4b86-a664-0a85605af84e</td>\n",
       "      <td>INDIVIDUAL</td>\n",
       "      <td>Current Account not allowed for Individual mer...</td>\n",
       "      <td>BankStatement</td>\n",
       "      <td>2025-05-11 11:46:35</td>\n",
       "      <td>diy_mco</td>\n",
       "      <td>NaN</td>\n",
       "      <td>NaN</td>\n",
       "    </tr>\n",
       "    <tr>\n",
       "      <th>1</th>\n",
       "      <td>1355304800</td>\n",
       "      <td>b5422a9d-4d9d-4fac-b57d-58b331a7658f</td>\n",
       "      <td>PROPRIETORSHIP</td>\n",
       "      <td>Complete Shop photo not uploaded</td>\n",
       "      <td>shopFrontPhoto</td>\n",
       "      <td>2025-05-02 11:01:50</td>\n",
       "      <td>diy_mco</td>\n",
       "      <td>business_name_update</td>\n",
       "      <td>NaN</td>\n",
       "    </tr>\n",
       "    <tr>\n",
       "      <th>2</th>\n",
       "      <td>1866902951</td>\n",
       "      <td>ca723c0e-6b5a-4261-a613-fe5b6c6e9b69</td>\n",
       "      <td>PROPRIETORSHIP</td>\n",
       "      <td>Random/wrong photo</td>\n",
       "      <td>shopFrontPhoto</td>\n",
       "      <td>2025-05-15 21:21:33</td>\n",
       "      <td>diy_mco</td>\n",
       "      <td>diy_upgrade</td>\n",
       "      <td>NaN</td>\n",
       "    </tr>\n",
       "    <tr>\n",
       "      <th>3</th>\n",
       "      <td>1097297829</td>\n",
       "      <td>a2545e5b-77b4-421f-8e67-9ef64afa0f61</td>\n",
       "      <td>INDIVIDUAL</td>\n",
       "      <td>Beneficiary name/Account number/IFSC missing</td>\n",
       "      <td>BankStatement</td>\n",
       "      <td>2025-05-03 08:16:53</td>\n",
       "      <td>diy_mco</td>\n",
       "      <td>diy_upgrade</td>\n",
       "      <td>rekyc</td>\n",
       "    </tr>\n",
       "    <tr>\n",
       "      <th>4</th>\n",
       "      <td>500991630</td>\n",
       "      <td>a08aa18b-8536-4b5a-bb70-fd4ca611d1ac</td>\n",
       "      <td>PROPRIETORSHIP</td>\n",
       "      <td>Proprietor name is missing</td>\n",
       "      <td>udyam_udhyog_aadhaar</td>\n",
       "      <td>2025-05-13 12:47:02</td>\n",
       "      <td>diy_mco</td>\n",
       "      <td>diy_upgrade</td>\n",
       "      <td>NaN</td>\n",
       "    </tr>\n",
       "  </tbody>\n",
       "</table>\n",
       "</div>"
      ],
      "text/plain": [
       "      cust_id                               lead_id     entity_type  \\\n",
       "0  1007868460  e96c188d-5627-4b86-a664-0a85605af84e      INDIVIDUAL   \n",
       "1  1355304800  b5422a9d-4d9d-4fac-b57d-58b331a7658f  PROPRIETORSHIP   \n",
       "2  1866902951  ca723c0e-6b5a-4261-a613-fe5b6c6e9b69  PROPRIETORSHIP   \n",
       "3  1097297829  a2545e5b-77b4-421f-8e67-9ef64afa0f61      INDIVIDUAL   \n",
       "4   500991630  a08aa18b-8536-4b5a-bb70-fd4ca611d1ac  PROPRIETORSHIP   \n",
       "\n",
       "                               rejected_field_reason   rejected_field_name  \\\n",
       "0  Current Account not allowed for Individual mer...         BankStatement   \n",
       "1                   Complete Shop photo not uploaded        shopFrontPhoto   \n",
       "2                                 Random/wrong photo        shopFrontPhoto   \n",
       "3       Beneficiary name/Account number/IFSC missing         BankStatement   \n",
       "4                         Proprietor name is missing  udyam_udhyog_aadhaar   \n",
       "\n",
       "           updated_at solution_type solution_type_level_2  \\\n",
       "0 2025-05-11 11:46:35       diy_mco                   NaN   \n",
       "1 2025-05-02 11:01:50       diy_mco  business_name_update   \n",
       "2 2025-05-15 21:21:33       diy_mco           diy_upgrade   \n",
       "3 2025-05-03 08:16:53       diy_mco           diy_upgrade   \n",
       "4 2025-05-13 12:47:02       diy_mco           diy_upgrade   \n",
       "\n",
       "  solution_type_level_3  \n",
       "0                   NaN  \n",
       "1                   NaN  \n",
       "2                   NaN  \n",
       "3                 rekyc  \n",
       "4                   NaN  "
      ]
     },
     "execution_count": 6,
     "metadata": {},
     "output_type": "execute_result"
    }
   ],
   "source": [
    "rejection_data['updated_at']=pd.to_datetime(rejection_data['updated_at'],errors='coerce')\n",
    "rejection_data.head(5)"
   ]
  },
  {
   "cell_type": "code",
   "execution_count": 7,
   "metadata": {},
   "outputs": [
    {
     "data": {
      "text/plain": [
       "Timestamp('2025-05-21 00:00:00')"
      ]
     },
     "execution_count": 7,
     "metadata": {},
     "output_type": "execute_result"
    }
   ],
   "source": [
    "current_date = pd.Timestamp(datetime.now().date())\n",
    "current_date\n"
   ]
  },
  {
   "cell_type": "code",
   "execution_count": 8,
   "metadata": {},
   "outputs": [
    {
     "data": {
      "text/plain": [
       "16434"
      ]
     },
     "execution_count": 8,
     "metadata": {},
     "output_type": "execute_result"
    }
   ],
   "source": [
    "rejection_data=rejection_data[rejection_data['updated_at'].dt.date != current_date]\n",
    "len(rejection_data)"
   ]
  },
  {
   "cell_type": "code",
   "execution_count": 9,
   "metadata": {},
   "outputs": [
    {
     "data": {
      "text/plain": [
       "9441"
      ]
     },
     "execution_count": 9,
     "metadata": {},
     "output_type": "execute_result"
    }
   ],
   "source": [
    "rejection_data=rejection_data[rejection_data['solution_type_level_2'].isin(['diy_upgrade','']) | rejection_data['solution_type_level_2'].isna()]\n",
    "len(rejection_data)"
   ]
  },
  {
   "cell_type": "code",
   "execution_count": 10,
   "metadata": {},
   "outputs": [
    {
     "data": {
      "text/plain": [
       "entity_type\n",
       "INDIVIDUAL            6173\n",
       "PROPRIETORSHIP        3249\n",
       "NON_PROPRIETORSHIP      19\n",
       "Name: count, dtype: int64"
      ]
     },
     "execution_count": 10,
     "metadata": {},
     "output_type": "execute_result"
    }
   ],
   "source": [
    "rejection_data.loc[~rejection_data['entity_type'].isin(['INDIVIDUAL','PROPRIETORSHIP']),'entity_type']='NON_PROPRIETORSHIP'\n",
    "rejection_data['entity_type'].value_counts()"
   ]
  },
  {
   "cell_type": "code",
   "execution_count": 11,
   "metadata": {},
   "outputs": [
    {
     "data": {
      "text/plain": [
       "Index(['cust_id', 'lead_id', 'entity_type', 'entuty_type_1',\n",
       "       'rejected_field_reason', 'rejected_field_name', 'updated_at',\n",
       "       'solution_type', 'solution_type_level_2', 'solution_type_level_3'],\n",
       "      dtype='object')"
      ]
     },
     "execution_count": 11,
     "metadata": {},
     "output_type": "execute_result"
    }
   ],
   "source": [
    "rejection_data.insert(rejection_data.columns.get_loc('entity_type')+1,'entuty_type_1',np.nan)\n",
    "rejection_data.columns"
   ]
  },
  {
   "cell_type": "code",
   "execution_count": 12,
   "metadata": {},
   "outputs": [
    {
     "name": "stderr",
     "output_type": "stream",
     "text": [
      "C:\\Users\\avnish1.yadav\\AppData\\Local\\Temp\\ipykernel_20600\\2853859728.py:1: FutureWarning: Setting an item of incompatible dtype is deprecated and will raise in a future error of pandas. Value '['INDIVIDUAL' 'PROPRIETORSHIP' 'INDIVIDUAL' ... 'INDIVIDUAL' 'INDIVIDUAL'\n",
      " 'INDIVIDUAL']' has dtype incompatible with float64, please explicitly cast to a compatible dtype first.\n",
      "  rejection_data.loc[:, 'entuty_type_1'] = rejection_data['entity_type']\n"
     ]
    },
    {
     "data": {
      "text/plain": [
       "entuty_type_1\n",
       "INDIVIDUAL            6173\n",
       "PROPRIETORSHIP        3249\n",
       "NON_PROPRIETORSHIP      19\n",
       "Name: count, dtype: int64"
      ]
     },
     "execution_count": 12,
     "metadata": {},
     "output_type": "execute_result"
    }
   ],
   "source": [
    "rejection_data.loc[:, 'entuty_type_1'] = rejection_data['entity_type']\n",
    "rejection_data['entuty_type_1'].value_counts()"
   ]
  },
  {
   "cell_type": "code",
   "execution_count": 13,
   "metadata": {},
   "outputs": [
    {
     "data": {
      "text/plain": [
       "entuty_type_1\n",
       "INDIVIDUAL    6173\n",
       "NON_EDC       3268\n",
       "Name: count, dtype: int64"
      ]
     },
     "execution_count": 13,
     "metadata": {},
     "output_type": "execute_result"
    }
   ],
   "source": [
    "rejection_data['entuty_type_1']=rejection_data['entuty_type_1'].replace(['PROPRIETORSHIP','NON_PROPRIETORSHIP'],'NON_EDC')\n",
    "rejection_data['entuty_type_1'].value_counts()"
   ]
  },
  {
   "cell_type": "code",
   "execution_count": 14,
   "metadata": {},
   "outputs": [
    {
     "data": {
      "text/plain": [
       "Index(['cust_id', 'lead_id', 'entity_type', 'entuty_type_1',\n",
       "       'rejected_field_reason', 'rejected_field_name', 'updated_at',\n",
       "       'solution_type', 'solution_type_level_2', 'solution_type_level_3'],\n",
       "      dtype='object')"
      ]
     },
     "execution_count": 14,
     "metadata": {},
     "output_type": "execute_result"
    }
   ],
   "source": [
    "rejection_data.columns"
   ]
  },
  {
   "cell_type": "code",
   "execution_count": 15,
   "metadata": {},
   "outputs": [],
   "source": [
    "rejection_data.loc[(rejection_data['entity_type']=='INDIVIDUAL') & (rejection_data['solution_type_level_2'].isna()),'solution_type']='DIY_MCO'\n",
    "rejection_data.loc[(rejection_data['entity_type']=='INDIVIDUAL') & (~rejection_data['solution_type_level_2'].isna()),'solution_type']='DIY_ReKYC'\n",
    "rejection_data.loc[~(rejection_data['entity_type']=='INDIVIDUAL'),'solution_type']='DIY_Upgrade'"
   ]
  },
  {
   "cell_type": "code",
   "execution_count": 16,
   "metadata": {},
   "outputs": [],
   "source": [
    "rejection_data.to_csv(output_file, index=False)"
   ]
  }
 ],
 "metadata": {
  "kernelspec": {
   "display_name": "base",
   "language": "python",
   "name": "python3"
  },
  "language_info": {
   "codemirror_mode": {
    "name": "ipython",
    "version": 3
   },
   "file_extension": ".py",
   "mimetype": "text/x-python",
   "name": "python",
   "nbconvert_exporter": "python",
   "pygments_lexer": "ipython3",
   "version": "3.12.7"
  }
 },
 "nbformat": 4,
 "nbformat_minor": 2
}
