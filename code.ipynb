{
 "cells": [
  {
   "cell_type": "code",
   "execution_count": 1,
   "metadata": {},
   "outputs": [],
   "source": [
    "import pandas as pd\n",
    "import numpy as np\n",
    "from datetime import datetime, timedelta\n",
    "from datetime import time\n",
    "\n",
    "import os"
   ]
  },
  {
   "cell_type": "code",
   "execution_count": 2,
   "metadata": {},
   "outputs": [],
   "source": [
    "pd.set_option('display.max_columns', None)\n",
    "pd.set_option('display.width', 0)"
   ]
  },
  {
   "cell_type": "code",
   "execution_count": 3,
   "metadata": {},
   "outputs": [],
   "source": [
    "file = \"diy_mco_21-May'25.csv\"\n",
    "out_file=\"diy_mco_data_20th May'25.csv\""
   ]
  },
  {
   "cell_type": "code",
   "execution_count": 4,
   "metadata": {},
   "outputs": [],
   "source": [
    "\n",
    "raw_data=pd.read_csv(file,low_memory=False,memory_map=True)\n",
    "data=pd.read_csv(\"format.csv\",memory_map=True)\n",
    "table_data=pd.read_csv(\"table_data.csv\",memory_map=True)\n",
    "\n"
   ]
  },
  {
   "cell_type": "code",
   "execution_count": 5,
   "metadata": {},
   "outputs": [
    {
     "data": {
      "text/html": [
       "<div>\n",
       "<style scoped>\n",
       "    .dataframe tbody tr th:only-of-type {\n",
       "        vertical-align: middle;\n",
       "    }\n",
       "\n",
       "    .dataframe tbody tr th {\n",
       "        vertical-align: top;\n",
       "    }\n",
       "\n",
       "    .dataframe thead th {\n",
       "        text-align: right;\n",
       "    }\n",
       "</style>\n",
       "<table border=\"1\" class=\"dataframe\">\n",
       "  <thead>\n",
       "    <tr style=\"text-align: right;\">\n",
       "      <th></th>\n",
       "      <th>cust_id</th>\n",
       "      <th>lead_id</th>\n",
       "      <th>fse_cust_id</th>\n",
       "      <th>workflow_node_id</th>\n",
       "      <th>sub_stage</th>\n",
       "      <th>created_at</th>\n",
       "      <th>updated_at</th>\n",
       "      <th>solution_type_level_2</th>\n",
       "      <th>solution_type_level_3</th>\n",
       "      <th>entity_type</th>\n",
       "      <th>products_context</th>\n",
       "      <th>sbstage_count</th>\n",
       "      <th>name_match_status</th>\n",
       "      <th>mid</th>\n",
       "      <th>mid_creation_date</th>\n",
       "      <th>agent_team</th>\n",
       "      <th>qc_pending_max_created</th>\n",
       "      <th>panelqc_max_created</th>\n",
       "      <th>final_timestamp</th>\n",
       "      <th>first_qc_pending_min_created</th>\n",
       "      <th>sub_stage1</th>\n",
       "    </tr>\n",
       "  </thead>\n",
       "  <tbody>\n",
       "    <tr>\n",
       "      <th>0</th>\n",
       "      <td>1082835970</td>\n",
       "      <td>97b8b377-e7d1-4950-a755-c48ae4c80fbb</td>\n",
       "      <td>1082835970</td>\n",
       "      <td>2136</td>\n",
       "      <td>PARTNER_PROFILE_EDIT_FAILURE</td>\n",
       "      <td>2025-03-30 05:19:02.000</td>\n",
       "      <td>2025-05-04 09:59:16.000</td>\n",
       "      <td>ybl_rekyc_update</td>\n",
       "      <td>NaN</td>\n",
       "      <td>INDIVIDUAL</td>\n",
       "      <td>NaN</td>\n",
       "      <td>NaN</td>\n",
       "      <td>True</td>\n",
       "      <td>weIXZn54666530775591</td>\n",
       "      <td>2023-10-05 17:41:12.000</td>\n",
       "      <td>NaN</td>\n",
       "      <td>NaN</td>\n",
       "      <td>NaN</td>\n",
       "      <td>2025-05-04 09:59:16.000</td>\n",
       "      <td>NaN</td>\n",
       "      <td>NaN</td>\n",
       "    </tr>\n",
       "    <tr>\n",
       "      <th>1</th>\n",
       "      <td>1364989554</td>\n",
       "      <td>2ad40e86-1505-4fec-a497-304982b56712</td>\n",
       "      <td>1364989554</td>\n",
       "      <td>156</td>\n",
       "      <td>LEAD_SUCCESSFULLY_CLOSED</td>\n",
       "      <td>2025-05-15 15:16:53.000</td>\n",
       "      <td>2025-05-15 15:20:57.000</td>\n",
       "      <td>ybl_rekyc_update</td>\n",
       "      <td>NaN</td>\n",
       "      <td>INDIVIDUAL</td>\n",
       "      <td>NaN</td>\n",
       "      <td>NaN</td>\n",
       "      <td>True</td>\n",
       "      <td>Sifcgd55192325315097</td>\n",
       "      <td>2022-02-18 08:42:06.000</td>\n",
       "      <td>NaN</td>\n",
       "      <td>NaN</td>\n",
       "      <td>NaN</td>\n",
       "      <td>NaN</td>\n",
       "      <td>NaN</td>\n",
       "      <td>NaN</td>\n",
       "    </tr>\n",
       "    <tr>\n",
       "      <th>2</th>\n",
       "      <td>666081567</td>\n",
       "      <td>9c5f55fe-24a4-4178-9394-e0794c009eaa</td>\n",
       "      <td>666081567</td>\n",
       "      <td>156</td>\n",
       "      <td>LEAD_SUCCESSFULLY_CLOSED</td>\n",
       "      <td>2025-05-14 00:21:40.000</td>\n",
       "      <td>2025-05-14 08:56:27.000</td>\n",
       "      <td>NaN</td>\n",
       "      <td>NaN</td>\n",
       "      <td>INDIVIDUAL</td>\n",
       "      <td>NaN</td>\n",
       "      <td>{\"PANEL_SUCCESS\":1}</td>\n",
       "      <td>True</td>\n",
       "      <td>jCTxSJ94279835497787</td>\n",
       "      <td>2025-05-14 08:51:03.000</td>\n",
       "      <td>NaN</td>\n",
       "      <td>2025-05-14 00:34:38.000</td>\n",
       "      <td>2025-05-14 08:50:56.000</td>\n",
       "      <td>2025-05-14 08:50:56.000</td>\n",
       "      <td>2025-05-14 00:34:38.000</td>\n",
       "      <td>NaN</td>\n",
       "    </tr>\n",
       "  </tbody>\n",
       "</table>\n",
       "</div>"
      ],
      "text/plain": [
       "      cust_id                               lead_id  fse_cust_id  \\\n",
       "0  1082835970  97b8b377-e7d1-4950-a755-c48ae4c80fbb   1082835970   \n",
       "1  1364989554  2ad40e86-1505-4fec-a497-304982b56712   1364989554   \n",
       "2   666081567  9c5f55fe-24a4-4178-9394-e0794c009eaa    666081567   \n",
       "\n",
       "   workflow_node_id                     sub_stage               created_at  \\\n",
       "0              2136  PARTNER_PROFILE_EDIT_FAILURE  2025-03-30 05:19:02.000   \n",
       "1               156      LEAD_SUCCESSFULLY_CLOSED  2025-05-15 15:16:53.000   \n",
       "2               156      LEAD_SUCCESSFULLY_CLOSED  2025-05-14 00:21:40.000   \n",
       "\n",
       "                updated_at solution_type_level_2 solution_type_level_3  \\\n",
       "0  2025-05-04 09:59:16.000      ybl_rekyc_update                   NaN   \n",
       "1  2025-05-15 15:20:57.000      ybl_rekyc_update                   NaN   \n",
       "2  2025-05-14 08:56:27.000                   NaN                   NaN   \n",
       "\n",
       "  entity_type  products_context        sbstage_count name_match_status  \\\n",
       "0  INDIVIDUAL               NaN                  NaN              True   \n",
       "1  INDIVIDUAL               NaN                  NaN              True   \n",
       "2  INDIVIDUAL               NaN  {\"PANEL_SUCCESS\":1}              True   \n",
       "\n",
       "                    mid        mid_creation_date agent_team  \\\n",
       "0  weIXZn54666530775591  2023-10-05 17:41:12.000        NaN   \n",
       "1  Sifcgd55192325315097  2022-02-18 08:42:06.000        NaN   \n",
       "2  jCTxSJ94279835497787  2025-05-14 08:51:03.000        NaN   \n",
       "\n",
       "    qc_pending_max_created      panelqc_max_created          final_timestamp  \\\n",
       "0                      NaN                      NaN  2025-05-04 09:59:16.000   \n",
       "1                      NaN                      NaN                      NaN   \n",
       "2  2025-05-14 00:34:38.000  2025-05-14 08:50:56.000  2025-05-14 08:50:56.000   \n",
       "\n",
       "  first_qc_pending_min_created sub_stage1  \n",
       "0                          NaN        NaN  \n",
       "1                          NaN        NaN  \n",
       "2      2025-05-14 00:34:38.000        NaN  "
      ]
     },
     "execution_count": 5,
     "metadata": {},
     "output_type": "execute_result"
    }
   ],
   "source": [
    "raw_data.head(3)"
   ]
  },
  {
   "cell_type": "code",
   "execution_count": 6,
   "metadata": {},
   "outputs": [],
   "source": [
    "\n",
    "raw_data.insert(5,'q',0)"
   ]
  },
  {
   "cell_type": "code",
   "execution_count": 7,
   "metadata": {},
   "outputs": [
    {
     "data": {
      "text/plain": [
       "array([nan, 'Merchant Live', 'Documents Rejected (Pending at Sales Team)',\n",
       "       'Lead stuck in Intermediate Stages (Dedupe/Risk/PG rejections) ',\n",
       "       'Lead Created/Posted (Pending at Sales team for  Document Upload)',\n",
       "       'Leads Rejected in Risk Review'], dtype=object)"
      ]
     },
     "execution_count": 7,
     "metadata": {},
     "output_type": "execute_result"
    }
   ],
   "source": [
    "table_map = table_data.set_index('NODE ID')['Lead Status'].to_dict()\n",
    "raw_data['q'] = raw_data['workflow_node_id'].map(table_map)\n",
    "\n",
    "raw_data['q'].unique()"
   ]
  },
  {
   "cell_type": "code",
   "execution_count": 8,
   "metadata": {},
   "outputs": [
    {
     "data": {
      "text/plain": [
       "array([nan, 'Merchant Live', 'Documents Rejected (Pending at Sales Team)',\n",
       "       'Leads QC Auto Approved',\n",
       "       'Lead stuck in Intermediate Stages (Dedupe/Risk/PG rejections) ',\n",
       "       'Lead Created/Posted (Pending at Sales team for  Document Upload)',\n",
       "       'Leads Rejected in Risk Review'], dtype=object)"
      ]
     },
     "execution_count": 8,
     "metadata": {},
     "output_type": "execute_result"
    }
   ],
   "source": [
    "raw_data.loc[raw_data['sub_stage1']=='QC_AUTO_APPROVED','q']='Leads QC Auto Approved'\n",
    "\n",
    "raw_data['q'].unique()"
   ]
  },
  {
   "cell_type": "code",
   "execution_count": 9,
   "metadata": {},
   "outputs": [
    {
     "data": {
      "text/plain": [
       "sub_stage1\n",
       "QC_AUTO_APPROVED    738\n",
       "Name: count, dtype: int64"
      ]
     },
     "execution_count": 9,
     "metadata": {},
     "output_type": "execute_result"
    }
   ],
   "source": [
    "raw_data['sub_stage1'].value_counts()"
   ]
  },
  {
   "cell_type": "code",
   "execution_count": 10,
   "metadata": {},
   "outputs": [],
   "source": [
    "#raw_data.loc[raw_data['sub_stage1']=='QC_AUTO_APPROVED','q']='Leads QC Auto Approved'"
   ]
  },
  {
   "cell_type": "code",
   "execution_count": 11,
   "metadata": {},
   "outputs": [
    {
     "data": {
      "text/plain": [
       "q\n",
       "Merchant Live                                                       63041\n",
       "Documents Rejected (Pending at Sales Team)                          11465\n",
       "Leads QC Auto Approved                                                738\n",
       "Lead stuck in Intermediate Stages (Dedupe/Risk/PG rejections)         306\n",
       "Lead Created/Posted (Pending at Sales team for  Document Upload)       56\n",
       "Leads Rejected in Risk Review                                           1\n",
       "Name: count, dtype: int64"
      ]
     },
     "execution_count": 11,
     "metadata": {},
     "output_type": "execute_result"
    }
   ],
   "source": [
    "raw_data=raw_data.dropna(subset=['q'])\n",
    "\n",
    "raw_data['q'].value_counts()"
   ]
  },
  {
   "cell_type": "code",
   "execution_count": 12,
   "metadata": {},
   "outputs": [],
   "source": [
    "raw_data['remove_date']=raw_data['updated_at'].copy()\n",
    "\n",
    "raw_data['remove_date'] = pd.to_datetime(raw_data['remove_date'])\n",
    "\n",
    "raw_data['remove_date'] = raw_data['remove_date'].dt.strftime('%Y-%m-%d')\n",
    "\n",
    "raw_data['remove_date'] = pd.to_datetime(raw_data['remove_date'])\n"
   ]
  },
  {
   "cell_type": "code",
   "execution_count": 13,
   "metadata": {},
   "outputs": [],
   "source": [
    "\n",
    "current_timestamp = pd.Timestamp.now().normalize()\n",
    "\n",
    "raw_data=raw_data[raw_data['remove_date']!=current_timestamp]"
   ]
  },
  {
   "cell_type": "code",
   "execution_count": 14,
   "metadata": {},
   "outputs": [
    {
     "data": {
      "text/plain": [
       "73817"
      ]
     },
     "execution_count": 14,
     "metadata": {},
     "output_type": "execute_result"
    }
   ],
   "source": [
    "raw_data=raw_data.drop(columns=['remove_date'])\n",
    "len(raw_data)\n"
   ]
  },
  {
   "cell_type": "code",
   "execution_count": 15,
   "metadata": {},
   "outputs": [
    {
     "data": {
      "text/plain": [
       "array(['ybl_rekyc_update', nan, 'business_name_update', 'diy_upgrade',\n",
       "       'billing_address_update', 'display_name_update',\n",
       "       'auth_signatory_update', 'pan_addition',\n",
       "       'registered_address_update', 'diy_edc', 'gst_update'], dtype=object)"
      ]
     },
     "execution_count": 15,
     "metadata": {},
     "output_type": "execute_result"
    }
   ],
   "source": [
    "raw_data['solution_type_level_2'].unique()"
   ]
  },
  {
   "cell_type": "code",
   "execution_count": 16,
   "metadata": {},
   "outputs": [
    {
     "data": {
      "text/plain": [
       "33310"
      ]
     },
     "execution_count": 16,
     "metadata": {},
     "output_type": "execute_result"
    }
   ],
   "source": [
    "raw_data=raw_data[raw_data['solution_type_level_2'].isin(['diy_upgrade','']) | raw_data['solution_type_level_2'].isna()]\n",
    "len(raw_data)"
   ]
  },
  {
   "cell_type": "code",
   "execution_count": 17,
   "metadata": {},
   "outputs": [
    {
     "data": {
      "text/plain": [
       "array([nan, 'diy_upgrade'], dtype=object)"
      ]
     },
     "execution_count": 17,
     "metadata": {},
     "output_type": "execute_result"
    }
   ],
   "source": [
    "raw_data['solution_type_level_2'].unique()"
   ]
  },
  {
   "cell_type": "code",
   "execution_count": 18,
   "metadata": {},
   "outputs": [
    {
     "name": "stdout",
     "output_type": "stream",
     "text": [
      "33310\n"
     ]
    },
    {
     "data": {
      "text/html": [
       "<div>\n",
       "<style scoped>\n",
       "    .dataframe tbody tr th:only-of-type {\n",
       "        vertical-align: middle;\n",
       "    }\n",
       "\n",
       "    .dataframe tbody tr th {\n",
       "        vertical-align: top;\n",
       "    }\n",
       "\n",
       "    .dataframe thead th {\n",
       "        text-align: right;\n",
       "    }\n",
       "</style>\n",
       "<table border=\"1\" class=\"dataframe\">\n",
       "  <thead>\n",
       "    <tr style=\"text-align: right;\">\n",
       "      <th></th>\n",
       "      <th>cust_id</th>\n",
       "      <th>lead_id</th>\n",
       "      <th>fse_cust_id</th>\n",
       "      <th>workflow_node_id</th>\n",
       "      <th>sub_stage</th>\n",
       "      <th>q</th>\n",
       "      <th>created_at</th>\n",
       "      <th>updated_at</th>\n",
       "      <th>solution_type_level_2</th>\n",
       "      <th>solution_type_level_3</th>\n",
       "      <th>entity_type</th>\n",
       "      <th>products_context</th>\n",
       "      <th>sbstage_count</th>\n",
       "      <th>name_match_status</th>\n",
       "      <th>mid</th>\n",
       "      <th>mid_creation_date</th>\n",
       "      <th>agent_team</th>\n",
       "      <th>qc_pending_max_created</th>\n",
       "      <th>panelqc_max_created</th>\n",
       "      <th>final_timestamp</th>\n",
       "      <th>first_qc_pending_min_created</th>\n",
       "      <th>sub_stage1</th>\n",
       "    </tr>\n",
       "  </thead>\n",
       "  <tbody>\n",
       "    <tr>\n",
       "      <th>2</th>\n",
       "      <td>666081567</td>\n",
       "      <td>9c5f55fe-24a4-4178-9394-e0794c009eaa</td>\n",
       "      <td>666081567</td>\n",
       "      <td>156</td>\n",
       "      <td>LEAD_SUCCESSFULLY_CLOSED</td>\n",
       "      <td>Merchant Live</td>\n",
       "      <td>2025-05-14 00:21:40.000</td>\n",
       "      <td>2025-05-14 08:56:27.000</td>\n",
       "      <td>NaN</td>\n",
       "      <td>NaN</td>\n",
       "      <td>INDIVIDUAL</td>\n",
       "      <td>NaN</td>\n",
       "      <td>{\"PANEL_SUCCESS\":1}</td>\n",
       "      <td>True</td>\n",
       "      <td>jCTxSJ94279835497787</td>\n",
       "      <td>2025-05-14 08:51:03.000</td>\n",
       "      <td>NaN</td>\n",
       "      <td>2025-05-14 00:34:38.000</td>\n",
       "      <td>2025-05-14 08:50:56.000</td>\n",
       "      <td>2025-05-14 08:50:56.000</td>\n",
       "      <td>2025-05-14 00:34:38.000</td>\n",
       "      <td>NaN</td>\n",
       "    </tr>\n",
       "    <tr>\n",
       "      <th>7</th>\n",
       "      <td>1901811551</td>\n",
       "      <td>7f262a64-7715-4bd9-a72a-338c067c029b</td>\n",
       "      <td>1901811551</td>\n",
       "      <td>156</td>\n",
       "      <td>LEAD_SUCCESSFULLY_CLOSED</td>\n",
       "      <td>Merchant Live</td>\n",
       "      <td>2025-05-12 09:58:44.000</td>\n",
       "      <td>2025-05-12 10:16:41.000</td>\n",
       "      <td>NaN</td>\n",
       "      <td>NaN</td>\n",
       "      <td>INDIVIDUAL</td>\n",
       "      <td>NaN</td>\n",
       "      <td>{\"PANEL_SUCCESS\":1}</td>\n",
       "      <td>True</td>\n",
       "      <td>WFzmZQ79213420833945</td>\n",
       "      <td>2025-05-12 10:12:03.000</td>\n",
       "      <td>NaN</td>\n",
       "      <td>2025-05-12 10:07:29.000</td>\n",
       "      <td>2025-05-12 10:11:56.000</td>\n",
       "      <td>2025-05-12 10:11:56.000</td>\n",
       "      <td>2025-05-12 10:07:29.000</td>\n",
       "      <td>NaN</td>\n",
       "    </tr>\n",
       "    <tr>\n",
       "      <th>9</th>\n",
       "      <td>1951380315</td>\n",
       "      <td>d34ba893-6be9-4a67-b801-c32143cd65c9</td>\n",
       "      <td>1951380315</td>\n",
       "      <td>156</td>\n",
       "      <td>LEAD_SUCCESSFULLY_CLOSED</td>\n",
       "      <td>Merchant Live</td>\n",
       "      <td>2025-05-17 19:55:46.000</td>\n",
       "      <td>2025-05-17 20:21:37.000</td>\n",
       "      <td>NaN</td>\n",
       "      <td>NaN</td>\n",
       "      <td>INDIVIDUAL</td>\n",
       "      <td>NaN</td>\n",
       "      <td>{\"PANEL_SUCCESS\":1}</td>\n",
       "      <td>True</td>\n",
       "      <td>vQrSGS97752302201754</td>\n",
       "      <td>2025-05-17 20:12:59.000</td>\n",
       "      <td>NaN</td>\n",
       "      <td>2025-05-17 20:07:50.000</td>\n",
       "      <td>2025-05-17 20:12:50.000</td>\n",
       "      <td>2025-05-17 20:12:50.000</td>\n",
       "      <td>2025-05-17 20:07:50.000</td>\n",
       "      <td>NaN</td>\n",
       "    </tr>\n",
       "  </tbody>\n",
       "</table>\n",
       "</div>"
      ],
      "text/plain": [
       "      cust_id                               lead_id  fse_cust_id  \\\n",
       "2   666081567  9c5f55fe-24a4-4178-9394-e0794c009eaa    666081567   \n",
       "7  1901811551  7f262a64-7715-4bd9-a72a-338c067c029b   1901811551   \n",
       "9  1951380315  d34ba893-6be9-4a67-b801-c32143cd65c9   1951380315   \n",
       "\n",
       "   workflow_node_id                 sub_stage              q  \\\n",
       "2               156  LEAD_SUCCESSFULLY_CLOSED  Merchant Live   \n",
       "7               156  LEAD_SUCCESSFULLY_CLOSED  Merchant Live   \n",
       "9               156  LEAD_SUCCESSFULLY_CLOSED  Merchant Live   \n",
       "\n",
       "                created_at               updated_at solution_type_level_2  \\\n",
       "2  2025-05-14 00:21:40.000  2025-05-14 08:56:27.000                   NaN   \n",
       "7  2025-05-12 09:58:44.000  2025-05-12 10:16:41.000                   NaN   \n",
       "9  2025-05-17 19:55:46.000  2025-05-17 20:21:37.000                   NaN   \n",
       "\n",
       "  solution_type_level_3 entity_type  products_context        sbstage_count  \\\n",
       "2                   NaN  INDIVIDUAL               NaN  {\"PANEL_SUCCESS\":1}   \n",
       "7                   NaN  INDIVIDUAL               NaN  {\"PANEL_SUCCESS\":1}   \n",
       "9                   NaN  INDIVIDUAL               NaN  {\"PANEL_SUCCESS\":1}   \n",
       "\n",
       "  name_match_status                   mid        mid_creation_date agent_team  \\\n",
       "2              True  jCTxSJ94279835497787  2025-05-14 08:51:03.000        NaN   \n",
       "7              True  WFzmZQ79213420833945  2025-05-12 10:12:03.000        NaN   \n",
       "9              True  vQrSGS97752302201754  2025-05-17 20:12:59.000        NaN   \n",
       "\n",
       "    qc_pending_max_created      panelqc_max_created          final_timestamp  \\\n",
       "2  2025-05-14 00:34:38.000  2025-05-14 08:50:56.000  2025-05-14 08:50:56.000   \n",
       "7  2025-05-12 10:07:29.000  2025-05-12 10:11:56.000  2025-05-12 10:11:56.000   \n",
       "9  2025-05-17 20:07:50.000  2025-05-17 20:12:50.000  2025-05-17 20:12:50.000   \n",
       "\n",
       "  first_qc_pending_min_created sub_stage1  \n",
       "2      2025-05-14 00:34:38.000        NaN  \n",
       "7      2025-05-12 10:07:29.000        NaN  \n",
       "9      2025-05-17 20:07:50.000        NaN  "
      ]
     },
     "execution_count": 18,
     "metadata": {},
     "output_type": "execute_result"
    }
   ],
   "source": [
    "print(len(raw_data))\n",
    "raw_data.head(3)"
   ]
  },
  {
   "cell_type": "code",
   "execution_count": 19,
   "metadata": {},
   "outputs": [
    {
     "data": {
      "text/plain": [
       "Index(['cust_id', 'lead_id', 'fse_cust_id', 'workflow_node_id', 'sub_stage',\n",
       "       'q', 'created_at', 'updated_at', 'solution_type_level_2',\n",
       "       'solution_type_level_3', 'entity_type', 'products_context',\n",
       "       'sbstage_count', 'name_match_status', 'mid', 'mid_creation_date',\n",
       "       'agent_team', 'qc_pending_max_created', 'panelqc_max_created',\n",
       "       'final_timestamp', 'first_qc_pending_min_created', 'sub_stage1'],\n",
       "      dtype='object')"
      ]
     },
     "execution_count": 19,
     "metadata": {},
     "output_type": "execute_result"
    }
   ],
   "source": [
    "raw_data.columns"
   ]
  },
  {
   "cell_type": "code",
   "execution_count": 20,
   "metadata": {},
   "outputs": [
    {
     "data": {
      "text/plain": [
       "Index(['Merchant Cust ID', 'Lead_ID', 'Entity_Type', 'Node_id', 'Lead_Stage',\n",
       "       'Lead Status', 'Created Timestamp', 'Updated Timestamp', 'Ageing',\n",
       "       'Product_Context', 'Name_Match_Status', '10K/1rs MID Status',\n",
       "       'Final TimeStamp', 'QC Panel Successful TimeStamp',\n",
       "       'Last QC Pending Timestamp', 'TAT', 'Merchant QC TAT slab',\n",
       "       'Working TimeSlab', 'New Off Time', 'New Last QC Pending Time',\n",
       "       'Stage movement count', 'Rejection Ageing', 'cust_id', 'agent_team',\n",
       "       'mid', 'mid_created_date', 'solution_type_level_3', 'solution_type'],\n",
       "      dtype='object')"
      ]
     },
     "execution_count": 20,
     "metadata": {},
     "output_type": "execute_result"
    }
   ],
   "source": [
    "data.columns"
   ]
  },
  {
   "cell_type": "code",
   "execution_count": 21,
   "metadata": {},
   "outputs": [
    {
     "data": {
      "text/plain": [
       "33310"
      ]
     },
     "execution_count": 21,
     "metadata": {},
     "output_type": "execute_result"
    }
   ],
   "source": [
    "data[['Merchant Cust ID', 'Lead_ID', 'Entity_Type', 'Node_id', 'Lead_Stage',\n",
    "       'Lead Status', 'Created Timestamp', 'Updated Timestamp',\n",
    "       'Product_Context', 'Name_Match_Status',\n",
    "       'Final TimeStamp', 'QC Panel Successful TimeStamp',\n",
    "       'Last QC Pending Timestamp',\n",
    "       'Stage movement count', 'cust_id', 'agent_team',\n",
    "       'mid', 'mid_created_date', 'solution_type_level_3','solution_type','first_qc_pending_min_created']]=raw_data[['cust_id', 'lead_id','entity_type','workflow_node_id', 'sub_stage',\n",
    "       'q', 'created_at', 'updated_at','products_context','name_match_status','final_timestamp','panelqc_max_created','qc_pending_max_created','sbstage_count','fse_cust_id','agent_team','mid','mid_creation_date','solution_type_level_2','solution_type_level_3','first_qc_pending_min_created']]\n",
    "       \n",
    "len(data)"
   ]
  },
  {
   "cell_type": "code",
   "execution_count": 22,
   "metadata": {},
   "outputs": [
    {
     "data": {
      "text/html": [
       "<div>\n",
       "<style scoped>\n",
       "    .dataframe tbody tr th:only-of-type {\n",
       "        vertical-align: middle;\n",
       "    }\n",
       "\n",
       "    .dataframe tbody tr th {\n",
       "        vertical-align: top;\n",
       "    }\n",
       "\n",
       "    .dataframe thead th {\n",
       "        text-align: right;\n",
       "    }\n",
       "</style>\n",
       "<table border=\"1\" class=\"dataframe\">\n",
       "  <thead>\n",
       "    <tr style=\"text-align: right;\">\n",
       "      <th></th>\n",
       "      <th>Merchant Cust ID</th>\n",
       "      <th>Lead_ID</th>\n",
       "      <th>Entity_Type</th>\n",
       "      <th>Node_id</th>\n",
       "      <th>Lead_Stage</th>\n",
       "      <th>Lead Status</th>\n",
       "      <th>Created Timestamp</th>\n",
       "      <th>Updated Timestamp</th>\n",
       "      <th>Ageing</th>\n",
       "      <th>Product_Context</th>\n",
       "      <th>Name_Match_Status</th>\n",
       "      <th>10K/1rs MID Status</th>\n",
       "      <th>Final TimeStamp</th>\n",
       "      <th>QC Panel Successful TimeStamp</th>\n",
       "      <th>Last QC Pending Timestamp</th>\n",
       "      <th>TAT</th>\n",
       "      <th>Merchant QC TAT slab</th>\n",
       "      <th>Working TimeSlab</th>\n",
       "      <th>New Off Time</th>\n",
       "      <th>New Last QC Pending Time</th>\n",
       "      <th>Stage movement count</th>\n",
       "      <th>Rejection Ageing</th>\n",
       "      <th>cust_id</th>\n",
       "      <th>agent_team</th>\n",
       "      <th>mid</th>\n",
       "      <th>mid_created_date</th>\n",
       "      <th>solution_type_level_3</th>\n",
       "      <th>solution_type</th>\n",
       "      <th>first_qc_pending_min_created</th>\n",
       "    </tr>\n",
       "  </thead>\n",
       "  <tbody>\n",
       "    <tr>\n",
       "      <th>2</th>\n",
       "      <td>666081567</td>\n",
       "      <td>9c5f55fe-24a4-4178-9394-e0794c009eaa</td>\n",
       "      <td>INDIVIDUAL</td>\n",
       "      <td>156</td>\n",
       "      <td>LEAD_SUCCESSFULLY_CLOSED</td>\n",
       "      <td>Merchant Live</td>\n",
       "      <td>2025-05-14 00:21:40.000</td>\n",
       "      <td>2025-05-14 08:56:27.000</td>\n",
       "      <td>NaN</td>\n",
       "      <td>NaN</td>\n",
       "      <td>True</td>\n",
       "      <td>NaN</td>\n",
       "      <td>2025-05-14 08:50:56.000</td>\n",
       "      <td>2025-05-14 08:50:56.000</td>\n",
       "      <td>2025-05-14 00:34:38.000</td>\n",
       "      <td>NaN</td>\n",
       "      <td>NaN</td>\n",
       "      <td>NaN</td>\n",
       "      <td>NaN</td>\n",
       "      <td>NaN</td>\n",
       "      <td>{\"PANEL_SUCCESS\":1}</td>\n",
       "      <td>NaN</td>\n",
       "      <td>666081567</td>\n",
       "      <td>NaN</td>\n",
       "      <td>jCTxSJ94279835497787</td>\n",
       "      <td>2025-05-14 08:51:03.000</td>\n",
       "      <td>NaN</td>\n",
       "      <td>NaN</td>\n",
       "      <td>2025-05-14 00:34:38.000</td>\n",
       "    </tr>\n",
       "    <tr>\n",
       "      <th>7</th>\n",
       "      <td>1901811551</td>\n",
       "      <td>7f262a64-7715-4bd9-a72a-338c067c029b</td>\n",
       "      <td>INDIVIDUAL</td>\n",
       "      <td>156</td>\n",
       "      <td>LEAD_SUCCESSFULLY_CLOSED</td>\n",
       "      <td>Merchant Live</td>\n",
       "      <td>2025-05-12 09:58:44.000</td>\n",
       "      <td>2025-05-12 10:16:41.000</td>\n",
       "      <td>NaN</td>\n",
       "      <td>NaN</td>\n",
       "      <td>True</td>\n",
       "      <td>NaN</td>\n",
       "      <td>2025-05-12 10:11:56.000</td>\n",
       "      <td>2025-05-12 10:11:56.000</td>\n",
       "      <td>2025-05-12 10:07:29.000</td>\n",
       "      <td>NaN</td>\n",
       "      <td>NaN</td>\n",
       "      <td>NaN</td>\n",
       "      <td>NaN</td>\n",
       "      <td>NaN</td>\n",
       "      <td>{\"PANEL_SUCCESS\":1}</td>\n",
       "      <td>NaN</td>\n",
       "      <td>1901811551</td>\n",
       "      <td>NaN</td>\n",
       "      <td>WFzmZQ79213420833945</td>\n",
       "      <td>2025-05-12 10:12:03.000</td>\n",
       "      <td>NaN</td>\n",
       "      <td>NaN</td>\n",
       "      <td>2025-05-12 10:07:29.000</td>\n",
       "    </tr>\n",
       "    <tr>\n",
       "      <th>9</th>\n",
       "      <td>1951380315</td>\n",
       "      <td>d34ba893-6be9-4a67-b801-c32143cd65c9</td>\n",
       "      <td>INDIVIDUAL</td>\n",
       "      <td>156</td>\n",
       "      <td>LEAD_SUCCESSFULLY_CLOSED</td>\n",
       "      <td>Merchant Live</td>\n",
       "      <td>2025-05-17 19:55:46.000</td>\n",
       "      <td>2025-05-17 20:21:37.000</td>\n",
       "      <td>NaN</td>\n",
       "      <td>NaN</td>\n",
       "      <td>True</td>\n",
       "      <td>NaN</td>\n",
       "      <td>2025-05-17 20:12:50.000</td>\n",
       "      <td>2025-05-17 20:12:50.000</td>\n",
       "      <td>2025-05-17 20:07:50.000</td>\n",
       "      <td>NaN</td>\n",
       "      <td>NaN</td>\n",
       "      <td>NaN</td>\n",
       "      <td>NaN</td>\n",
       "      <td>NaN</td>\n",
       "      <td>{\"PANEL_SUCCESS\":1}</td>\n",
       "      <td>NaN</td>\n",
       "      <td>1951380315</td>\n",
       "      <td>NaN</td>\n",
       "      <td>vQrSGS97752302201754</td>\n",
       "      <td>2025-05-17 20:12:59.000</td>\n",
       "      <td>NaN</td>\n",
       "      <td>NaN</td>\n",
       "      <td>2025-05-17 20:07:50.000</td>\n",
       "    </tr>\n",
       "  </tbody>\n",
       "</table>\n",
       "</div>"
      ],
      "text/plain": [
       "   Merchant Cust ID                               Lead_ID Entity_Type  \\\n",
       "2         666081567  9c5f55fe-24a4-4178-9394-e0794c009eaa  INDIVIDUAL   \n",
       "7        1901811551  7f262a64-7715-4bd9-a72a-338c067c029b  INDIVIDUAL   \n",
       "9        1951380315  d34ba893-6be9-4a67-b801-c32143cd65c9  INDIVIDUAL   \n",
       "\n",
       "   Node_id                Lead_Stage    Lead Status        Created Timestamp  \\\n",
       "2      156  LEAD_SUCCESSFULLY_CLOSED  Merchant Live  2025-05-14 00:21:40.000   \n",
       "7      156  LEAD_SUCCESSFULLY_CLOSED  Merchant Live  2025-05-12 09:58:44.000   \n",
       "9      156  LEAD_SUCCESSFULLY_CLOSED  Merchant Live  2025-05-17 19:55:46.000   \n",
       "\n",
       "         Updated Timestamp Ageing  Product_Context Name_Match_Status  \\\n",
       "2  2025-05-14 08:56:27.000    NaN              NaN              True   \n",
       "7  2025-05-12 10:16:41.000    NaN              NaN              True   \n",
       "9  2025-05-17 20:21:37.000    NaN              NaN              True   \n",
       "\n",
       "  10K/1rs MID Status          Final TimeStamp QC Panel Successful TimeStamp  \\\n",
       "2                NaN  2025-05-14 08:50:56.000       2025-05-14 08:50:56.000   \n",
       "7                NaN  2025-05-12 10:11:56.000       2025-05-12 10:11:56.000   \n",
       "9                NaN  2025-05-17 20:12:50.000       2025-05-17 20:12:50.000   \n",
       "\n",
       "  Last QC Pending Timestamp  TAT Merchant QC TAT slab Working TimeSlab  \\\n",
       "2   2025-05-14 00:34:38.000  NaN                  NaN              NaN   \n",
       "7   2025-05-12 10:07:29.000  NaN                  NaN              NaN   \n",
       "9   2025-05-17 20:07:50.000  NaN                  NaN              NaN   \n",
       "\n",
       "  New Off Time New Last QC Pending Time Stage movement count Rejection Ageing  \\\n",
       "2          NaN                      NaN  {\"PANEL_SUCCESS\":1}              NaN   \n",
       "7          NaN                      NaN  {\"PANEL_SUCCESS\":1}              NaN   \n",
       "9          NaN                      NaN  {\"PANEL_SUCCESS\":1}              NaN   \n",
       "\n",
       "      cust_id agent_team                   mid         mid_created_date  \\\n",
       "2   666081567        NaN  jCTxSJ94279835497787  2025-05-14 08:51:03.000   \n",
       "7  1901811551        NaN  WFzmZQ79213420833945  2025-05-12 10:12:03.000   \n",
       "9  1951380315        NaN  vQrSGS97752302201754  2025-05-17 20:12:59.000   \n",
       "\n",
       "  solution_type_level_3 solution_type first_qc_pending_min_created  \n",
       "2                   NaN           NaN      2025-05-14 00:34:38.000  \n",
       "7                   NaN           NaN      2025-05-12 10:07:29.000  \n",
       "9                   NaN           NaN      2025-05-17 20:07:50.000  "
      ]
     },
     "execution_count": 22,
     "metadata": {},
     "output_type": "execute_result"
    }
   ],
   "source": [
    "data.head(3)\n"
   ]
  },
  {
   "cell_type": "code",
   "execution_count": 23,
   "metadata": {},
   "outputs": [],
   "source": [
    "data['Updated Timestamp']=pd.to_datetime(data['Updated Timestamp'])\n",
    "data['Created Timestamp']=pd.to_datetime(data['Created Timestamp'])\n",
    "data['QC Panel Successful TimeStamp']=pd.to_datetime(data['QC Panel Successful TimeStamp'])\n"
   ]
  },
  {
   "cell_type": "code",
   "execution_count": 24,
   "metadata": {},
   "outputs": [
    {
     "name": "stdout",
     "output_type": "stream",
     "text": [
      "2024-10-15 00:00:00\n",
      "<class 'datetime.datetime'>\n",
      "15\n",
      "10\n",
      "2024\n"
     ]
    }
   ],
   "source": [
    "user_date = '2024-10-15'  # Example: YYYY-MM-DD format\n",
    "\n",
    "# Convert the combined string into a datetime object\n",
    "custom_timestamp = datetime.strptime(user_date, '%Y-%m-%d')\n",
    "\n",
    "print(custom_timestamp)\n",
    "print(type(custom_timestamp))\n",
    "\n",
    "current_day = custom_timestamp.day\n",
    "current_month = custom_timestamp.month\n",
    "current_year = custom_timestamp.year\n",
    "\n",
    "print(current_day)\n",
    "print(current_month)\n",
    "print(current_year)\n"
   ]
  },
  {
   "cell_type": "code",
   "execution_count": 25,
   "metadata": {},
   "outputs": [
    {
     "name": "stdout",
     "output_type": "stream",
     "text": [
      "2025-05-14 13:54:32.201956\n"
     ]
    }
   ],
   "source": [
    "current_date = datetime.now() - timedelta(days=7)\n",
    "current_day = current_date.day\n",
    "current_month = current_date.month\n",
    "current_year = current_date.year\n",
    "print(current_date)\n",
    "\n",
    "data.loc[(data['Updated Timestamp'].dt.day>=current_day) &\n",
    "         (data['Updated Timestamp'].dt.month==current_month) &\n",
    "         (data['Updated Timestamp'].dt.year==current_year), 'Ageing']='Last 7 days'"
   ]
  },
  {
   "cell_type": "code",
   "execution_count": 26,
   "metadata": {},
   "outputs": [],
   "source": [
    "current_date = datetime.now() - timedelta(days=1)\n",
    "current_day = current_date.day\n",
    "current_month = current_date.month\n",
    "current_year = current_date.year\n",
    "current_date\n",
    "\n",
    "data.loc[(data['Updated Timestamp'].dt.day==current_day) &\n",
    "         (data['Updated Timestamp'].dt.month==current_month) &\n",
    "         (data['Updated Timestamp'].dt.year==current_year), 'Ageing']='Yesterday'"
   ]
  },
  {
   "cell_type": "code",
   "execution_count": 27,
   "metadata": {},
   "outputs": [],
   "source": [
    "data['Ageing']=data['Ageing'].fillna('')"
   ]
  },
  {
   "cell_type": "code",
   "execution_count": 28,
   "metadata": {},
   "outputs": [
    {
     "data": {
      "text/plain": [
       "Ageing\n",
       "               20863\n",
       "Last 7 days    10564\n",
       "Yesterday       1883\n",
       "Name: count, dtype: int64"
      ]
     },
     "execution_count": 28,
     "metadata": {},
     "output_type": "execute_result"
    }
   ],
   "source": [
    "data['Ageing'].value_counts()"
   ]
  },
  {
   "cell_type": "code",
   "execution_count": 29,
   "metadata": {},
   "outputs": [],
   "source": [
    "\n",
    "\n",
    "data.loc[data['Name_Match_Status']==True, ['Name_Match_Status', '10K/1rs MID Status']]=['Name Matched','10k MID created']\n",
    "\n",
    "data.loc[data['Name_Match_Status']==False, ['Name_Match_Status', '10K/1rs MID Status']]=['Name Not Matched','1Rs MID created']"
   ]
  },
  {
   "cell_type": "code",
   "execution_count": 30,
   "metadata": {},
   "outputs": [],
   "source": [
    "data['Name_Match_Status']=data['Name_Match_Status'].fillna('')"
   ]
  },
  {
   "cell_type": "code",
   "execution_count": 31,
   "metadata": {},
   "outputs": [
    {
     "data": {
      "text/plain": [
       "Name_Match_Status\n",
       "Name Matched        28766\n",
       "Name Not Matched     4544\n",
       "Name: count, dtype: int64"
      ]
     },
     "execution_count": 31,
     "metadata": {},
     "output_type": "execute_result"
    }
   ],
   "source": [
    "data['Name_Match_Status'].value_counts()"
   ]
  },
  {
   "cell_type": "code",
   "execution_count": 32,
   "metadata": {},
   "outputs": [
    {
     "data": {
      "text/plain": [
       "Series([], Name: count, dtype: int64)"
      ]
     },
     "execution_count": 32,
     "metadata": {},
     "output_type": "execute_result"
    }
   ],
   "source": [
    "data['Product_Context'].value_counts()"
   ]
  },
  {
   "cell_type": "code",
   "execution_count": 33,
   "metadata": {},
   "outputs": [],
   "source": [
    "data['mid_created_date']=pd.to_datetime(data['mid_created_date'],errors='coerce')"
   ]
  },
  {
   "cell_type": "code",
   "execution_count": 34,
   "metadata": {},
   "outputs": [
    {
     "data": {
      "text/plain": [
       "2    2025-05-14 08:51:03\n",
       "7    2025-05-12 10:12:03\n",
       "9    2025-05-17 20:12:59\n",
       "10   2021-01-27 14:05:19\n",
       "12   2025-05-07 13:40:00\n",
       "13   2025-05-16 08:31:52\n",
       "14   2025-05-03 08:33:49\n",
       "18   2025-05-19 14:08:20\n",
       "28   2025-05-13 16:50:31\n",
       "32   2025-05-08 17:28:00\n",
       "Name: mid_created_date, dtype: datetime64[ns]"
      ]
     },
     "execution_count": 34,
     "metadata": {},
     "output_type": "execute_result"
    }
   ],
   "source": [
    "data['mid_created_date'].head(10)"
   ]
  },
  {
   "cell_type": "code",
   "execution_count": 35,
   "metadata": {},
   "outputs": [
    {
     "data": {
      "text/plain": [
       "Index(['Merchant Cust ID', 'Lead_ID', 'Entity_Type', 'Node_id', 'Lead_Stage',\n",
       "       'Lead Status', 'Created Timestamp', 'Updated Timestamp', 'Ageing',\n",
       "       'Product_Context', 'Name_Match_Status', '10K/1rs MID Status',\n",
       "       'Final TimeStamp', 'QC Panel Successful TimeStamp',\n",
       "       'Last QC Pending Timestamp', 'TAT', 'Merchant QC TAT slab',\n",
       "       'Working TimeSlab', 'New Off Time', 'New Last QC Pending Time',\n",
       "       'Stage movement count', 'Rejection Ageing', 'cust_id', 'agent_team',\n",
       "       'mid', 'mid_created_date', 'solution_type_level_3', 'solution_type',\n",
       "       'first_qc_pending_min_created'],\n",
       "      dtype='object')"
      ]
     },
     "execution_count": 35,
     "metadata": {},
     "output_type": "execute_result"
    }
   ],
   "source": [
    "data.columns"
   ]
  },
  {
   "cell_type": "code",
   "execution_count": 36,
   "metadata": {},
   "outputs": [
    {
     "name": "stdout",
     "output_type": "stream",
     "text": [
      "2025-05-14 13:54:32.386803\n"
     ]
    }
   ],
   "source": [
    "current_date = datetime.now() - timedelta(days=7)\n",
    "current_day = current_date.day\n",
    "current_month = current_date.month\n",
    "current_year = current_date.year\n",
    "print(current_date)\n",
    "\n",
    "data.loc[ (data['Lead Status']== 'Documents Rejected (Pending at Sales Team)') & ((data['Updated Timestamp'].dt.day<current_day) &\n",
    "         (data['Updated Timestamp'].dt.month==current_month) &\n",
    "         (data['Updated Timestamp'].dt.year==current_year)), 'Rejection Ageing']='More Than 7 Days'"
   ]
  },
  {
   "cell_type": "code",
   "execution_count": 37,
   "metadata": {},
   "outputs": [],
   "source": [
    "current_date = datetime.now() - timedelta(days=7)\n",
    "current_day = current_date.day\n",
    "current_month = current_date.month\n",
    "current_year = current_date.year\n",
    "current_date\n",
    "\n",
    "data.loc[ (data['Lead Status']== 'Documents Rejected (Pending at Sales Team)') & ((data['Updated Timestamp'].dt.day>=current_day) &\n",
    "         (data['Updated Timestamp'].dt.month==current_month) &\n",
    "         (data['Updated Timestamp'].dt.year==current_year)), 'Rejection Ageing']='6-7 Days'"
   ]
  },
  {
   "cell_type": "code",
   "execution_count": 38,
   "metadata": {},
   "outputs": [],
   "source": [
    "current_date = datetime.now() - timedelta(days=5)\n",
    "current_day = current_date.day\n",
    "current_month = current_date.month\n",
    "current_year = current_date.year\n",
    "current_date\n",
    "\n",
    "data.loc[ (data['Lead Status']== 'Documents Rejected (Pending at Sales Team)') & ((data['Updated Timestamp'].dt.day>=current_day) &\n",
    "         (data['Updated Timestamp'].dt.month==current_month) &\n",
    "         (data['Updated Timestamp'].dt.year==current_year)), 'Rejection Ageing']='4-5 Days'"
   ]
  },
  {
   "cell_type": "code",
   "execution_count": 39,
   "metadata": {},
   "outputs": [],
   "source": [
    "current_date = datetime.now() - timedelta(days=3)\n",
    "current_day = current_date.day\n",
    "current_month = current_date.month\n",
    "current_year = current_date.year\n",
    "current_date\n",
    "\n",
    "data.loc[ (data['Lead Status']== 'Documents Rejected (Pending at Sales Team)') & ((data['Updated Timestamp'].dt.day>=current_day) &\n",
    "         (data['Updated Timestamp'].dt.month==current_month) &\n",
    "         (data['Updated Timestamp'].dt.year==current_year)), 'Rejection Ageing']='2-3 Days'"
   ]
  },
  {
   "cell_type": "code",
   "execution_count": 40,
   "metadata": {},
   "outputs": [],
   "source": [
    "current_date = datetime.now() - timedelta(days=1)\n",
    "current_day = current_date.day\n",
    "current_month = current_date.month\n",
    "current_year = current_date.year\n",
    "current_date\n",
    "\n",
    "data.loc[ (data['Lead Status']== 'Documents Rejected (Pending at Sales Team)') & ((data['Updated Timestamp'].dt.day==current_day) &\n",
    "         (data['Updated Timestamp'].dt.month==current_month) &\n",
    "         (data['Updated Timestamp'].dt.year==current_year)), 'Rejection Ageing']='Less Than 1 Day'"
   ]
  },
  {
   "cell_type": "code",
   "execution_count": 41,
   "metadata": {},
   "outputs": [
    {
     "data": {
      "text/plain": [
       "Rejection Ageing\n",
       "More Than 7 Days    3669\n",
       "4-5 Days             742\n",
       "6-7 Days             723\n",
       "2-3 Days             650\n",
       "Less Than 1 Day      461\n",
       "Name: count, dtype: int64"
      ]
     },
     "execution_count": 41,
     "metadata": {},
     "output_type": "execute_result"
    }
   ],
   "source": [
    "data['Rejection Ageing'].value_counts()"
   ]
  },
  {
   "cell_type": "code",
   "execution_count": 42,
   "metadata": {},
   "outputs": [
    {
     "data": {
      "text/plain": [
       "Rejection Ageing\n",
       "More Than 7 Days    3669\n",
       "4-5 Days             742\n",
       "6-7 Days             723\n",
       "2-3 Days             650\n",
       "Less Than 1 Day      461\n",
       "Name: count, dtype: int64"
      ]
     },
     "execution_count": 42,
     "metadata": {},
     "output_type": "execute_result"
    }
   ],
   "source": [
    "data['Rejection Ageing'].value_counts()"
   ]
  },
  {
   "cell_type": "code",
   "execution_count": 43,
   "metadata": {},
   "outputs": [],
   "source": [
    "data.loc[~data['Entity_Type'].isin(['INDIVIDUAL','PROPRIETORSHIP']),'Entity_Type']='NON_PROPRIETORSHIP'"
   ]
  },
  {
   "cell_type": "code",
   "execution_count": 44,
   "metadata": {},
   "outputs": [
    {
     "data": {
      "text/plain": [
       "Entity_Type\n",
       "INDIVIDUAL            30399\n",
       "PROPRIETORSHIP         2900\n",
       "NON_PROPRIETORSHIP       11\n",
       "Name: count, dtype: int64"
      ]
     },
     "execution_count": 44,
     "metadata": {},
     "output_type": "execute_result"
    }
   ],
   "source": [
    "data['Entity_Type'].value_counts()"
   ]
  },
  {
   "cell_type": "code",
   "execution_count": 45,
   "metadata": {},
   "outputs": [
    {
     "data": {
      "text/plain": [
       "Index(['Merchant Cust ID', 'Lead_ID', 'Entity_Type', 'Node_id', 'Lead_Stage',\n",
       "       'Lead Status', 'Created Timestamp', 'Updated Timestamp', 'Ageing',\n",
       "       'Product_Context', 'Name_Match_Status', '10K/1rs MID Status',\n",
       "       'Final TimeStamp', 'QC Panel Successful TimeStamp',\n",
       "       'Last QC Pending Timestamp', 'TAT', 'Merchant QC TAT slab',\n",
       "       'Working TimeSlab', 'New Off Time', 'New Last QC Pending Time',\n",
       "       'Stage movement count', 'Rejection Ageing', 'cust_id', 'agent_team',\n",
       "       'mid', 'mid_created_date', 'solution_type_level_3', 'solution_type',\n",
       "       'first_qc_pending_min_created'],\n",
       "      dtype='object')"
      ]
     },
     "execution_count": 45,
     "metadata": {},
     "output_type": "execute_result"
    }
   ],
   "source": [
    "data.columns"
   ]
  },
  {
   "cell_type": "code",
   "execution_count": 46,
   "metadata": {},
   "outputs": [
    {
     "data": {
      "text/plain": [
       "Lead Status\n",
       "Merchant Live                                                       26295\n",
       "Documents Rejected (Pending at Sales Team)                           6245\n",
       "Leads QC Auto Approved                                                673\n",
       "Lead stuck in Intermediate Stages (Dedupe/Risk/PG rejections)          96\n",
       "Lead Created/Posted (Pending at Sales team for  Document Upload)        1\n",
       "Name: count, dtype: int64"
      ]
     },
     "execution_count": 46,
     "metadata": {},
     "output_type": "execute_result"
    }
   ],
   "source": [
    "data['Lead Status'].value_counts()"
   ]
  },
  {
   "cell_type": "code",
   "execution_count": 47,
   "metadata": {},
   "outputs": [
    {
     "name": "stdout",
     "output_type": "stream",
     "text": [
      "0\n"
     ]
    },
    {
     "data": {
      "text/html": [
       "<div>\n",
       "<style scoped>\n",
       "    .dataframe tbody tr th:only-of-type {\n",
       "        vertical-align: middle;\n",
       "    }\n",
       "\n",
       "    .dataframe tbody tr th {\n",
       "        vertical-align: top;\n",
       "    }\n",
       "\n",
       "    .dataframe thead th {\n",
       "        text-align: right;\n",
       "    }\n",
       "</style>\n",
       "<table border=\"1\" class=\"dataframe\">\n",
       "  <thead>\n",
       "    <tr style=\"text-align: right;\">\n",
       "      <th></th>\n",
       "      <th>Lead_ID</th>\n",
       "      <th>id</th>\n",
       "    </tr>\n",
       "  </thead>\n",
       "  <tbody>\n",
       "  </tbody>\n",
       "</table>\n",
       "</div>"
      ],
      "text/plain": [
       "Empty DataFrame\n",
       "Columns: [Lead_ID, id]\n",
       "Index: []"
      ]
     },
     "execution_count": 47,
     "metadata": {},
     "output_type": "execute_result"
    }
   ],
   "source": [
    "null_rejected_timeStamp=data[(data['Lead Status']=='Documents Rejected (Pending at Sales Team)')&(data['Last QC Pending Timestamp'].isnull())]\n",
    "\n",
    "\n",
    "null_rejected_timeStamp=null_rejected_timeStamp[['Lead_ID']]\n",
    "\n",
    "print(len(null_rejected_timeStamp))\n",
    "\n",
    "null_rejected_timeStamp['id']=\"'\" + null_rejected_timeStamp['Lead_ID'] + \"'\" + \",\"\n",
    "\n",
    "null_rejected_timeStamp.head(3)\n",
    "\n",
    "#null_rejected_timeStamp.to_csv(\"rejected_null.csv\", index=False)\n"
   ]
  },
  {
   "cell_type": "code",
   "execution_count": 48,
   "metadata": {},
   "outputs": [
    {
     "name": "stdout",
     "output_type": "stream",
     "text": [
      "33310\n"
     ]
    }
   ],
   "source": [
    "# raise Exception(\"Stop execution here\")\n",
    "\n",
    "print(len(data))"
   ]
  },
  {
   "cell_type": "code",
   "execution_count": 49,
   "metadata": {},
   "outputs": [],
   "source": [
    "#rejected_null_value=pd.read_csv('rejected_null_value.csv')\n",
    "\n",
    "#rejected_null_value['q']=pd.to_datetime(rejected_null_value['q'],format='%d-%m-%Y %H:%M:%S')\n",
    "\n",
    "#print(rejected_null_value.columns)"
   ]
  },
  {
   "cell_type": "code",
   "execution_count": 50,
   "metadata": {},
   "outputs": [
    {
     "name": "stdout",
     "output_type": "stream",
     "text": [
      "33310\n"
     ]
    }
   ],
   "source": [
    "#print(rejected_null_value.head(3))\n",
    "print(len(data))"
   ]
  },
  {
   "cell_type": "code",
   "execution_count": 51,
   "metadata": {},
   "outputs": [],
   "source": [
    "\n",
    "# Aggregate the right DataFrame by taking the first occurrence per lead_id\n",
    "#rejected_agg = rejected_null_value.groupby('lead_id').first().reset_index()\n",
    "\n",
    "# Merge the DataFrames on the single column\n",
    "#data = data.merge(rejected_agg[['lead_id', 'Status']], left_on='Lead_ID', right_on='lead_id', how='left')\n",
    "\n",
    "# Fill in values based on conditions\n",
    "#data.loc[(data['Lead Status'] == 'Documents Rejected (Pending at Sales Team)') & (data['Last QC Pending Timestamp'].isnull()), 'Last QC Pending Timestamp'] = data['q']\n"
   ]
  },
  {
   "cell_type": "code",
   "execution_count": 52,
   "metadata": {},
   "outputs": [
    {
     "name": "stdout",
     "output_type": "stream",
     "text": [
      "Index(['Merchant Cust ID', 'Lead_ID', 'Entity_Type', 'Node_id', 'Lead_Stage',\n",
      "       'Lead Status', 'Created Timestamp', 'Updated Timestamp', 'Ageing',\n",
      "       'Product_Context', 'Name_Match_Status', '10K/1rs MID Status',\n",
      "       'Final TimeStamp', 'QC Panel Successful TimeStamp',\n",
      "       'Last QC Pending Timestamp', 'TAT', 'Merchant QC TAT slab',\n",
      "       'Working TimeSlab', 'New Off Time', 'New Last QC Pending Time',\n",
      "       'Stage movement count', 'Rejection Ageing', 'cust_id', 'agent_team',\n",
      "       'mid', 'mid_created_date', 'solution_type_level_3', 'solution_type',\n",
      "       'first_qc_pending_min_created'],\n",
      "      dtype='object')\n",
      "0\n",
      "33310\n"
     ]
    }
   ],
   "source": [
    "#data=data.merge(rejected_null_value,left_on='Lead_ID',right_on='lead_id',how='left')\n",
    "\n",
    "#data.loc[(data['Lead Status']=='Documents Rejected (Pending at Sales Team)') & (data['Last QC Pending Timestamp'].isnull()) ,'Last QC Pending Timestamp']=data['q']\n",
    "\n",
    "#data=data.drop(columns=['lead_id','q'])\n",
    "\n",
    "print(data.columns)\n",
    "print(len(data[(data['Lead Status']=='Documents Rejected (Pending at Sales Team)')&(data['Last QC Pending Timestamp'].isnull())]))\n",
    "print(len(data))"
   ]
  },
  {
   "cell_type": "code",
   "execution_count": 53,
   "metadata": {},
   "outputs": [],
   "source": [
    "data['Final TimeStamp']=pd.to_datetime(data['Final TimeStamp'])\n",
    "data['Last QC Pending Timestamp']=pd.to_datetime(data['Last QC Pending Timestamp'])"
   ]
  },
  {
   "cell_type": "code",
   "execution_count": 54,
   "metadata": {},
   "outputs": [
    {
     "name": "stdout",
     "output_type": "stream",
     "text": [
      "33310\n"
     ]
    }
   ],
   "source": [
    "# type(data['Final TimeStamp'][0])\n",
    "#print(type(data['Last QC Pending Timestamp'][0]))\n",
    "print(len(data))"
   ]
  },
  {
   "cell_type": "code",
   "execution_count": 55,
   "metadata": {},
   "outputs": [
    {
     "data": {
      "text/plain": [
       "Index(['Merchant Cust ID', 'Lead_ID', 'Entity_Type', 'Node_id', 'Lead_Stage',\n",
       "       'Lead Status', 'Created Timestamp', 'Updated Timestamp', 'Ageing',\n",
       "       'Product_Context', 'Name_Match_Status', '10K/1rs MID Status',\n",
       "       'Final TimeStamp', 'QC Panel Successful TimeStamp',\n",
       "       'Last QC Pending Timestamp', 'TAT', 'Merchant QC TAT slab',\n",
       "       'Working TimeSlab', 'New Off Time', 'New Last QC Pending Time',\n",
       "       'Stage movement count', 'Rejection Ageing', 'cust_id', 'agent_team',\n",
       "       'mid', 'mid_created_date', 'solution_type_level_3', 'solution_type',\n",
       "       'first_qc_pending_min_created'],\n",
       "      dtype='object')"
      ]
     },
     "execution_count": 55,
     "metadata": {},
     "output_type": "execute_result"
    }
   ],
   "source": [
    "data.columns"
   ]
  },
  {
   "cell_type": "code",
   "execution_count": 56,
   "metadata": {},
   "outputs": [
    {
     "data": {
      "text/plain": [
       "2    2025-05-14 00:34:38\n",
       "7    2025-05-12 10:07:29\n",
       "9    2025-05-17 20:07:50\n",
       "10   2025-05-20 15:28:21\n",
       "12   2025-05-07 13:38:16\n",
       "13   2025-05-15 22:59:08\n",
       "14   2025-05-02 23:30:16\n",
       "18   2025-05-19 14:03:14\n",
       "28                   NaT\n",
       "32   2025-05-08 17:26:02\n",
       "Name: Last QC Pending Timestamp, dtype: datetime64[ns]"
      ]
     },
     "execution_count": 56,
     "metadata": {},
     "output_type": "execute_result"
    }
   ],
   "source": [
    "data['Last QC Pending Timestamp'].head(10)"
   ]
  },
  {
   "cell_type": "code",
   "execution_count": 57,
   "metadata": {},
   "outputs": [
    {
     "data": {
      "text/plain": [
       "2     Offtime\n",
       "7      Intime\n",
       "9      Intime\n",
       "10     Intime\n",
       "12     Intime\n",
       "13    Offtime\n",
       "14    Offtime\n",
       "18     Intime\n",
       "28    Offtime\n",
       "32     Intime\n",
       "Name: Working TimeSlab, dtype: object"
      ]
     },
     "execution_count": 57,
     "metadata": {},
     "output_type": "execute_result"
    }
   ],
   "source": [
    "\n",
    "\n",
    "data['Last QC Pending Timestamp']=pd.to_datetime(data['Last QC Pending Timestamp'], errors='coerce')\n",
    "\n",
    "# Define the start and end times\n",
    "#start_time = time(8, 30, 0)\n",
    "#end_time = time(21, 30, 0)\n",
    "\n",
    "start_time = time(8, 00, 0)\n",
    "end_time = time(22, 00, 0)\n",
    "\n",
    "\n",
    "\n",
    "# Apply the condition to classify as 'Intime' or 'Offtime' based on the time component of 'N'\n",
    "data['Working TimeSlab'] = data['Last QC Pending Timestamp'].apply(lambda x: 'Offtime' if pd.isna(x) else ('Intime' if start_time <= x.time() <= end_time else 'Offtime'))\n",
    "\n",
    "\n",
    "data['Working TimeSlab'].head(10)"
   ]
  },
  {
   "cell_type": "code",
   "execution_count": 58,
   "metadata": {},
   "outputs": [
    {
     "data": {
      "text/plain": [
       "Working TimeSlab\n",
       "Intime     27864\n",
       "Offtime     5446\n",
       "Name: count, dtype: int64"
      ]
     },
     "execution_count": 58,
     "metadata": {},
     "output_type": "execute_result"
    }
   ],
   "source": [
    "data['Working TimeSlab'].value_counts()"
   ]
  },
  {
   "cell_type": "code",
   "execution_count": 59,
   "metadata": {},
   "outputs": [
    {
     "data": {
      "text/plain": [
       "Index(['Merchant Cust ID', 'Lead_ID', 'Entity_Type', 'Node_id', 'Lead_Stage',\n",
       "       'Lead Status', 'Created Timestamp', 'Updated Timestamp', 'Ageing',\n",
       "       'Product_Context', 'Name_Match_Status', '10K/1rs MID Status',\n",
       "       'Final TimeStamp', 'QC Panel Successful TimeStamp',\n",
       "       'Last QC Pending Timestamp', 'TAT', 'Merchant QC TAT slab',\n",
       "       'Working TimeSlab', 'New Off Time', 'New Last QC Pending Time',\n",
       "       'Stage movement count', 'Rejection Ageing', 'cust_id', 'agent_team',\n",
       "       'mid', 'mid_created_date', 'solution_type_level_3', 'solution_type',\n",
       "       'first_qc_pending_min_created'],\n",
       "      dtype='object')"
      ]
     },
     "execution_count": 59,
     "metadata": {},
     "output_type": "execute_result"
    }
   ],
   "source": [
    "data.columns"
   ]
  },
  {
   "cell_type": "code",
   "execution_count": 60,
   "metadata": {},
   "outputs": [],
   "source": [
    "#out_time_start = pd.to_datetime(\"21:30\").time()\n",
    "#out_time_end = pd.to_datetime(\"23:59:59\").time()\n",
    "#morning_time_end = pd.to_datetime(\"08:30\").time()\n",
    "\n",
    "out_time_start = pd.to_datetime(\"22:00\").time()\n",
    "out_time_end = pd.to_datetime(\"23:59:59\").time()\n",
    "morning_time_end = pd.to_datetime(\"08:00\").time()\n",
    "\n",
    "data['Last QC Pending Timestamp'] = pd.to_datetime(data['Last QC Pending Timestamp'], errors='coerce')\n",
    "\n",
    "\n",
    "# Apply conditions to create column R\n",
    "def process_timestamp(row):\n",
    "    timestamp = row['Last QC Pending Timestamp']\n",
    "    \n",
    "    # Check if timestamp is NaT\n",
    "    if pd.isna(timestamp):\n",
    "        return np.nan\n",
    "    \n",
    "    time = timestamp.time()\n",
    "    \n",
    "    if row['Working TimeSlab'] == 'Offtime':\n",
    "        if out_time_start <= time <= out_time_end:\n",
    "            # Condition 1: Increment date by 1\n",
    "            return timestamp + pd.DateOffset(days=1)\n",
    "        elif time < morning_time_end:\n",
    "            # Condition 2: Return the same timestamp\n",
    "            return timestamp\n",
    "    # Condition 3: Return blank for 'intime'\n",
    "    return np.nan\n",
    "\n",
    "\n",
    "data['New Off Time'] = data.apply(process_timestamp, axis=1)"
   ]
  },
  {
   "cell_type": "code",
   "execution_count": 61,
   "metadata": {},
   "outputs": [],
   "source": [
    "# Function to create S column based on R\n",
    "def generate_s(row):\n",
    "    if pd.notna(row['New Off Time']):  # If R is not NaT or blank\n",
    "        # Set time to 08:30 on the same date as R\n",
    "        return row['New Off Time'].replace(hour=8, minute=00, second=0)\n",
    "    else:\n",
    "        # If R is NaT or blank, copy the value from Q\n",
    "        return row['Last QC Pending Timestamp']\n",
    "    \n",
    "\n",
    "data['New Last QC Pending Time'] = data.apply(generate_s, axis=1)"
   ]
  },
  {
   "cell_type": "code",
   "execution_count": 62,
   "metadata": {},
   "outputs": [
    {
     "data": {
      "text/plain": [
       "Index(['Merchant Cust ID', 'Lead_ID', 'Entity_Type', 'Node_id', 'Lead_Stage',\n",
       "       'Lead Status', 'Created Timestamp', 'Updated Timestamp', 'Ageing',\n",
       "       'Product_Context', 'Name_Match_Status', '10K/1rs MID Status',\n",
       "       'Final TimeStamp', 'QC Panel Successful TimeStamp',\n",
       "       'Last QC Pending Timestamp', 'TAT', 'Merchant QC TAT slab',\n",
       "       'Working TimeSlab', 'New Off Time', 'New Last QC Pending Time',\n",
       "       'Stage movement count', 'Rejection Ageing', 'cust_id', 'agent_team',\n",
       "       'mid', 'mid_created_date', 'solution_type_level_3', 'solution_type',\n",
       "       'first_qc_pending_min_created'],\n",
       "      dtype='object')"
      ]
     },
     "execution_count": 62,
     "metadata": {},
     "output_type": "execute_result"
    }
   ],
   "source": [
    "data.columns"
   ]
  },
  {
   "cell_type": "code",
   "execution_count": 63,
   "metadata": {},
   "outputs": [],
   "source": [
    "# Calculate the difference between L and S and format it as HH:mm:ss\n",
    "def calculate_difference(row):\n",
    "    if isinstance(row['New Last QC Pending Time'], pd.Timestamp) and isinstance(row['Final TimeStamp'], pd.Timestamp):\n",
    "        diff = row['Final TimeStamp'] - row['New Last QC Pending Time']\n",
    "        return diff  # Extract HH:mm:ss from Timedelta\n",
    "    return np.nan  # Return NaN if either L or S is not a timestamp\n",
    "\n",
    "# Apply function to create Difference column\n",
    "data['TAT'] = data.apply(calculate_difference, axis=1)"
   ]
  },
  {
   "cell_type": "code",
   "execution_count": 64,
   "metadata": {},
   "outputs": [
    {
     "data": {
      "text/plain": [
       "2    0 days 00:50:56\n",
       "7    0 days 00:04:27\n",
       "9    0 days 00:05:00\n",
       "10   0 days 00:10:33\n",
       "12   0 days 00:01:33\n",
       "13   0 days 00:31:49\n",
       "14   0 days 00:33:45\n",
       "18   0 days 00:04:57\n",
       "28               NaT\n",
       "32   0 days 00:01:50\n",
       "Name: TAT, dtype: timedelta64[ns]"
      ]
     },
     "execution_count": 64,
     "metadata": {},
     "output_type": "execute_result"
    }
   ],
   "source": [
    "data['TAT'].head(10)"
   ]
  },
  {
   "cell_type": "code",
   "execution_count": 65,
   "metadata": {},
   "outputs": [],
   "source": [
    "# Update TAT where it is negative to be the difference between L and N\n",
    "def adjust_negative_tat(row):\n",
    "    if pd.notna(row['TAT']) and row['TAT'] < pd.Timedelta(0):  # Check if TAT is negative\n",
    "        if isinstance(row['Final TimeStamp'], pd.Timestamp) and isinstance(row['Last QC Pending Timestamp'], pd.Timestamp):\n",
    "            return row['Final TimeStamp'] - row['Last QC Pending Timestamp']  # Calculate L - N if TAT is negative\n",
    "    return row['TAT']  # Keep original TAT if not negative\n",
    "\n",
    "# Apply function to adjust negative TAT values\n",
    "data['TAT'] = data.apply(adjust_negative_tat, axis=1)"
   ]
  },
  {
   "cell_type": "code",
   "execution_count": 66,
   "metadata": {},
   "outputs": [
    {
     "name": "stdout",
     "output_type": "stream",
     "text": [
      "       Final TimeStamp Last QC Pending Timestamp             TAT\n",
      "2  2025-05-14 08:50:56       2025-05-14 00:34:38 0 days 00:50:56\n",
      "7  2025-05-12 10:11:56       2025-05-12 10:07:29 0 days 00:04:27\n",
      "9  2025-05-17 20:12:50       2025-05-17 20:07:50 0 days 00:05:00\n",
      "10 2025-05-20 15:38:54       2025-05-20 15:28:21 0 days 00:10:33\n",
      "12 2025-05-07 13:39:49       2025-05-07 13:38:16 0 days 00:01:33\n",
      "13 2025-05-16 08:31:49       2025-05-15 22:59:08 0 days 00:31:49\n",
      "14 2025-05-03 08:33:45       2025-05-02 23:30:16 0 days 00:33:45\n",
      "18 2025-05-19 14:08:11       2025-05-19 14:03:14 0 days 00:04:57\n",
      "28                 NaT                       NaT             NaT\n",
      "32 2025-05-08 17:27:52       2025-05-08 17:26:02 0 days 00:01:50\n",
      "33310\n"
     ]
    }
   ],
   "source": [
    "print(data[['Final TimeStamp','Last QC Pending Timestamp','TAT']].head(10))\n",
    "print(len(data))"
   ]
  },
  {
   "cell_type": "code",
   "execution_count": 67,
   "metadata": {},
   "outputs": [
    {
     "data": {
      "text/html": [
       "<div>\n",
       "<style scoped>\n",
       "    .dataframe tbody tr th:only-of-type {\n",
       "        vertical-align: middle;\n",
       "    }\n",
       "\n",
       "    .dataframe tbody tr th {\n",
       "        vertical-align: top;\n",
       "    }\n",
       "\n",
       "    .dataframe thead th {\n",
       "        text-align: right;\n",
       "    }\n",
       "</style>\n",
       "<table border=\"1\" class=\"dataframe\">\n",
       "  <thead>\n",
       "    <tr style=\"text-align: right;\">\n",
       "      <th></th>\n",
       "      <th>Merchant Cust ID</th>\n",
       "      <th>Lead_ID</th>\n",
       "      <th>Entity_Type</th>\n",
       "      <th>Node_id</th>\n",
       "      <th>Lead_Stage</th>\n",
       "      <th>Lead Status</th>\n",
       "      <th>Created Timestamp</th>\n",
       "      <th>Updated Timestamp</th>\n",
       "      <th>Ageing</th>\n",
       "      <th>Product_Context</th>\n",
       "      <th>Name_Match_Status</th>\n",
       "      <th>10K/1rs MID Status</th>\n",
       "      <th>Final TimeStamp</th>\n",
       "      <th>QC Panel Successful TimeStamp</th>\n",
       "      <th>Last QC Pending Timestamp</th>\n",
       "      <th>TAT</th>\n",
       "      <th>Merchant QC TAT slab</th>\n",
       "      <th>Working TimeSlab</th>\n",
       "      <th>New Off Time</th>\n",
       "      <th>New Last QC Pending Time</th>\n",
       "      <th>Stage movement count</th>\n",
       "      <th>Rejection Ageing</th>\n",
       "      <th>cust_id</th>\n",
       "      <th>agent_team</th>\n",
       "      <th>mid</th>\n",
       "      <th>mid_created_date</th>\n",
       "      <th>solution_type_level_3</th>\n",
       "      <th>solution_type</th>\n",
       "      <th>first_qc_pending_min_created</th>\n",
       "    </tr>\n",
       "  </thead>\n",
       "  <tbody>\n",
       "  </tbody>\n",
       "</table>\n",
       "</div>"
      ],
      "text/plain": [
       "Empty DataFrame\n",
       "Columns: [Merchant Cust ID, Lead_ID, Entity_Type, Node_id, Lead_Stage, Lead Status, Created Timestamp, Updated Timestamp, Ageing, Product_Context, Name_Match_Status, 10K/1rs MID Status, Final TimeStamp, QC Panel Successful TimeStamp, Last QC Pending Timestamp, TAT, Merchant QC TAT slab, Working TimeSlab, New Off Time, New Last QC Pending Time, Stage movement count, Rejection Ageing, cust_id, agent_team, mid, mid_created_date, solution_type_level_3, solution_type, first_qc_pending_min_created]\n",
       "Index: []"
      ]
     },
     "execution_count": 67,
     "metadata": {},
     "output_type": "execute_result"
    }
   ],
   "source": [
    "#len(data[((data['Lead Status']=='Merchant Live') | (data['Lead Status']=='Documents Rejected (Pending at Sales Team)'))&(data['TAT'].isnull())])\n",
    "\n",
    "data[((data['Lead Status']=='Merchant Live') | (data['Lead Status']=='Documents Rejected (Pending at Sales Team)'))&(data['TAT'].isnull())]"
   ]
  },
  {
   "cell_type": "code",
   "execution_count": 68,
   "metadata": {},
   "outputs": [
    {
     "data": {
      "text/plain": [
       "33310"
      ]
     },
     "execution_count": 68,
     "metadata": {},
     "output_type": "execute_result"
    }
   ],
   "source": [
    "len(data[~(((data['Lead Status'] == 'Merchant Live') | (data['Lead Status'] == 'Documents Rejected (Pending at Sales Team)')) & (data['TAT'].isnull()))])"
   ]
  },
  {
   "cell_type": "code",
   "execution_count": 69,
   "metadata": {},
   "outputs": [
    {
     "data": {
      "text/plain": [
       "0"
      ]
     },
     "execution_count": 69,
     "metadata": {},
     "output_type": "execute_result"
    }
   ],
   "source": [
    "data = data[~(((data['Lead Status'] == 'Merchant Live') | (data['Lead Status'] == 'Documents Rejected (Pending at Sales Team)')) & (data['TAT'].isnull()))]\n",
    "\n",
    "\n",
    "len(data[((data['Lead Status']=='Merchant Live') | (data['Lead Status']=='Documents Rejected (Pending at Sales Team)'))&(data['TAT'].isnull())])"
   ]
  },
  {
   "cell_type": "code",
   "execution_count": 70,
   "metadata": {},
   "outputs": [],
   "source": [
    "def categorize_time(td):\n",
    "    total_minutes = td.total_seconds() / 60  # Convert timedelta to total minutes\n",
    "    if total_minutes < 2:\n",
    "        return 'Leads QCed in less than 02 min'\n",
    "    elif 2 <= total_minutes < 5:\n",
    "        return 'Leads QCed in between 02 - 05 min'\n",
    "    elif 5 <= total_minutes < 10:\n",
    "        return 'Leads QCed in between 05 - 10 min'\n",
    "    elif 10 <= total_minutes < 15:\n",
    "        return 'Leads QCed in between 10 - 15 min'\n",
    "    elif 15 <= total_minutes < 30:\n",
    "        return 'Leads QCed in between 15 - 30 min'\n",
    "    elif 30 <= total_minutes < 60:\n",
    "        return 'Leads QCed in between 30 min - 01 hr'\n",
    "    else:\n",
    "        return 'leads QCed in more than 01 hr'\n",
    "\n",
    "\n",
    "\n",
    "data.loc[(data['Lead Status']=='Merchant Live') | (data['Lead Status']=='Documents Rejected (Pending at Sales Team)'),'Merchant QC TAT slab']=data['TAT'].apply(categorize_time)\n",
    "\n"
   ]
  },
  {
   "cell_type": "code",
   "execution_count": 71,
   "metadata": {},
   "outputs": [
    {
     "data": {
      "text/plain": [
       "Merchant QC TAT slab\n",
       "Leads QCed in less than 02 min          10989\n",
       "Leads QCed in between 02 - 05 min        7005\n",
       "leads QCed in more than 01 hr            6578\n",
       "Leads QCed in between 05 - 10 min        2836\n",
       "Leads QCed in between 30 min - 01 hr     2441\n",
       "Leads QCed in between 15 - 30 min        1743\n",
       "Leads QCed in between 10 - 15 min         948\n",
       "Name: count, dtype: int64"
      ]
     },
     "execution_count": 71,
     "metadata": {},
     "output_type": "execute_result"
    }
   ],
   "source": [
    "data['Merchant QC TAT slab'].value_counts()"
   ]
  },
  {
   "cell_type": "code",
   "execution_count": 72,
   "metadata": {},
   "outputs": [
    {
     "data": {
      "text/plain": [
       "Index(['Merchant Cust ID', 'Lead_ID', 'Entity_Type', 'Node_id', 'Lead_Stage',\n",
       "       'Lead Status', 'Created Timestamp', 'Updated Timestamp', 'Ageing',\n",
       "       'Product_Context', 'Name_Match_Status', '10K/1rs MID Status',\n",
       "       'Final TimeStamp', 'QC Panel Successful TimeStamp',\n",
       "       'Last QC Pending Timestamp', 'TAT', 'Merchant QC TAT slab',\n",
       "       'Working TimeSlab', 'New Off Time', 'New Last QC Pending Time',\n",
       "       'Stage movement count', 'Rejection Ageing', 'cust_id', 'agent_team',\n",
       "       'mid', 'mid_created_date', 'solution_type_level_3', 'solution_type',\n",
       "       'first_qc_pending_min_created'],\n",
       "      dtype='object')"
      ]
     },
     "execution_count": 72,
     "metadata": {},
     "output_type": "execute_result"
    }
   ],
   "source": [
    "data.columns"
   ]
  },
  {
   "cell_type": "code",
   "execution_count": 73,
   "metadata": {},
   "outputs": [
    {
     "data": {
      "text/plain": [
       "array([nan, 'diy_upgrade'], dtype=object)"
      ]
     },
     "execution_count": 73,
     "metadata": {},
     "output_type": "execute_result"
    }
   ],
   "source": [
    "data['solution_type_level_3'].unique()"
   ]
  },
  {
   "cell_type": "code",
   "execution_count": 74,
   "metadata": {},
   "outputs": [],
   "source": [
    "data.loc[(data['Entity_Type']=='INDIVIDUAL') & (data['solution_type_level_3'].isna()),'solution_type']='DIY_MCO'\n",
    "data.loc[(data['Entity_Type']=='INDIVIDUAL') & (~data['solution_type_level_3'].isna()),'solution_type']='DIY_ReKYC'\n",
    "data.loc[~(data['Entity_Type']=='INDIVIDUAL'),'solution_type']='DIY_Upgrade'"
   ]
  },
  {
   "cell_type": "code",
   "execution_count": 75,
   "metadata": {},
   "outputs": [
    {
     "data": {
      "text/plain": [
       "array(['DIY_MCO', 'DIY_Upgrade', 'DIY_ReKYC'], dtype=object)"
      ]
     },
     "execution_count": 75,
     "metadata": {},
     "output_type": "execute_result"
    }
   ],
   "source": [
    "data['solution_type'].unique()"
   ]
  },
  {
   "cell_type": "code",
   "execution_count": 76,
   "metadata": {},
   "outputs": [],
   "source": [
    "# Convert date columns to datetime\n",
    "data['first_qc_pending_min_created'] = pd.to_datetime(data['first_qc_pending_min_created'], errors='coerce')\n"
   ]
  },
  {
   "cell_type": "code",
   "execution_count": null,
   "metadata": {},
   "outputs": [],
   "source": [
    "# Calculate the time difference (TAT) and handle NaT cases\n",
    "data['end_to_end_tat'] = data['Final TimeStamp'] - data['first_qc_pending_min_created']\n",
    "data['end_to_end_tat'] = data['end_to_end_tat'].apply(lambda x: '' if pd.isna(x) else str(x))"
   ]
  },
  {
   "cell_type": "code",
   "execution_count": 78,
   "metadata": {},
   "outputs": [],
   "source": [
    "\n",
    "# Categorize the time difference\n",
    "def categorize_time(tat):\n",
    "    if tat == '':\n",
    "        return ''  # Return blank for missing TAT\n",
    "    # Convert string timedelta back to timedelta object\n",
    "    td = pd.to_timedelta(tat)\n",
    "    total_minutes = td.total_seconds() / 60  # Convert timedelta to minutes\n",
    "    if total_minutes < 2:\n",
    "        return 'Leads QCed in less than 02 min'\n",
    "    elif 2 <= total_minutes < 5:\n",
    "        return 'Leads QCed in between 02 - 05 min'\n",
    "    elif 5 <= total_minutes < 10:\n",
    "        return 'Leads QCed in between 05 - 10 min'\n",
    "    elif 10 <= total_minutes < 15:\n",
    "        return 'Leads QCed in between 10 - 15 min'\n",
    "    elif 15 <= total_minutes < 30:\n",
    "        return 'Leads QCed in between 15 - 30 min'\n",
    "    elif 30 <= total_minutes < 60:\n",
    "        return 'Leads QCed in between 30 min - 01 hr'\n",
    "    else:\n",
    "        return 'Leads QCed in more than 01 hr'\n",
    "\n",
    "# Apply the function to the DataFrame based on the conditions\n",
    "conditions = data['Lead Status'].isin(['Merchant Live', 'Documents Rejected (Pending at Sales Team)'])\n",
    "data.loc[conditions, 'End to End TAT slab'] = data.loc[conditions, 'end_to_end_tat'].apply(categorize_time)"
   ]
  },
  {
   "cell_type": "code",
   "execution_count": 79,
   "metadata": {},
   "outputs": [
    {
     "data": {
      "text/html": [
       "<div>\n",
       "<style scoped>\n",
       "    .dataframe tbody tr th:only-of-type {\n",
       "        vertical-align: middle;\n",
       "    }\n",
       "\n",
       "    .dataframe tbody tr th {\n",
       "        vertical-align: top;\n",
       "    }\n",
       "\n",
       "    .dataframe thead th {\n",
       "        text-align: right;\n",
       "    }\n",
       "</style>\n",
       "<table border=\"1\" class=\"dataframe\">\n",
       "  <thead>\n",
       "    <tr style=\"text-align: right;\">\n",
       "      <th></th>\n",
       "      <th>Merchant Cust ID</th>\n",
       "      <th>Lead_ID</th>\n",
       "      <th>Entity_Type</th>\n",
       "      <th>Node_id</th>\n",
       "      <th>Lead_Stage</th>\n",
       "      <th>Lead Status</th>\n",
       "      <th>Created Timestamp</th>\n",
       "      <th>Updated Timestamp</th>\n",
       "      <th>Ageing</th>\n",
       "      <th>Product_Context</th>\n",
       "      <th>Name_Match_Status</th>\n",
       "      <th>10K/1rs MID Status</th>\n",
       "      <th>Final TimeStamp</th>\n",
       "      <th>QC Panel Successful TimeStamp</th>\n",
       "      <th>Last QC Pending Timestamp</th>\n",
       "      <th>TAT</th>\n",
       "      <th>Merchant QC TAT slab</th>\n",
       "      <th>Working TimeSlab</th>\n",
       "      <th>New Off Time</th>\n",
       "      <th>New Last QC Pending Time</th>\n",
       "      <th>Stage movement count</th>\n",
       "      <th>Rejection Ageing</th>\n",
       "      <th>cust_id</th>\n",
       "      <th>agent_team</th>\n",
       "      <th>mid</th>\n",
       "      <th>mid_created_date</th>\n",
       "      <th>solution_type_level_3</th>\n",
       "      <th>solution_type</th>\n",
       "      <th>first_qc_pending_min_created</th>\n",
       "      <th>end_to_end_tat</th>\n",
       "      <th>End to End TAT slab</th>\n",
       "    </tr>\n",
       "  </thead>\n",
       "  <tbody>\n",
       "    <tr>\n",
       "      <th>2</th>\n",
       "      <td>666081567</td>\n",
       "      <td>9c5f55fe-24a4-4178-9394-e0794c009eaa</td>\n",
       "      <td>INDIVIDUAL</td>\n",
       "      <td>156</td>\n",
       "      <td>LEAD_SUCCESSFULLY_CLOSED</td>\n",
       "      <td>Merchant Live</td>\n",
       "      <td>2025-05-14 00:21:40</td>\n",
       "      <td>2025-05-14 08:56:27</td>\n",
       "      <td>Last 7 days</td>\n",
       "      <td>NaN</td>\n",
       "      <td>Name Matched</td>\n",
       "      <td>10k MID created</td>\n",
       "      <td>2025-05-14 08:50:56</td>\n",
       "      <td>2025-05-14 08:50:56</td>\n",
       "      <td>2025-05-14 00:34:38</td>\n",
       "      <td>0 days 00:50:56</td>\n",
       "      <td>Leads QCed in between 30 min - 01 hr</td>\n",
       "      <td>Offtime</td>\n",
       "      <td>2025-05-14 00:34:38</td>\n",
       "      <td>2025-05-14 08:00:00</td>\n",
       "      <td>{\"PANEL_SUCCESS\":1}</td>\n",
       "      <td>NaN</td>\n",
       "      <td>666081567</td>\n",
       "      <td>NaN</td>\n",
       "      <td>jCTxSJ94279835497787</td>\n",
       "      <td>2025-05-14 08:51:03</td>\n",
       "      <td>NaN</td>\n",
       "      <td>DIY_MCO</td>\n",
       "      <td>2025-05-14 00:34:38</td>\n",
       "      <td>0 days 00:50:56</td>\n",
       "      <td>Leads QCed in between 30 min - 01 hr</td>\n",
       "    </tr>\n",
       "    <tr>\n",
       "      <th>7</th>\n",
       "      <td>1901811551</td>\n",
       "      <td>7f262a64-7715-4bd9-a72a-338c067c029b</td>\n",
       "      <td>INDIVIDUAL</td>\n",
       "      <td>156</td>\n",
       "      <td>LEAD_SUCCESSFULLY_CLOSED</td>\n",
       "      <td>Merchant Live</td>\n",
       "      <td>2025-05-12 09:58:44</td>\n",
       "      <td>2025-05-12 10:16:41</td>\n",
       "      <td></td>\n",
       "      <td>NaN</td>\n",
       "      <td>Name Matched</td>\n",
       "      <td>10k MID created</td>\n",
       "      <td>2025-05-12 10:11:56</td>\n",
       "      <td>2025-05-12 10:11:56</td>\n",
       "      <td>2025-05-12 10:07:29</td>\n",
       "      <td>0 days 00:04:27</td>\n",
       "      <td>Leads QCed in between 02 - 05 min</td>\n",
       "      <td>Intime</td>\n",
       "      <td>NaT</td>\n",
       "      <td>2025-05-12 10:07:29</td>\n",
       "      <td>{\"PANEL_SUCCESS\":1}</td>\n",
       "      <td>NaN</td>\n",
       "      <td>1901811551</td>\n",
       "      <td>NaN</td>\n",
       "      <td>WFzmZQ79213420833945</td>\n",
       "      <td>2025-05-12 10:12:03</td>\n",
       "      <td>NaN</td>\n",
       "      <td>DIY_MCO</td>\n",
       "      <td>2025-05-12 10:07:29</td>\n",
       "      <td>0 days 00:04:27</td>\n",
       "      <td>Leads QCed in between 02 - 05 min</td>\n",
       "    </tr>\n",
       "  </tbody>\n",
       "</table>\n",
       "</div>"
      ],
      "text/plain": [
       "   Merchant Cust ID                               Lead_ID Entity_Type  \\\n",
       "2         666081567  9c5f55fe-24a4-4178-9394-e0794c009eaa  INDIVIDUAL   \n",
       "7        1901811551  7f262a64-7715-4bd9-a72a-338c067c029b  INDIVIDUAL   \n",
       "\n",
       "   Node_id                Lead_Stage    Lead Status   Created Timestamp  \\\n",
       "2      156  LEAD_SUCCESSFULLY_CLOSED  Merchant Live 2025-05-14 00:21:40   \n",
       "7      156  LEAD_SUCCESSFULLY_CLOSED  Merchant Live 2025-05-12 09:58:44   \n",
       "\n",
       "    Updated Timestamp       Ageing  Product_Context Name_Match_Status  \\\n",
       "2 2025-05-14 08:56:27  Last 7 days              NaN      Name Matched   \n",
       "7 2025-05-12 10:16:41                           NaN      Name Matched   \n",
       "\n",
       "  10K/1rs MID Status     Final TimeStamp QC Panel Successful TimeStamp  \\\n",
       "2    10k MID created 2025-05-14 08:50:56           2025-05-14 08:50:56   \n",
       "7    10k MID created 2025-05-12 10:11:56           2025-05-12 10:11:56   \n",
       "\n",
       "  Last QC Pending Timestamp             TAT  \\\n",
       "2       2025-05-14 00:34:38 0 days 00:50:56   \n",
       "7       2025-05-12 10:07:29 0 days 00:04:27   \n",
       "\n",
       "                   Merchant QC TAT slab Working TimeSlab        New Off Time  \\\n",
       "2  Leads QCed in between 30 min - 01 hr          Offtime 2025-05-14 00:34:38   \n",
       "7     Leads QCed in between 02 - 05 min           Intime                 NaT   \n",
       "\n",
       "  New Last QC Pending Time Stage movement count Rejection Ageing     cust_id  \\\n",
       "2      2025-05-14 08:00:00  {\"PANEL_SUCCESS\":1}              NaN   666081567   \n",
       "7      2025-05-12 10:07:29  {\"PANEL_SUCCESS\":1}              NaN  1901811551   \n",
       "\n",
       "  agent_team                   mid    mid_created_date solution_type_level_3  \\\n",
       "2        NaN  jCTxSJ94279835497787 2025-05-14 08:51:03                   NaN   \n",
       "7        NaN  WFzmZQ79213420833945 2025-05-12 10:12:03                   NaN   \n",
       "\n",
       "  solution_type first_qc_pending_min_created   end_to_end_tat  \\\n",
       "2       DIY_MCO          2025-05-14 00:34:38  0 days 00:50:56   \n",
       "7       DIY_MCO          2025-05-12 10:07:29  0 days 00:04:27   \n",
       "\n",
       "                    End to End TAT slab  \n",
       "2  Leads QCed in between 30 min - 01 hr  \n",
       "7     Leads QCed in between 02 - 05 min  "
      ]
     },
     "execution_count": 79,
     "metadata": {},
     "output_type": "execute_result"
    }
   ],
   "source": [
    "data.head(2)"
   ]
  },
  {
   "cell_type": "code",
   "execution_count": 80,
   "metadata": {},
   "outputs": [],
   "source": [
    "data.to_csv(out_file, index=False)"
   ]
  },
  {
   "cell_type": "code",
   "execution_count": null,
   "metadata": {},
   "outputs": [],
   "source": []
  },
  {
   "cell_type": "code",
   "execution_count": null,
   "metadata": {},
   "outputs": [],
   "source": []
  },
  {
   "cell_type": "code",
   "execution_count": 81,
   "metadata": {},
   "outputs": [
    {
     "ename": "NameError",
     "evalue": "name 'hzdjz' is not defined",
     "output_type": "error",
     "traceback": [
      "\u001b[1;31m---------------------------------------------------------------------------\u001b[0m",
      "\u001b[1;31mNameError\u001b[0m                                 Traceback (most recent call last)",
      "Cell \u001b[1;32mIn[81], line 1\u001b[0m\n\u001b[1;32m----> 1\u001b[0m hzdjz\n",
      "\u001b[1;31mNameError\u001b[0m: name 'hzdjz' is not defined"
     ]
    }
   ],
   "source": [
    "hzdjz"
   ]
  },
  {
   "cell_type": "code",
   "execution_count": null,
   "metadata": {},
   "outputs": [],
   "source": [
    "#data.to_csv(\"all_flow_data_28th Oct'24.csv\", index=False)"
   ]
  },
  {
   "cell_type": "code",
   "execution_count": null,
   "metadata": {},
   "outputs": [],
   "source": []
  },
  {
   "cell_type": "code",
   "execution_count": null,
   "metadata": {},
   "outputs": [],
   "source": []
  },
  {
   "cell_type": "code",
   "execution_count": null,
   "metadata": {},
   "outputs": [],
   "source": []
  },
  {
   "cell_type": "code",
   "execution_count": null,
   "metadata": {},
   "outputs": [],
   "source": []
  },
  {
   "cell_type": "code",
   "execution_count": null,
   "metadata": {},
   "outputs": [],
   "source": [
    "sas"
   ]
  },
  {
   "cell_type": "code",
   "execution_count": null,
   "metadata": {},
   "outputs": [],
   "source": [
    "\n",
    "\n",
    "# Convert to datetime\n",
    "data['Last QC Pending Timestamp'] = pd.to_datetime(data['Last QC Pending Timestamp'])\n",
    "data['Final TimeStamp'] = pd.to_datetime(data['Final TimeStamp'])\n",
    "\n",
    "# Define active hours (08:30 AM - 09:30 PM)\n",
    "active_start_time = pd.to_timedelta('08:30:00')\n",
    "active_end_time = pd.to_timedelta('21:30:00')\n",
    "\n",
    "# Function to calculate active duration for each row\n",
    "def calculate_active_duration(row):\n",
    "    start = row['Last QC Pending Timestamp']\n",
    "    end = row['Final TimeStamp']\n",
    "    \n",
    "    # Check if either start or end is NaT\n",
    "    if pd.isna(start) or pd.isna(end):\n",
    "        return \"00:00:00\"  # Return 0 hours if either is NaT\n",
    "    \n",
    "    # Initialize total active duration\n",
    "    total_active_duration = pd.Timedelta(0)\n",
    "    \n",
    "    # Iterate over each date from start to end\n",
    "    for single_date in pd.date_range(start=start.date(), end=end.date()):\n",
    "        active_start = pd.Timestamp(single_date) + active_start_time\n",
    "        active_end = pd.Timestamp(single_date) + active_end_time\n",
    "        \n",
    "        # Determine the effective active period for this day\n",
    "        effective_start = max(start, active_start)\n",
    "        effective_end = min(end, active_end)\n",
    "\n",
    "        # If there's a valid active period, add its duration\n",
    "        if effective_start < effective_end:\n",
    "            total_active_duration += effective_end - effective_start\n",
    "\n",
    "    # Convert total active duration to hours\n",
    "    total_hours = total_active_duration.total_seconds() / 3600\n",
    "    \n",
    "    # Format the hours to HH:MM:SS\n",
    "    hours = int(total_hours)\n",
    "    minutes = int((total_hours - hours) * 60)\n",
    "    seconds = int(((total_hours - hours) * 60 - minutes) * 60)\n",
    "    \n",
    "    return f\"{hours:02}:{minutes:02}:{seconds:02}\"\n",
    "\n",
    "# Apply the function to each row\n",
    "data['TAT'] = data.apply(calculate_active_duration, axis=1)\n",
    "\n",
    "# Display the result\n",
    "print(data[['Last QC Pending Timestamp', 'Final TimeStamp', 'TAT']])\n",
    "print(len(data))\n"
   ]
  },
  {
   "cell_type": "code",
   "execution_count": null,
   "metadata": {},
   "outputs": [],
   "source": [
    "# data['TAT']=data['Final TimeStamp']-data['Last QC Pending Timestamp']\n",
    "# data['TAT']=data['TAT'].apply(lambda x: str(x).split()[-1] if pd.notna(x) else 'NaT')\n",
    "print(data.columns)\n",
    "print(len(data))"
   ]
  },
  {
   "cell_type": "code",
   "execution_count": null,
   "metadata": {},
   "outputs": [],
   "source": [
    "print(data[['Final TimeStamp','Last QC Pending Timestamp','TAT']].head(10))\n",
    "print(len(data))"
   ]
  },
  {
   "cell_type": "code",
   "execution_count": null,
   "metadata": {},
   "outputs": [],
   "source": [
    "len(data[((data['Lead Status']=='Merchant Live') | (data['Lead Status']=='Documents Rejected (Pending at Sales Team)'))&(data['TAT'].isnull())])"
   ]
  },
  {
   "cell_type": "code",
   "execution_count": null,
   "metadata": {},
   "outputs": [],
   "source": [
    "data[\"TAT\"]=pd.to_timedelta(data['TAT'])\n",
    "\n",
    "\n",
    "\n",
    "print(data[['Final TimeStamp','Last QC Pending Timestamp','TAT']].head(10))"
   ]
  },
  {
   "cell_type": "code",
   "execution_count": null,
   "metadata": {},
   "outputs": [],
   "source": [
    "type(data['TAT'][0])"
   ]
  },
  {
   "cell_type": "code",
   "execution_count": null,
   "metadata": {},
   "outputs": [],
   "source": [
    "def categorize_time(td):\n",
    "    total_minutes = td.total_seconds() / 60  # Convert timedelta to total minutes\n",
    "    if total_minutes < 16:\n",
    "        return 'Leads QCed in less than 15 min'\n",
    "    elif 16 <= total_minutes < 36:\n",
    "        return 'Leads QCed in between 15-30 min'\n",
    "    elif 36 <= total_minutes < 66:\n",
    "        return 'Leads QCed in between 30 min -1 hr'\n",
    "    elif 66 <= total_minutes < 126:\n",
    "        return 'Leads QCed in between 1 - 2 hr'\n",
    "    elif 126 <= total_minutes < 186:\n",
    "        return 'Leads QCed in between 2-3 hr'\n",
    "    elif 186 <= total_minutes < 246:\n",
    "        return 'Leads QCed in between 3-4 hr'\n",
    "    else:\n",
    "        return 'leads QCed in more than 4 hrs'\n",
    "\n",
    "\n",
    "\n",
    "data.loc[(data['Lead Status']=='Merchant Live') | (data['Lead Status']=='Documents Rejected (Pending at Sales Team)'),'Merchant QC TAT slab']=data['TAT'].apply(categorize_time)\n",
    "\n",
    "\n",
    "    \n",
    "\n"
   ]
  },
  {
   "cell_type": "code",
   "execution_count": null,
   "metadata": {},
   "outputs": [],
   "source": [
    "print(data['Merchant QC TAT slab'].value_counts())\n",
    "print(len(data))"
   ]
  },
  {
   "cell_type": "code",
   "execution_count": null,
   "metadata": {},
   "outputs": [],
   "source": [
    "data['TAT'].head(10)"
   ]
  },
  {
   "cell_type": "code",
   "execution_count": null,
   "metadata": {},
   "outputs": [],
   "source": [
    "\n",
    "# Function to convert timedelta to HH:MM:SS format with cumulative hours\n",
    "def format_timedelta(td):\n",
    "    total_seconds = int(td.total_seconds())\n",
    "    hours, remainder = divmod(total_seconds, 3600)  # Convert total seconds to hours\n",
    "    minutes, seconds = divmod(remainder, 60)\n",
    "    return f'{hours:02}:{minutes:02}:{seconds:02}'  # Format as HH:MM:SS\n",
    "\n",
    "# Apply the function to convert timedelta to HH:MM:SS\n",
    "data['TAT'] = data['TAT'].apply(format_timedelta)"
   ]
  },
  {
   "cell_type": "code",
   "execution_count": null,
   "metadata": {},
   "outputs": [],
   "source": [
    "data.loc[(data['Lead Status']!='Merchant Live') & (data['Lead Status']!='Documents Rejected (Pending at Sales Team)'),'TAT']=''\n",
    "\n",
    "data['TAT'].head(10)"
   ]
  },
  {
   "cell_type": "code",
   "execution_count": null,
   "metadata": {},
   "outputs": [],
   "source": [
    "data.columns"
   ]
  },
  {
   "cell_type": "code",
   "execution_count": null,
   "metadata": {},
   "outputs": [],
   "source": [
    "data=data.drop(columns=['Working TimeSlab','New Off Time','New Last QC Pending Time','Node id'])\n",
    "data.columns"
   ]
  },
  {
   "cell_type": "code",
   "execution_count": null,
   "metadata": {},
   "outputs": [],
   "source": [
    "col=data.pop('TAT')\n",
    "\n",
    "t=data.columns.get_loc('Merchant QC TAT slab')\n",
    "\n",
    "data.insert(t+1,'TAT',col)\n",
    "\n",
    "data.columns"
   ]
  },
  {
   "cell_type": "code",
   "execution_count": null,
   "metadata": {},
   "outputs": [],
   "source": [
    "data['solution_type_level_3'].unique()\n",
    "len(data)"
   ]
  },
  {
   "cell_type": "code",
   "execution_count": null,
   "metadata": {},
   "outputs": [],
   "source": [
    "data_acup_kyc=data[data['solution_type_level_3'].isin(['ACCOUNT_UPGRADE', 'KYC_UPDATE'])]\n",
    "data_mco=data[~data['solution_type_level_3'].isin(['ACCOUNT_UPGRADE', 'KYC_UPDATE'])]"
   ]
  },
  {
   "cell_type": "code",
   "execution_count": null,
   "metadata": {},
   "outputs": [],
   "source": [
    "#raise Exception(\"Stop execution here\")"
   ]
  },
  {
   "cell_type": "code",
   "execution_count": null,
   "metadata": {},
   "outputs": [],
   "source": [
    "with pd.ExcelWriter(\"all_flow_data_21st Oct'24.xlsx\") as writer:\n",
    "    # Write the original dataframe to the first sheet\n",
    "    data.to_excel(writer, sheet_name='All Data', index=False)\n",
    "    \n",
    "    # Write data filtered by Category 'A' and 'C' to the second sheet\n",
    "    data_acup_kyc.to_excel(writer, sheet_name=' KYC & ACC UPGD', index=False)\n",
    "    \n",
    "    # Write data filtered by Category 'B' and 'D' to the third sheet\n",
    "    data_mco.to_excel(writer, sheet_name='MCO', index=False)"
   ]
  },
  {
   "cell_type": "code",
   "execution_count": null,
   "metadata": {},
   "outputs": [],
   "source": [
    "data.to_csv(\"all_flow_data_19th Oct'24.csv\", index=False)\n"
   ]
  }
 ],
 "metadata": {
  "kernelspec": {
   "display_name": "base",
   "language": "python",
   "name": "python3"
  },
  "language_info": {
   "codemirror_mode": {
    "name": "ipython",
    "version": 3
   },
   "file_extension": ".py",
   "mimetype": "text/x-python",
   "name": "python",
   "nbconvert_exporter": "python",
   "pygments_lexer": "ipython3",
   "version": "3.12.7"
  }
 },
 "nbformat": 4,
 "nbformat_minor": 2
}
